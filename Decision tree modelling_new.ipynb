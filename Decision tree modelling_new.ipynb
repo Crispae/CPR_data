{
 "cells": [
  {
   "cell_type": "code",
   "execution_count": 1,
   "id": "cf3203a8",
   "metadata": {},
   "outputs": [],
   "source": [
    "import pandas as pd"
   ]
  },
  {
   "cell_type": "code",
   "execution_count": 2,
   "id": "29a34112",
   "metadata": {},
   "outputs": [],
   "source": [
    "data = pd.read_excel(\"Decision Tree data.xlsx\")"
   ]
  },
  {
   "cell_type": "code",
   "execution_count": 3,
   "id": "ce6a8a4e",
   "metadata": {},
   "outputs": [
    {
     "data": {
      "text/html": [
       "<div>\n",
       "<style scoped>\n",
       "    .dataframe tbody tr th:only-of-type {\n",
       "        vertical-align: middle;\n",
       "    }\n",
       "\n",
       "    .dataframe tbody tr th {\n",
       "        vertical-align: top;\n",
       "    }\n",
       "\n",
       "    .dataframe thead th {\n",
       "        text-align: right;\n",
       "    }\n",
       "</style>\n",
       "<table border=\"1\" class=\"dataframe\">\n",
       "  <thead>\n",
       "    <tr style=\"text-align: right;\">\n",
       "      <th></th>\n",
       "      <th>Caso</th>\n",
       "      <th>Female</th>\n",
       "      <th>Age</th>\n",
       "      <th>Total CPR duration</th>\n",
       "      <th>Mechanical compressions</th>\n",
       "      <th>BMI</th>\n",
       "      <th>Abdominal perimeter</th>\n",
       "      <th>Thorax perimeter</th>\n",
       "      <th>Heart Mass</th>\n",
       "      <th>CMR</th>\n",
       "      <th>SRD (LTOG)</th>\n",
       "    </tr>\n",
       "  </thead>\n",
       "  <tbody>\n",
       "    <tr>\n",
       "      <th>0</th>\n",
       "      <td>2</td>\n",
       "      <td>0</td>\n",
       "      <td>69</td>\n",
       "      <td>41</td>\n",
       "      <td>0</td>\n",
       "      <td>31.64</td>\n",
       "      <td>98.0</td>\n",
       "      <td>100.0</td>\n",
       "      <td>538.0</td>\n",
       "      <td>1.464942</td>\n",
       "      <td>0</td>\n",
       "    </tr>\n",
       "    <tr>\n",
       "      <th>1</th>\n",
       "      <td>3</td>\n",
       "      <td>0</td>\n",
       "      <td>63</td>\n",
       "      <td>40</td>\n",
       "      <td>0</td>\n",
       "      <td>28.69</td>\n",
       "      <td>105.0</td>\n",
       "      <td>109.0</td>\n",
       "      <td>504.0</td>\n",
       "      <td>1.372362</td>\n",
       "      <td>1</td>\n",
       "    </tr>\n",
       "    <tr>\n",
       "      <th>2</th>\n",
       "      <td>4</td>\n",
       "      <td>1</td>\n",
       "      <td>63</td>\n",
       "      <td>35</td>\n",
       "      <td>0</td>\n",
       "      <td>31.25</td>\n",
       "      <td>104.0</td>\n",
       "      <td>116.0</td>\n",
       "      <td>450.0</td>\n",
       "      <td>1.382913</td>\n",
       "      <td>1</td>\n",
       "    </tr>\n",
       "    <tr>\n",
       "      <th>3</th>\n",
       "      <td>7</td>\n",
       "      <td>0</td>\n",
       "      <td>67</td>\n",
       "      <td>26</td>\n",
       "      <td>0</td>\n",
       "      <td>28.41</td>\n",
       "      <td>96.0</td>\n",
       "      <td>100.0</td>\n",
       "      <td>640.0</td>\n",
       "      <td>1.630989</td>\n",
       "      <td>0</td>\n",
       "    </tr>\n",
       "    <tr>\n",
       "      <th>4</th>\n",
       "      <td>8</td>\n",
       "      <td>0</td>\n",
       "      <td>52</td>\n",
       "      <td>33</td>\n",
       "      <td>0</td>\n",
       "      <td>41.97</td>\n",
       "      <td>134.0</td>\n",
       "      <td>NaN</td>\n",
       "      <td>NaN</td>\n",
       "      <td>1.260000</td>\n",
       "      <td>1</td>\n",
       "    </tr>\n",
       "  </tbody>\n",
       "</table>\n",
       "</div>"
      ],
      "text/plain": [
       "   Caso  Female  Age  Total CPR duration  Mechanical compressions    BMI  \\\n",
       "0     2       0   69                  41                        0  31.64   \n",
       "1     3       0   63                  40                        0  28.69   \n",
       "2     4       1   63                  35                        0  31.25   \n",
       "3     7       0   67                  26                        0  28.41   \n",
       "4     8       0   52                  33                        0  41.97   \n",
       "\n",
       "   Abdominal perimeter  Thorax perimeter  Heart Mass       CMR  SRD (LTOG)  \n",
       "0                 98.0             100.0       538.0  1.464942           0  \n",
       "1                105.0             109.0       504.0  1.372362           1  \n",
       "2                104.0             116.0       450.0  1.382913           1  \n",
       "3                 96.0             100.0       640.0  1.630989           0  \n",
       "4                134.0               NaN         NaN  1.260000           1  "
      ]
     },
     "execution_count": 3,
     "metadata": {},
     "output_type": "execute_result"
    }
   ],
   "source": [
    "data.head()"
   ]
  },
  {
   "cell_type": "code",
   "execution_count": 4,
   "id": "6a259812",
   "metadata": {},
   "outputs": [
    {
     "data": {
      "text/plain": [
       "Caso                        0\n",
       "Female                      0\n",
       "Age                         0\n",
       "Total CPR duration          0\n",
       "Mechanical compressions     0\n",
       "BMI                         3\n",
       "Abdominal perimeter         7\n",
       "Thorax perimeter           12\n",
       "Heart Mass                  1\n",
       "CMR                         0\n",
       "SRD (LTOG)                  0\n",
       "dtype: int64"
      ]
     },
     "execution_count": 4,
     "metadata": {},
     "output_type": "execute_result"
    }
   ],
   "source": [
    "## Data describ\n",
    "data.isna().sum()\n",
    "\n",
    "## There are 66 missing in BMI 7 in AP,12 TP, 1 in heart mass value"
   ]
  },
  {
   "cell_type": "markdown",
   "id": "f498f57c",
   "metadata": {},
   "source": [
    "### VIF analysis\n",
    "\n",
    "To measure the multicollinearity among the variables"
   ]
  },
  {
   "cell_type": "code",
   "execution_count": 5,
   "id": "c9c23184",
   "metadata": {},
   "outputs": [],
   "source": [
    "from statsmodels.stats.outliers_influence import variance_inflation_factor\n",
    "import numpy as np"
   ]
  },
  {
   "cell_type": "code",
   "execution_count": 6,
   "id": "d62ea9ad",
   "metadata": {},
   "outputs": [
    {
     "name": "stderr",
     "output_type": "stream",
     "text": [
      "C:\\Users\\saurav\\AppData\\Local\\Temp\\ipykernel_9096\\255674936.py:2: FutureWarning: In a future version of pandas all arguments of DataFrame.any and Series.any will be keyword-only.\n",
      "  data_vif = data[~data.isin([np.nan,np.inf,-np.inf]).any(1)]\n"
     ]
    }
   ],
   "source": [
    "## dropping Na value\n",
    "data_vif = data[~data.isin([np.nan,np.inf,-np.inf]).any(1)]"
   ]
  },
  {
   "cell_type": "code",
   "execution_count": 7,
   "id": "ca7a5831",
   "metadata": {},
   "outputs": [
    {
     "name": "stderr",
     "output_type": "stream",
     "text": [
      "C:\\Users\\saurav\\AppData\\Local\\Temp\\ipykernel_9096\\1188724833.py:1: SettingWithCopyWarning: \n",
      "A value is trying to be set on a copy of a slice from a DataFrame\n",
      "\n",
      "See the caveats in the documentation: https://pandas.pydata.org/pandas-docs/stable/user_guide/indexing.html#returning-a-view-versus-a-copy\n",
      "  data_vif.drop([\"Caso\",\"SRD (LTOG)\"],axis=1,inplace=True)\n"
     ]
    }
   ],
   "source": [
    "data_vif.drop([\"Caso\",\"SRD (LTOG)\"],axis=1,inplace=True)"
   ]
  },
  {
   "cell_type": "code",
   "execution_count": 8,
   "id": "7c01a918",
   "metadata": {},
   "outputs": [],
   "source": [
    "vif_data = pd.DataFrame()\n",
    "vif_data[\"feature\"] = data_vif.columns\n",
    "vif_data[\"VIF\"] = [variance_inflation_factor(data_vif.values, i) for i in range(len(data_vif.columns))]"
   ]
  },
  {
   "cell_type": "code",
   "execution_count": 9,
   "id": "3400cd27",
   "metadata": {},
   "outputs": [
    {
     "data": {
      "text/html": [
       "<div>\n",
       "<style scoped>\n",
       "    .dataframe tbody tr th:only-of-type {\n",
       "        vertical-align: middle;\n",
       "    }\n",
       "\n",
       "    .dataframe tbody tr th {\n",
       "        vertical-align: top;\n",
       "    }\n",
       "\n",
       "    .dataframe thead th {\n",
       "        text-align: right;\n",
       "    }\n",
       "</style>\n",
       "<table border=\"1\" class=\"dataframe\">\n",
       "  <thead>\n",
       "    <tr style=\"text-align: right;\">\n",
       "      <th></th>\n",
       "      <th>Female</th>\n",
       "      <th>Age</th>\n",
       "      <th>Total CPR duration</th>\n",
       "      <th>Mechanical compressions</th>\n",
       "      <th>BMI</th>\n",
       "      <th>Abdominal perimeter</th>\n",
       "      <th>Thorax perimeter</th>\n",
       "      <th>Heart Mass</th>\n",
       "      <th>CMR</th>\n",
       "    </tr>\n",
       "  </thead>\n",
       "  <tbody>\n",
       "    <tr>\n",
       "      <th>0</th>\n",
       "      <td>0</td>\n",
       "      <td>69</td>\n",
       "      <td>41</td>\n",
       "      <td>0</td>\n",
       "      <td>31.64</td>\n",
       "      <td>98.0</td>\n",
       "      <td>100.0</td>\n",
       "      <td>538.0</td>\n",
       "      <td>1.464942</td>\n",
       "    </tr>\n",
       "    <tr>\n",
       "      <th>1</th>\n",
       "      <td>0</td>\n",
       "      <td>63</td>\n",
       "      <td>40</td>\n",
       "      <td>0</td>\n",
       "      <td>28.69</td>\n",
       "      <td>105.0</td>\n",
       "      <td>109.0</td>\n",
       "      <td>504.0</td>\n",
       "      <td>1.372362</td>\n",
       "    </tr>\n",
       "    <tr>\n",
       "      <th>2</th>\n",
       "      <td>1</td>\n",
       "      <td>63</td>\n",
       "      <td>35</td>\n",
       "      <td>0</td>\n",
       "      <td>31.25</td>\n",
       "      <td>104.0</td>\n",
       "      <td>116.0</td>\n",
       "      <td>450.0</td>\n",
       "      <td>1.382913</td>\n",
       "    </tr>\n",
       "    <tr>\n",
       "      <th>3</th>\n",
       "      <td>0</td>\n",
       "      <td>67</td>\n",
       "      <td>26</td>\n",
       "      <td>0</td>\n",
       "      <td>28.41</td>\n",
       "      <td>96.0</td>\n",
       "      <td>100.0</td>\n",
       "      <td>640.0</td>\n",
       "      <td>1.630989</td>\n",
       "    </tr>\n",
       "    <tr>\n",
       "      <th>6</th>\n",
       "      <td>0</td>\n",
       "      <td>42</td>\n",
       "      <td>24</td>\n",
       "      <td>0</td>\n",
       "      <td>22.31</td>\n",
       "      <td>75.0</td>\n",
       "      <td>81.0</td>\n",
       "      <td>320.0</td>\n",
       "      <td>1.009623</td>\n",
       "    </tr>\n",
       "    <tr>\n",
       "      <th>...</th>\n",
       "      <td>...</td>\n",
       "      <td>...</td>\n",
       "      <td>...</td>\n",
       "      <td>...</td>\n",
       "      <td>...</td>\n",
       "      <td>...</td>\n",
       "      <td>...</td>\n",
       "      <td>...</td>\n",
       "      <td>...</td>\n",
       "    </tr>\n",
       "    <tr>\n",
       "      <th>195</th>\n",
       "      <td>0</td>\n",
       "      <td>57</td>\n",
       "      <td>40</td>\n",
       "      <td>0</td>\n",
       "      <td>26.27</td>\n",
       "      <td>77.0</td>\n",
       "      <td>60.0</td>\n",
       "      <td>305.0</td>\n",
       "      <td>0.993841</td>\n",
       "    </tr>\n",
       "    <tr>\n",
       "      <th>196</th>\n",
       "      <td>0</td>\n",
       "      <td>60</td>\n",
       "      <td>44</td>\n",
       "      <td>0</td>\n",
       "      <td>32.91</td>\n",
       "      <td>111.0</td>\n",
       "      <td>112.0</td>\n",
       "      <td>547.0</td>\n",
       "      <td>1.359141</td>\n",
       "    </tr>\n",
       "    <tr>\n",
       "      <th>197</th>\n",
       "      <td>0</td>\n",
       "      <td>45</td>\n",
       "      <td>55</td>\n",
       "      <td>0</td>\n",
       "      <td>24.11</td>\n",
       "      <td>80.0</td>\n",
       "      <td>101.0</td>\n",
       "      <td>431.0</td>\n",
       "      <td>1.250671</td>\n",
       "    </tr>\n",
       "    <tr>\n",
       "      <th>198</th>\n",
       "      <td>0</td>\n",
       "      <td>71</td>\n",
       "      <td>26</td>\n",
       "      <td>1</td>\n",
       "      <td>27.82</td>\n",
       "      <td>102.0</td>\n",
       "      <td>106.0</td>\n",
       "      <td>574.0</td>\n",
       "      <td>1.641665</td>\n",
       "    </tr>\n",
       "    <tr>\n",
       "      <th>199</th>\n",
       "      <td>0</td>\n",
       "      <td>70</td>\n",
       "      <td>47</td>\n",
       "      <td>1</td>\n",
       "      <td>30.81</td>\n",
       "      <td>99.0</td>\n",
       "      <td>87.0</td>\n",
       "      <td>562.0</td>\n",
       "      <td>1.450809</td>\n",
       "    </tr>\n",
       "  </tbody>\n",
       "</table>\n",
       "<p>187 rows × 9 columns</p>\n",
       "</div>"
      ],
      "text/plain": [
       "     Female  Age  Total CPR duration  Mechanical compressions    BMI  \\\n",
       "0         0   69                  41                        0  31.64   \n",
       "1         0   63                  40                        0  28.69   \n",
       "2         1   63                  35                        0  31.25   \n",
       "3         0   67                  26                        0  28.41   \n",
       "6         0   42                  24                        0  22.31   \n",
       "..      ...  ...                 ...                      ...    ...   \n",
       "195       0   57                  40                        0  26.27   \n",
       "196       0   60                  44                        0  32.91   \n",
       "197       0   45                  55                        0  24.11   \n",
       "198       0   71                  26                        1  27.82   \n",
       "199       0   70                  47                        1  30.81   \n",
       "\n",
       "     Abdominal perimeter  Thorax perimeter  Heart Mass       CMR  \n",
       "0                   98.0             100.0       538.0  1.464942  \n",
       "1                  105.0             109.0       504.0  1.372362  \n",
       "2                  104.0             116.0       450.0  1.382913  \n",
       "3                   96.0             100.0       640.0  1.630989  \n",
       "6                   75.0              81.0       320.0  1.009623  \n",
       "..                   ...               ...         ...       ...  \n",
       "195                 77.0              60.0       305.0  0.993841  \n",
       "196                111.0             112.0       547.0  1.359141  \n",
       "197                 80.0             101.0       431.0  1.250671  \n",
       "198                102.0             106.0       574.0  1.641665  \n",
       "199                 99.0              87.0       562.0  1.450809  \n",
       "\n",
       "[187 rows x 9 columns]"
      ]
     },
     "execution_count": 9,
     "metadata": {},
     "output_type": "execute_result"
    }
   ],
   "source": [
    "data_vif"
   ]
  },
  {
   "cell_type": "code",
   "execution_count": 10,
   "id": "a80d6a0b",
   "metadata": {},
   "outputs": [
    {
     "data": {
      "text/html": [
       "<div>\n",
       "<style scoped>\n",
       "    .dataframe tbody tr th:only-of-type {\n",
       "        vertical-align: middle;\n",
       "    }\n",
       "\n",
       "    .dataframe tbody tr th {\n",
       "        vertical-align: top;\n",
       "    }\n",
       "\n",
       "    .dataframe thead th {\n",
       "        text-align: right;\n",
       "    }\n",
       "</style>\n",
       "<table border=\"1\" class=\"dataframe\">\n",
       "  <thead>\n",
       "    <tr style=\"text-align: right;\">\n",
       "      <th></th>\n",
       "      <th>feature</th>\n",
       "      <th>VIF</th>\n",
       "    </tr>\n",
       "  </thead>\n",
       "  <tbody>\n",
       "    <tr>\n",
       "      <th>0</th>\n",
       "      <td>Female</td>\n",
       "      <td>3.105764</td>\n",
       "    </tr>\n",
       "    <tr>\n",
       "      <th>1</th>\n",
       "      <td>Age</td>\n",
       "      <td>23.541955</td>\n",
       "    </tr>\n",
       "    <tr>\n",
       "      <th>2</th>\n",
       "      <td>Total CPR duration</td>\n",
       "      <td>6.880562</td>\n",
       "    </tr>\n",
       "    <tr>\n",
       "      <th>3</th>\n",
       "      <td>Mechanical compressions</td>\n",
       "      <td>1.737282</td>\n",
       "    </tr>\n",
       "    <tr>\n",
       "      <th>4</th>\n",
       "      <td>BMI</td>\n",
       "      <td>117.146855</td>\n",
       "    </tr>\n",
       "    <tr>\n",
       "      <th>5</th>\n",
       "      <td>Abdominal perimeter</td>\n",
       "      <td>231.525221</td>\n",
       "    </tr>\n",
       "    <tr>\n",
       "      <th>6</th>\n",
       "      <td>Thorax perimeter</td>\n",
       "      <td>197.216976</td>\n",
       "    </tr>\n",
       "    <tr>\n",
       "      <th>7</th>\n",
       "      <td>Heart Mass</td>\n",
       "      <td>150.315851</td>\n",
       "    </tr>\n",
       "    <tr>\n",
       "      <th>8</th>\n",
       "      <td>CMR</td>\n",
       "      <td>150.163423</td>\n",
       "    </tr>\n",
       "  </tbody>\n",
       "</table>\n",
       "</div>"
      ],
      "text/plain": [
       "                   feature         VIF\n",
       "0                   Female    3.105764\n",
       "1                      Age   23.541955\n",
       "2       Total CPR duration    6.880562\n",
       "3  Mechanical compressions    1.737282\n",
       "4                      BMI  117.146855\n",
       "5      Abdominal perimeter  231.525221\n",
       "6         Thorax perimeter  197.216976\n",
       "7               Heart Mass  150.315851\n",
       "8                      CMR  150.163423"
      ]
     },
     "execution_count": 10,
     "metadata": {},
     "output_type": "execute_result"
    }
   ],
   "source": [
    "vif_data"
   ]
  },
  {
   "cell_type": "markdown",
   "id": "9e675b7a",
   "metadata": {},
   "source": [
    "#### vif analysis\n",
    "This shows that, most of the varibales are highly corellated, whereas in case of femalae and male\n",
    "compression, data is binary so doesn´t show that much of influence."
   ]
  },
  {
   "cell_type": "code",
   "execution_count": 11,
   "id": "fac4d1ca",
   "metadata": {},
   "outputs": [
    {
     "data": {
      "text/plain": [
       "<AxesSubplot:>"
      ]
     },
     "execution_count": 11,
     "metadata": {},
     "output_type": "execute_result"
    },
    {
     "data": {
      "image/png": "[encoded data removed]",
      "text/plain": [
       "<Figure size 640x480 with 2 Axes>"
      ]
     },
     "metadata": {},
     "output_type": "display_data"
    }
   ],
   "source": [
    "import seaborn as sns\n",
    "sns.heatmap(data_vif.corr())"
   ]
  },
  {
   "cell_type": "markdown",
   "id": "93f2b0fd",
   "metadata": {},
   "source": [
    "### Decison tree Modellling\n",
    "\n",
    "___\n"
   ]
  },
  {
   "cell_type": "markdown",
   "id": "556e9d06",
   "metadata": {},
   "source": [
    "#### Clinically relevant variables\n",
    "1. Age\n",
    "2. Sex\n",
    "3. Total CPR time\n",
    "4. mechanical compressions\n",
    "5. Abdominal perimeter\n",
    "6. Thorax perimeter\n",
    "7. Heart Mass/CMR\n",
    "\n",
    "**Decision tree parameter**\n",
    "1. Depth 4\n",
    "2. Node splitting 30\n",
    "3. leaf splitting 4\n",
    "4. Gini impurity"
   ]
  },
  {
   "cell_type": "code",
   "execution_count": 12,
   "id": "c098284e",
   "metadata": {},
   "outputs": [],
   "source": [
    "import matplotlib.pyplot as plt\n",
    "from collections import Counter\n",
    "import seaborn as sns\n",
    "import numpy as np"
   ]
  },
  {
   "cell_type": "code",
   "execution_count": 13,
   "id": "35640bf7",
   "metadata": {},
   "outputs": [],
   "source": [
    "from sklearn import tree\n",
    "from sklearn.tree import export_text"
   ]
  },
  {
   "cell_type": "code",
   "execution_count": 14,
   "id": "5556e515",
   "metadata": {},
   "outputs": [],
   "source": [
    "data.drop(\"Caso\",axis=1,inplace=True)"
   ]
  },
  {
   "cell_type": "code",
   "execution_count": 15,
   "id": "d3ce86ed",
   "metadata": {},
   "outputs": [
    {
     "data": {
      "text/plain": [
       "Female                      0\n",
       "Age                         0\n",
       "Total CPR duration          0\n",
       "Mechanical compressions     0\n",
       "BMI                         3\n",
       "Abdominal perimeter         7\n",
       "Thorax perimeter           12\n",
       "Heart Mass                  1\n",
       "CMR                         0\n",
       "SRD (LTOG)                  0\n",
       "dtype: int64"
      ]
     },
     "execution_count": 15,
     "metadata": {},
     "output_type": "execute_result"
    }
   ],
   "source": [
    "data.isna().sum()"
   ]
  },
  {
   "cell_type": "markdown",
   "id": "52ce14eb",
   "metadata": {},
   "source": [
    "### Filling NA value\n",
    "\n",
    "1. Fill the NA value with mean of the distribution.\n"
   ]
  },
  {
   "cell_type": "code",
   "execution_count": 16,
   "id": "fa096e33",
   "metadata": {},
   "outputs": [],
   "source": [
    "### Fill the NA value\n",
    "data[\"BMI\"].fillna(data[\"BMI\"].mean(),inplace=True)\n",
    "data[\"Abdominal perimeter\"].fillna(data[\"Abdominal perimeter\"].mean(),inplace=True)\n",
    "data[\"Thorax perimeter\"].fillna(data[\"Thorax perimeter\"].mean(),inplace=True)\n",
    "data[\"Heart Mass\"].fillna(data[\"Heart Mass\"].mean(),inplace=True)"
   ]
  },
  {
   "cell_type": "markdown",
   "id": "db00a80e",
   "metadata": {},
   "source": [
    "### Functions for model evaluation and plotting"
   ]
  },
  {
   "cell_type": "markdown",
   "id": "94d922c1",
   "metadata": {},
   "source": [
    "#### Single Evaluation of model"
   ]
  },
  {
   "cell_type": "code",
   "execution_count": 17,
   "id": "0470d5ae",
   "metadata": {},
   "outputs": [],
   "source": [
    "from sklearn.metrics import accuracy_score,f1_score,recall_score,precision_score,roc_auc_score,matthews_corrcoef\n",
    "\n",
    "def model_eval(model,x_train,x_test,y_train,y_test):\n",
    "    \n",
    "    \"\"\" \n",
    "    Model Eval take the model and data to return score on just one run\n",
    "    ,data can be reshulled befor input\n",
    "    \n",
    "    \"\"\"\n",
    "    \n",
    "    ## Accuracy\n",
    "    train_accuracy = accuracy_score(model.predict(X_train),y_train)\n",
    "    test_accuracy = accuracy_score(model.predict(X_test),y_test)\n",
    "\n",
    "    ## F1 score\n",
    "    train_f1 = f1_score(model.predict(X_train),y_train)\n",
    "    test_f1 = f1_score(model.predict(X_test),y_test)\n",
    "\n",
    "    ## Recall\n",
    "    train_recall = recall_score(model.predict(X_train),y_train)\n",
    "    test_recall = recall_score(model.predict(X_test),y_test)\n",
    "\n",
    "    ## Precision\n",
    "    train_precision = precision_score(model.predict(X_train),y_train)\n",
    "    test_precision = precision_score(model.predict(X_test),y_test)\n",
    "\n",
    "    ### ROC_AUC score\n",
    "    train_roc = roc_auc_score(model.predict(X_train),y_train)\n",
    "    test_roc = roc_auc_score(model.predict(X_test),y_test)\n",
    "\n",
    "    ### mcc Score \n",
    "    train_mcc = matthews_corrcoef(model.predict(X_train),y_train)\n",
    "    test_mcc = matthews_corrcoef(model.predict(X_test),y_test)\n",
    "\n",
    "\n",
    "    print(\"Accuracy: \",train_accuracy,\",\",test_accuracy)\n",
    "    print(\"F1: \",train_f1,\",\",test_f1)\n",
    "    print(\"Recall: \",train_recall,\",\",test_recall)\n",
    "    print(\"Precision: \",train_precision,\",\",test_precision)\n",
    "    print(\"ROC: \",train_roc,\",\",test_roc)\n",
    "    print(\"MCC: \",train_mcc,\",\",test_mcc)"
   ]
  },
  {
   "cell_type": "markdown",
   "id": "8ef9adfb",
   "metadata": {},
   "source": [
    "#### Evaluation of model on stratified loop"
   ]
  },
  {
   "cell_type": "code",
   "execution_count": 18,
   "id": "c0ca4beb",
   "metadata": {},
   "outputs": [],
   "source": [
    "### splitting the and training and evaluating at 5 fold\n",
    "from sklearn.model_selection import train_test_split, StratifiedKFold\n",
    "from sklearn.metrics import accuracy_score,f1_score,recall_score,precision_score,matthews_corrcoef,roc_auc_score\n",
    "\n",
    "\n",
    "def stratifiedEvaluation(classifier,X,Y,split):\n",
    "    \n",
    "    \"\"\" Split the data into multiple folds, train and test the model\n",
    "        on each folds, calculate the metrics as well.\n",
    "    \n",
    "    \"\"\"\n",
    "    X = np.array(X)\n",
    "    Y = np.array(Y)\n",
    "    \n",
    "    skf = StratifiedKFold(n_splits=split,shuffle=True,random_state=44444,)\n",
    "\n",
    "    ### Metrics container:\n",
    "\n",
    "    ## Accuracy\n",
    "    train_acc = []\n",
    "    test_acc =  []\n",
    "\n",
    "    ## F1 score\n",
    "    train_F1 = []\n",
    "    test_F1 =  []\n",
    "\n",
    "    ## Recall score\n",
    "    train_rec = []\n",
    "    test_rec =  []\n",
    "\n",
    "    ## Precision Score\n",
    "    train_prec = []\n",
    "    test_prec  = []\n",
    "\n",
    "    ## Matthe corre_coef\n",
    "    train_matt = []\n",
    "    test_matt =  []\n",
    "\n",
    "    ## roc_auc score\n",
    "    train_roc_ = []\n",
    "    test_roc_ = []\n",
    "\n",
    "\n",
    "    for train_index, test_index in skf.split(X, Y,):\n",
    "        X_train, X_test = X[train_index], X[test_index]\n",
    "        y_train, y_test = Y[train_index], Y[test_index]\n",
    "\n",
    "        ### Model Training\n",
    "        model = clf.fit(X_train,y_train)\n",
    "\n",
    "        ### Train and Test prediciton\n",
    "        train_pred = model.predict(X_train,)\n",
    "        test_pred  = model.predict(X_test,)\n",
    "\n",
    "\n",
    "        ### Metrics calculation\n",
    "\n",
    "        ### Accuracy\n",
    "        train_accuracy = accuracy_score(train_pred,y_train)\n",
    "        train_acc.append(train_accuracy)\n",
    "        test_accuracy = accuracy_score(test_pred,y_test)\n",
    "        test_acc.append(test_accuracy)\n",
    "\n",
    "        ### F1 score\n",
    "        train_f1 = f1_score(train_pred,y_train)\n",
    "        train_F1.append(train_f1)\n",
    "        test_f1 =  f1_score(test_pred,y_test)\n",
    "        test_F1.append(test_f1)\n",
    "\n",
    "        ### Recall_score\n",
    "        train_recall = recall_score(train_pred,y_train)\n",
    "        train_rec.append(train_recall)\n",
    "        test_recall = recall_score(test_pred,y_test)\n",
    "        test_rec.append(test_recall)\n",
    "\n",
    "        ### Precision score\n",
    "        train_precision = precision_score(train_pred,y_train)\n",
    "        train_prec.append(train_precision)\n",
    "        test_precision = precision_score(test_pred,y_test)\n",
    "        test_prec.append(test_precision)\n",
    "\n",
    "        ### Matthew corre_coef\n",
    "        train_mcc = matthews_corrcoef(train_pred,y_train)\n",
    "        train_matt.append(train_mcc)\n",
    "        test_mcc =  matthews_corrcoef(test_pred,y_test)\n",
    "        test_matt.append(test_mcc)\n",
    "\n",
    "        ### ROC_auc prediction\n",
    "        train_roc = roc_auc_score(train_pred,y_train)\n",
    "        train_roc_.append(train_roc)\n",
    "        test_roc =  roc_auc_score(test_pred,y_test)\n",
    "        test_roc_.append(test_roc)\n",
    "\n",
    "        print()\n",
    "\n",
    "        print(f\"\"\" accuracy_train: {train_accuracy}, accuracy_test: {test_accuracy}\n",
    "                   f1_train: {train_f1}, f1_test: {test_f1}\n",
    "                   recall_train: {train_recall},recall_test: {test_recall}\n",
    "                   precision_train: {train_precision}, precision_test: {test_precision}\n",
    "                   mcc_train: {train_mcc}, mcc_test: {test_mcc}\n",
    "                   roc_train : {train_roc},roc_test: {test_roc}\"\"\")\n",
    "        print()\n",
    "\n",
    "\n",
    "    print(\"Average Score---------------------------------------\")\n",
    "    print(f\"\"\"     accuracy_train: {np.mean(train_acc)}, accuracy_test: {np.mean(test_acc)}\n",
    "                   f1_train: {np.mean(train_F1)}, f1_test: {np.mean(test_F1)}\n",
    "                   recall_train: {np.mean(train_rec)},recall_test: {np.mean(test_rec)}\n",
    "                   precision_train: {np.mean(train_prec)}, precision_test: {np.mean(test_prec)}\n",
    "                   mcc_train: {np.mean(train_matt)}, mcc_test: {np.mean(test_matt)},\n",
    "                   roc_train: {np.mean(train_roc_)}, roc_test: {np.mean(test_roc_)}\"\"\")\n",
    "    \n",
    "    result_dict = {\"test_acc\":test_acc,\n",
    "                  \"test_F1\":test_F1,\n",
    "                  \"test_rec\":test_rec,\n",
    "                  \"test_prec\":test_prec,\n",
    "                  \"test_matt\":test_matt,\n",
    "                  \"test_roc\":test_roc_,}\n",
    "    \n",
    "    return result_dict"
   ]
  },
  {
   "cell_type": "code",
   "execution_count": 19,
   "id": "0973e4a1",
   "metadata": {},
   "outputs": [],
   "source": [
    "def MetricsPlotInput(test_acc,\n",
    "                test_F1,\n",
    "                test_rec,\n",
    "                test_prec,\n",
    "                test_matt,\n",
    "                test_roc):\n",
    "    \"\"\" \n",
    "    \n",
    "    calculate the mean and standard deviation of all metrics\n",
    "    \n",
    "    \"\"\"\n",
    "        \n",
    "    # Create lists for the plot\n",
    "    metrics= ['Accuracy',\n",
    "              'F1 score',\n",
    "              'Recall',\n",
    "              'Precision',\n",
    "              'MCC',\n",
    "              'ROC']\n",
    "\n",
    "    x_pos = np.arange(len(metrics))\n",
    "\n",
    "    CTEs = [np.mean(test_acc),\n",
    "            np.mean(test_F1),\n",
    "            np.mean(test_rec),\n",
    "            np.mean(test_prec),\n",
    "            np.mean(test_matt),\n",
    "            np.mean(test_roc)]\n",
    "\n",
    "    error = [np.std(test_acc),\n",
    "             np.std(test_F1),\n",
    "             np.std(test_rec),\n",
    "             np.std(test_prec),\n",
    "             np.std(test_matt),\n",
    "             np.std(test_roc)]\n",
    "    \n",
    "    return {\"metrics\":metrics,\n",
    "           \"x_pos\":x_pos,\n",
    "           \"CTEs\":CTEs,\n",
    "           \"error\":error}\n",
    "    \n",
    "    "
   ]
  },
  {
   "cell_type": "code",
   "execution_count": 20,
   "id": "3b915d94",
   "metadata": {},
   "outputs": [],
   "source": [
    "from matplotlib.pyplot import figure\n",
    "\n",
    "def plot(name,metrics,x_pos,CTEs,error):\n",
    "    figure(figsize=(20, 30), dpi=100)\n",
    "    sns.set_context(\"talk\")\n",
    "    fig, ax = plt.subplots()\n",
    "    ax.bar(x_pos, CTEs, yerr=error, align='center', alpha=0.5, ecolor='black', capsize=10)\n",
    "    \n",
    "    ax.set_ylabel('Metrics Score')\n",
    "    ax.set_xticks(x_pos)\n",
    "    plt.xticks(rotation = 45)\n",
    "    ax.set_xticklabels(metrics)\n",
    "    ax.set_title('Comparision of metrics with 95% CI')\n",
    "    ax.yaxis.grid(True)\n",
    "\n",
    "    # # Save the figure and show\n",
    "    plt.tight_layout()\n",
    "    plt.savefig(name)\n",
    "    plt.show()\n",
    "    "
   ]
  },
  {
   "cell_type": "code",
   "execution_count": 206,
   "id": "5f6f67e5",
   "metadata": {},
   "outputs": [],
   "source": [
    "## Plotting feature importance\n",
    "def plotFeatureImportance(model,columns,plot_name):\n",
    "    sns.set_context(\"poster\")\n",
    "    plt.figure(figsize=(35,30))\n",
    "    sns.barplot([x for x in X.columns], model2.feature_importances_,)\n",
    "    plt.xticks(rotation = 45) # Rotates X-Axis Ticks by 45-degrees\n",
    "    plt.title(\"Feature importance\")\n",
    "    plt.savefig(plot_name,dpi=100)\n",
    "    plt.show()"
   ]
  },
  {
   "cell_type": "code",
   "execution_count": 207,
   "id": "1b1da58d",
   "metadata": {},
   "outputs": [],
   "source": [
    "### OVERALL DATA"
   ]
  },
  {
   "cell_type": "code",
   "execution_count": 208,
   "id": "c08ee88a",
   "metadata": {},
   "outputs": [],
   "source": [
    "X = data.drop([\"SRD (LTOG)\"],axis=1) \n",
    "Y = pd.DataFrame(data[\"SRD (LTOG)\"])"
   ]
  },
  {
   "cell_type": "markdown",
   "id": "1fa886c2",
   "metadata": {},
   "source": [
    "#### With Heart mass"
   ]
  },
  {
   "cell_type": "code",
   "execution_count": 209,
   "id": "c17f113b",
   "metadata": {},
   "outputs": [
    {
     "data": {
      "text/plain": [
       "Index(['Female', 'Age', 'Total CPR duration', 'Mechanical compressions', 'BMI',\n",
       "       'Abdominal perimeter', 'Thorax perimeter', 'Heart Mass', 'CMR'],\n",
       "      dtype='object')"
      ]
     },
     "execution_count": 209,
     "metadata": {},
     "output_type": "execute_result"
    }
   ],
   "source": [
    "X.columns"
   ]
  },
  {
   "cell_type": "code",
   "execution_count": 210,
   "id": "3cda12b2",
   "metadata": {},
   "outputs": [],
   "source": [
    "### Dropping CMR\n",
    "X = X.drop([\"CMR\"],axis=1) "
   ]
  },
  {
   "cell_type": "code",
   "execution_count": 211,
   "id": "6671abf7",
   "metadata": {},
   "outputs": [],
   "source": [
    "## Building classifier with Heart mass\n",
    "clf = tree.DecisionTreeClassifier(max_depth=4,\n",
    "                                  criterion=\"gini\",\n",
    "                                  min_samples_split=30,\n",
    "                                  min_samples_leaf=4,\n",
    "                                  random_state=55)"
   ]
  },
  {
   "cell_type": "code",
   "execution_count": 212,
   "id": "ff242567",
   "metadata": {},
   "outputs": [
    {
     "name": "stdout",
     "output_type": "stream",
     "text": [
      "\n",
      " accuracy_train: 0.7518796992481203, accuracy_test: 0.5074626865671642\n",
      "                   f1_train: 0.8216216216216217, f1_test: 0.6451612903225806\n",
      "                   recall_train: 0.7755102040816326,recall_test: 0.6\n",
      "                   precision_train: 0.8735632183908046, precision_test: 0.6976744186046512\n",
      "                   mcc_train: 0.4269931195607367, mcc_test: -0.14947849761564372\n",
      "                   roc_train : 0.7306122448979593,roc_test: 0.4176470588235294\n",
      "\n",
      "\n",
      " accuracy_train: 0.7368421052631579, accuracy_test: 0.40298507462686567\n",
      "                   f1_train: 0.7682119205298013, f1_test: 0.47368421052631576\n",
      "                   recall_train: 0.8923076923076924,recall_test: 0.5625\n",
      "                   precision_train: 0.6744186046511628, precision_test: 0.4090909090909091\n",
      "                   mcc_train: 0.5025105952704727, mcc_test: -0.18973703160739244\n",
      "                   roc_train : 0.7402714932126697,roc_test: 0.40982142857142856\n",
      "\n",
      "\n",
      " accuracy_train: 0.6940298507462687, accuracy_test: 0.5\n",
      "                   f1_train: 0.7759562841530055, f1_test: 0.6292134831460675\n",
      "                   recall_train: 0.7395833333333334,recall_test: 0.6086956521739131\n",
      "                   precision_train: 0.8160919540229885, precision_test: 0.6511627906976745\n",
      "                   mcc_train: 0.3008639534301364, mcc_test: -0.1362860149612034\n",
      "                   roc_train : 0.6592653508771931,roc_test: 0.42934782608695654\n",
      "\n",
      "Average Score---------------------------------------\n",
      "     accuracy_train: 0.7275838850858488, accuracy_test: 0.47014925373134325\n",
      "                   f1_train: 0.7885966087681427, f1_test: 0.5826863279983213\n",
      "                   recall_train: 0.8024670765742195,recall_test: 0.5903985507246378\n",
      "                   precision_train: 0.7880245923549852, precision_test: 0.5859760394644116\n",
      "                   mcc_train: 0.4101225560871153, mcc_test: -0.15850051472807986,\n",
      "                   roc_train: 0.710049696329274, roc_test: 0.4189387711606382\n"
     ]
    }
   ],
   "source": [
    "scores = stratifiedEvaluation(classifier=clf,X=X,Y=Y,split=3)"
   ]
  },
  {
   "cell_type": "code",
   "execution_count": 213,
   "id": "16a95e0a",
   "metadata": {},
   "outputs": [],
   "source": [
    "plot_input = MetricsPlotInput(**scores)"
   ]
  },
  {
   "cell_type": "code",
   "execution_count": 214,
   "id": "1e99e3a5",
   "metadata": {},
   "outputs": [
    {
     "data": {
      "text/plain": [
       "<Figure size 2000x3000 with 0 Axes>"
      ]
     },
     "metadata": {},
     "output_type": "display_data"
    },
    {
     "data": {
      "image/png": "[encoded data removed]",
      "text/plain": [
       "<Figure size 640x480 with 1 Axes>"
      ]
     },
     "metadata": {},
     "output_type": "display_data"
    }
   ],
   "source": [
    "plot(name=\"test.png\",**plot_input)"
   ]
  },
  {
   "cell_type": "code",
   "execution_count": 215,
   "id": "ea5bfcf3",
   "metadata": {},
   "outputs": [],
   "source": [
    "### First need to train the model on training data \n",
    "from sklearn.model_selection import train_test_split\n",
    "\n",
    "def modelForPlot(clf,X,Y):\n",
    "    ### splitting the datao\n",
    "    X_train, X_test, y_train, y_test = train_test_split(X, Y, test_size=0.2, random_state=42)\n",
    "    \n",
    "    ### Fitting the data in model\n",
    "    model = clf.fit(X_train,y_train)\n",
    "    \n",
    "    return model,X_test,y_test\n"
   ]
  },
  {
   "cell_type": "code",
   "execution_count": 217,
   "id": "c3b52815",
   "metadata": {},
   "outputs": [],
   "source": [
    "### Decision tree model with clincally relevant varibale\n",
    "clinical_relevant_model,x_test,y_test = modelForPlot(clf,X,Y)"
   ]
  },
  {
   "cell_type": "code",
   "execution_count": 218,
   "id": "143a931d",
   "metadata": {},
   "outputs": [],
   "source": [
    "from sklearn import tree\n",
    "from sklearn.tree import export_text"
   ]
  },
  {
   "cell_type": "code",
   "execution_count": 219,
   "id": "2fe582c2",
   "metadata": {},
   "outputs": [
    {
     "data": {
      "text/plain": [
       "'Decison tree plot\\\\clinical_relevant_with_heart_mass.pdf'"
      ]
     },
     "execution_count": 219,
     "metadata": {},
     "output_type": "execute_result"
    }
   ],
   "source": [
    "import graphviz\n",
    "dot_data = tree.export_graphviz(clinical_relevant_model, out_file=None,\n",
    "                     \n",
    "                      feature_names=list(X.columns),  \n",
    "                      class_names=[\"0\",\"1\"],  \n",
    "                      filled=True, rounded=True,  \n",
    "                      special_characters=True,\n",
    "                               ) \n",
    "graph = graphviz.Source(dot_data) \n",
    "graph.render(\"Decison tree plot\\clinical_relevant_with_heart_mass\") "
   ]
  },
  {
   "cell_type": "code",
   "execution_count": 220,
   "id": "216bcd11",
   "metadata": {},
   "outputs": [],
   "source": [
    "#### visulaizing using dtreeviz"
   ]
  },
  {
   "cell_type": "code",
   "execution_count": 221,
   "id": "bcda7862",
   "metadata": {},
   "outputs": [],
   "source": [
    "import dtreeviz"
   ]
  },
  {
   "cell_type": "code",
   "execution_count": 222,
   "id": "9ca9acba",
   "metadata": {},
   "outputs": [
    {
     "name": "stderr",
     "output_type": "stream",
     "text": [
      "C:\\Users\\saurav\\AppData\\Local\\Temp\\ipykernel_9096\\2944374853.py:2: DeprecationWarning: Importing display from IPython.core.display is deprecated since IPython 7.14, please import from IPython display\n"
     ]
    }
   ],
   "source": [
    "from dtreeviz.trees import *\n",
    "from IPython.core.display import display, HTML\n",
    "\n",
    "viz = dtreeviz.model(clinical_relevant_model, \n",
    "            X_train= X, \n",
    "            y_train= Y[\"SRD (LTOG)\"],\n",
    "            target_name= 'SRD (LTOG)',\n",
    "            feature_names= list(X.columns),\n",
    "            class_names= [0,1],)"
   ]
  },
  {
   "cell_type": "code",
   "execution_count": 223,
   "id": "951dbb36",
   "metadata": {},
   "outputs": [
    {
     "name": "stderr",
     "output_type": "stream",
     "text": [
      "C:\\Users\\saurav\\anaconda3\\envs\\EnvMod\\lib\\site-packages\\sklearn\\base.py:439: UserWarning: X does not have valid feature names, but DecisionTreeClassifier was fitted with feature names\n"
     ]
    }
   ],
   "source": [
    "import matplotlib.pyplot as plt\n",
    "v = viz.view(x=x_test.iloc[0],\n",
    "         highlight_path=[0,1,2,3,],\n",
    "        title=\"Decision Tree - clinical_relevant_heart_mass\",)\n"
   ]
  },
  {
   "cell_type": "code",
   "execution_count": 224,
   "id": "9667b3fc",
   "metadata": {},
   "outputs": [],
   "source": [
    "v.save(\"Decison tree plot\\clinical_relevant_heart_mass.svg\")"
   ]
  },
  {
   "cell_type": "markdown",
   "id": "96b81871",
   "metadata": {},
   "source": [
    "### WITH CMR"
   ]
  },
  {
   "cell_type": "code",
   "execution_count": 225,
   "id": "99bf3138",
   "metadata": {},
   "outputs": [],
   "source": [
    "X = data.drop([\"SRD (LTOG)\"],axis=1) \n",
    "Y = pd.DataFrame(data[\"SRD (LTOG)\"])"
   ]
  },
  {
   "cell_type": "code",
   "execution_count": 226,
   "id": "747bbfca",
   "metadata": {},
   "outputs": [],
   "source": [
    "X.drop(\"Heart Mass\",inplace=True,axis=1)"
   ]
  },
  {
   "cell_type": "code",
   "execution_count": 227,
   "id": "291eefae",
   "metadata": {},
   "outputs": [],
   "source": [
    "## Building classifier with Heart mass\n",
    "clf = tree.DecisionTreeClassifier(max_depth=4,\n",
    "                                  criterion=\"gini\",\n",
    "                                  min_samples_split=30,\n",
    "                                  min_samples_leaf=4,\n",
    "                                  random_state=55)"
   ]
  },
  {
   "cell_type": "code",
   "execution_count": 228,
   "id": "aa380040",
   "metadata": {},
   "outputs": [
    {
     "name": "stdout",
     "output_type": "stream",
     "text": [
      "\n",
      " accuracy_train: 0.7518796992481203, accuracy_test: 0.5074626865671642\n",
      "                   f1_train: 0.8216216216216217, f1_test: 0.6451612903225806\n",
      "                   recall_train: 0.7755102040816326,recall_test: 0.6\n",
      "                   precision_train: 0.8735632183908046, precision_test: 0.6976744186046512\n",
      "                   mcc_train: 0.4269931195607367, mcc_test: -0.14947849761564372\n",
      "                   roc_train : 0.7306122448979593,roc_test: 0.4176470588235294\n",
      "\n",
      "\n",
      " accuracy_train: 0.7142857142857143, accuracy_test: 0.417910447761194\n",
      "                   f1_train: 0.7682926829268293, f1_test: 0.5301204819277109\n",
      "                   recall_train: 0.8076923076923077,recall_test: 0.5641025641025641\n",
      "                   precision_train: 0.7325581395348837, precision_test: 0.5\n",
      "                   mcc_train: 0.40128197214765887, mcc_test: -0.2302044902731774\n",
      "                   roc_train : 0.6947552447552447,roc_test: 0.3891941391941392\n",
      "\n",
      "\n",
      " accuracy_train: 0.7238805970149254, accuracy_test: 0.5909090909090909\n",
      "                   f1_train: 0.778443113772455, f1_test: 0.7032967032967034\n",
      "                   recall_train: 0.8125,recall_test: 0.6666666666666666\n",
      "                   precision_train: 0.7471264367816092, precision_test: 0.7441860465116279\n",
      "                   mcc_train: 0.41637785158911667, mcc_test: 0.05192616157080083\n",
      "                   roc_train : 0.7025462962962963,roc_test: 0.5277777777777777\n",
      "\n",
      "Average Score---------------------------------------\n",
      "     accuracy_train: 0.7300153368495866, accuracy_test: 0.505427408412483\n",
      "                   f1_train: 0.7894524727736353, f1_test: 0.6261928251823315\n",
      "                   recall_train: 0.7985675039246468,recall_test: 0.6102564102564102\n",
      "                   precision_train: 0.7844159315690992, precision_test: 0.6472868217054263\n",
      "                   mcc_train: 0.4148843144325041, mcc_test: -0.10925227543934012,\n",
      "                   roc_train: 0.7093045953165001, roc_test: 0.44487299193181545\n"
     ]
    }
   ],
   "source": [
    "scores = stratifiedEvaluation(classifier=clf,X=X,Y=Y,split=3)"
   ]
  },
  {
   "cell_type": "code",
   "execution_count": 229,
   "id": "b02ebd5b",
   "metadata": {},
   "outputs": [],
   "source": [
    "plot_input = MetricsPlotInput(**scores)"
   ]
  },
  {
   "cell_type": "code",
   "execution_count": 230,
   "id": "1afbe7a9",
   "metadata": {},
   "outputs": [
    {
     "data": {
      "text/plain": [
       "<Figure size 2000x3000 with 0 Axes>"
      ]
     },
     "metadata": {},
     "output_type": "display_data"
    },
    {
     "data": {
      "image/png": "[encoded data removed]",
      "text/plain": [
       "<Figure size 640x480 with 1 Axes>"
      ]
     },
     "metadata": {},
     "output_type": "display_data"
    }
   ],
   "source": [
    "plot(name=\"metrics_with_CMR.png\",**plot_input)"
   ]
  },
  {
   "cell_type": "code",
   "execution_count": 231,
   "id": "7fce68fe",
   "metadata": {},
   "outputs": [],
   "source": [
    "### Model on complete data\n",
    "clinical_relevant_model_with_CMR,x_test,y_test = modelForPlot(clf,X,Y)"
   ]
  },
  {
   "cell_type": "code",
   "execution_count": 232,
   "id": "6c90000d",
   "metadata": {},
   "outputs": [
    {
     "data": {
      "text/plain": [
       "'Decison tree plot\\\\clinical_relevant_with_CMR.pdf'"
      ]
     },
     "execution_count": 232,
     "metadata": {},
     "output_type": "execute_result"
    }
   ],
   "source": [
    "import graphviz\n",
    "dot_data = tree.export_graphviz(clinical_relevant_model_with_CMR, out_file=None,\n",
    "                      feature_names=list(X.columns),  \n",
    "                      class_names=[\"0\",\"1\"],  \n",
    "                      filled=True, rounded=True,  \n",
    "                      special_characters=True,\n",
    "                               ) \n",
    "graph = graphviz.Source(dot_data) \n",
    "graph.render(\"Decison tree plot\\clinical_relevant_with_CMR\") "
   ]
  },
  {
   "cell_type": "code",
   "execution_count": 233,
   "id": "b4e418f2",
   "metadata": {},
   "outputs": [
    {
     "name": "stderr",
     "output_type": "stream",
     "text": [
      "C:\\Users\\saurav\\AppData\\Local\\Temp\\ipykernel_9096\\4137070821.py:2: DeprecationWarning: Importing display from IPython.core.display is deprecated since IPython 7.14, please import from IPython display\n"
     ]
    }
   ],
   "source": [
    "from dtreeviz.trees import *\n",
    "from IPython.core.display import display, HTML\n",
    "\n",
    "viz = dtreeviz.model(clinical_relevant_model_with_CMR, \n",
    "            X_train= X, \n",
    "            y_train= Y[\"SRD (LTOG)\"],\n",
    "            target_name= 'SRD (LTOG)',\n",
    "            feature_names= list(X.columns),\n",
    "            class_names= [0,1],)"
   ]
  },
  {
   "cell_type": "code",
   "execution_count": 234,
   "id": "de02d551",
   "metadata": {},
   "outputs": [
    {
     "name": "stderr",
     "output_type": "stream",
     "text": [
      "C:\\Users\\saurav\\anaconda3\\envs\\EnvMod\\lib\\site-packages\\sklearn\\base.py:439: UserWarning: X does not have valid feature names, but DecisionTreeClassifier was fitted with feature names\n"
     ]
    }
   ],
   "source": [
    "import matplotlib.pyplot as plt\n",
    "v = viz.view(x=x_test.iloc[0],\n",
    "         highlight_path=[0,1,2,3,],\n",
    "        title=\"Decision Tree - clinical_relevant_with_CMR\",)"
   ]
  },
  {
   "cell_type": "code",
   "execution_count": 235,
   "id": "bff4f934",
   "metadata": {},
   "outputs": [],
   "source": [
    "v.save(\"Decison tree plot\\clinical_relevant_with_CMR.svg\")"
   ]
  },
  {
   "cell_type": "markdown",
   "id": "333f9bf7",
   "metadata": {},
   "source": [
    "### WIth signifcant variable\n",
    "\n",
    "1. Age\n",
    "2. Total CPR time\n",
    "3. Mechanical compression\n",
    "4. Abdominal perimeter\n",
    "5. Heart mass/CMR"
   ]
  },
  {
   "cell_type": "code",
   "execution_count": 236,
   "id": "24d59698",
   "metadata": {},
   "outputs": [
    {
     "data": {
      "text/plain": [
       "Index(['Female', 'Age', 'Total CPR duration', 'Mechanical compressions', 'BMI',\n",
       "       'Abdominal perimeter', 'Thorax perimeter', 'CMR'],\n",
       "      dtype='object')"
      ]
     },
     "execution_count": 236,
     "metadata": {},
     "output_type": "execute_result"
    }
   ],
   "source": [
    "X.columns"
   ]
  },
  {
   "cell_type": "code",
   "execution_count": 237,
   "id": "cbd8d9ae",
   "metadata": {},
   "outputs": [],
   "source": [
    "X = data[[\"Age\",\"Total CPR duration\",\"Mechanical compressions\",\"Abdominal perimeter\",\"CMR\"]]\n",
    "Y = pd.DataFrame(data[\"SRD (LTOG)\"])"
   ]
  },
  {
   "cell_type": "markdown",
   "id": "bb96ca28",
   "metadata": {},
   "source": [
    "### With CMR"
   ]
  },
  {
   "cell_type": "code",
   "execution_count": 238,
   "id": "4ce365fd",
   "metadata": {},
   "outputs": [],
   "source": [
    "## Building classifier with Heart mass\n",
    "clf = tree.DecisionTreeClassifier(max_depth=4,\n",
    "                                  criterion=\"gini\",\n",
    "                                  min_samples_split=30,\n",
    "                                  min_samples_leaf=4,\n",
    "                                  random_state=55)"
   ]
  },
  {
   "cell_type": "code",
   "execution_count": 239,
   "id": "8ab63ed1",
   "metadata": {},
   "outputs": [
    {
     "name": "stdout",
     "output_type": "stream",
     "text": [
      "\n",
      " accuracy_train: 0.7293233082706767, accuracy_test: 0.5671641791044776\n",
      "                   f1_train: 0.8105263157894737, f1_test: 0.7070707070707071\n",
      "                   recall_train: 0.7475728155339806,recall_test: 0.625\n",
      "                   precision_train: 0.8850574712643678, precision_test: 0.813953488372093\n",
      "                   mcc_train: 0.363992292651441, mcc_test: -0.07901514560305704\n",
      "                   roc_train : 0.7071197411003237,roc_test: 0.44886363636363635\n",
      "\n",
      "\n",
      " accuracy_train: 0.7218045112781954, accuracy_test: 0.5373134328358209\n",
      "                   f1_train: 0.8042328042328043, f1_test: 0.6804123711340205\n",
      "                   recall_train: 0.7378640776699029,recall_test: 0.6226415094339622\n",
      "                   precision_train: 0.8837209302325582, precision_test: 0.75\n",
      "                   mcc_train: 0.35369801190718264, mcc_test: -0.13963463734532494\n",
      "                   roc_train : 0.7022653721682849,roc_test: 0.41846361185983827\n",
      "\n",
      "\n",
      " accuracy_train: 0.7313432835820896, accuracy_test: 0.5606060606060606\n",
      "                   f1_train: 0.7931034482758621, f1_test: 0.6741573033707865\n",
      "                   recall_train: 0.7931034482758621,recall_test: 0.6521739130434783\n",
      "                   precision_train: 0.7931034482758621, precision_test: 0.6976744186046512\n",
      "                   mcc_train: 0.4101247248716067, mcc_test: 0.0020967079224800526\n",
      "                   roc_train : 0.7050623624358034,roc_test: 0.5010869565217391\n",
      "\n",
      "Average Score---------------------------------------\n",
      "     accuracy_train: 0.7274903677103205, accuracy_test: 0.5550278908487863\n",
      "                   f1_train: 0.8026208560993799, f1_test: 0.6872134605251713\n",
      "                   recall_train: 0.7595134471599151,recall_test: 0.6332718074924802\n",
      "                   precision_train: 0.8539606165909294, precision_test: 0.7538759689922481\n",
      "                   mcc_train: 0.37593834314341007, mcc_test: -0.07218435834196732,\n",
      "                   roc_train: 0.704815825234804, roc_test: 0.4561380682484046\n"
     ]
    }
   ],
   "source": [
    "scores = stratifiedEvaluation(classifier=clf,X=X,Y=Y,split=3)"
   ]
  },
  {
   "cell_type": "code",
   "execution_count": 240,
   "id": "543569f1",
   "metadata": {},
   "outputs": [],
   "source": [
    "plot_input = MetricsPlotInput(**scores)"
   ]
  },
  {
   "cell_type": "code",
   "execution_count": 241,
   "id": "10e924b0",
   "metadata": {},
   "outputs": [
    {
     "data": {
      "text/plain": [
       "<Figure size 2000x3000 with 0 Axes>"
      ]
     },
     "metadata": {},
     "output_type": "display_data"
    },
    {
     "data": {
      "image/png": "[encoded data removed]",
      "text/plain": [
       "<Figure size 640x480 with 1 Axes>"
      ]
     },
     "metadata": {},
     "output_type": "display_data"
    }
   ],
   "source": [
    "plot(name=\"metrics_with_CMR(significant).png\",**plot_input)"
   ]
  },
  {
   "cell_type": "code",
   "execution_count": 242,
   "id": "4e4f0ede",
   "metadata": {},
   "outputs": [],
   "source": [
    "significant_model_with_CMR,x_test,y_test = modelForPlot(clf,X,Y)"
   ]
  },
  {
   "cell_type": "code",
   "execution_count": 243,
   "id": "e1e85c9d",
   "metadata": {},
   "outputs": [
    {
     "data": {
      "text/plain": [
       "Index(['Age', 'Total CPR duration', 'Mechanical compressions',\n",
       "       'Abdominal perimeter', 'CMR'],\n",
       "      dtype='object')"
      ]
     },
     "execution_count": 243,
     "metadata": {},
     "output_type": "execute_result"
    }
   ],
   "source": [
    "X.columns"
   ]
  },
  {
   "cell_type": "code",
   "execution_count": 244,
   "id": "b73bc2de",
   "metadata": {},
   "outputs": [
    {
     "data": {
      "text/plain": [
       "'Decison tree plot\\\\significant_variable_with_CMR.pdf'"
      ]
     },
     "execution_count": 244,
     "metadata": {},
     "output_type": "execute_result"
    }
   ],
   "source": [
    "### With CMR\n",
    "import graphviz\n",
    "dot_data = tree.export_graphviz(significant_model_with_CMR, out_file=None,\n",
    "                        feature_names=list(X.columns),  \n",
    "                        class_names=[\"0\",\"1\"],  \n",
    "                        filled=True, rounded=True,  \n",
    "                        special_characters=True,\n",
    "                               ) \n",
    "graph = graphviz.Source(dot_data) \n",
    "graph.render(\"Decison tree plot\\significant_variable_with_CMR\") "
   ]
  },
  {
   "cell_type": "code",
   "execution_count": 245,
   "id": "74fd2b2c",
   "metadata": {},
   "outputs": [
    {
     "name": "stderr",
     "output_type": "stream",
     "text": [
      "C:\\Users\\saurav\\AppData\\Local\\Temp\\ipykernel_9096\\892094521.py:4: DeprecationWarning: Importing display from IPython.core.display is deprecated since IPython 7.14, please import from IPython display\n",
      "C:\\Users\\saurav\\anaconda3\\envs\\EnvMod\\lib\\site-packages\\sklearn\\base.py:439: UserWarning: X does not have valid feature names, but DecisionTreeClassifier was fitted with feature names\n"
     ]
    }
   ],
   "source": [
    "### Plotting\n",
    "\n",
    "from dtreeviz.trees import *\n",
    "from IPython.core.display import display, HTML\n",
    "import matplotlib.pyplot as plt\n",
    "\n",
    "\n",
    "viz = dtreeviz.model(significant_model_with_CMR, \n",
    "            X_train= X, \n",
    "            y_train= Y[\"SRD (LTOG)\"],\n",
    "            target_name= 'SRD (LTOG)',\n",
    "            feature_names= list(X.columns),\n",
    "            class_names= [0,1],)\n",
    "\n",
    "v = viz.view(x=x_test.iloc[0],\n",
    "        highlight_path=[0,1,2,3,],\n",
    "        title=\"Decision Tree - significant_variable_CMR\",)\n",
    "\n",
    "v.save(\"Decison tree plot\\significant_variable_CMR.svg\")"
   ]
  },
  {
   "cell_type": "markdown",
   "id": "55ed9948",
   "metadata": {},
   "source": [
    "### With Heart Mass"
   ]
  },
  {
   "cell_type": "code",
   "execution_count": 246,
   "id": "cf5f84a9",
   "metadata": {},
   "outputs": [
    {
     "data": {
      "text/plain": [
       "Index(['Age', 'Total CPR duration', 'Mechanical compressions',\n",
       "       'Abdominal perimeter', 'CMR'],\n",
       "      dtype='object')"
      ]
     },
     "execution_count": 246,
     "metadata": {},
     "output_type": "execute_result"
    }
   ],
   "source": [
    "X.columns"
   ]
  },
  {
   "cell_type": "code",
   "execution_count": 247,
   "id": "435f9172",
   "metadata": {},
   "outputs": [],
   "source": [
    "X = data[[\"Age\",\"Total CPR duration\",\"Mechanical compressions\",\"Abdominal perimeter\",\"Heart Mass\"]]\n",
    "Y = pd.DataFrame(data[\"SRD (LTOG)\"])"
   ]
  },
  {
   "cell_type": "code",
   "execution_count": 248,
   "id": "84000d05",
   "metadata": {},
   "outputs": [],
   "source": [
    "## Building classifier with Heart mass\n",
    "clf = tree.DecisionTreeClassifier(max_depth=4,\n",
    "                                  criterion=\"gini\",\n",
    "                                  min_samples_split=30,\n",
    "                                  min_samples_leaf=4,\n",
    "                                  random_state=55)"
   ]
  },
  {
   "cell_type": "code",
   "execution_count": 249,
   "id": "036f5e4f",
   "metadata": {},
   "outputs": [
    {
     "name": "stdout",
     "output_type": "stream",
     "text": [
      "\n",
      " accuracy_train: 0.7293233082706767, accuracy_test: 0.5671641791044776\n",
      "                   f1_train: 0.8105263157894737, f1_test: 0.7070707070707071\n",
      "                   recall_train: 0.7475728155339806,recall_test: 0.625\n",
      "                   precision_train: 0.8850574712643678, precision_test: 0.813953488372093\n",
      "                   mcc_train: 0.363992292651441, mcc_test: -0.07901514560305704\n",
      "                   roc_train : 0.7071197411003237,roc_test: 0.44886363636363635\n",
      "\n",
      "\n",
      " accuracy_train: 0.7518796992481203, accuracy_test: 0.6417910447761194\n",
      "                   f1_train: 0.8341708542713568, f1_test: 0.76\n",
      "                   recall_train: 0.7345132743362832,recall_test: 0.6785714285714286\n",
      "                   precision_train: 0.9651162790697675, precision_test: 0.8636363636363636\n",
      "                   mcc_train: 0.43706944188622343, mcc_test: 0.1038563941617703\n",
      "                   roc_train : 0.7922566371681415,roc_test: 0.5665584415584416\n",
      "\n",
      "\n",
      " accuracy_train: 0.6940298507462687, accuracy_test: 0.5303030303030303\n",
      "                   f1_train: 0.7759562841530055, f1_test: 0.6436781609195402\n",
      "                   recall_train: 0.7395833333333334,recall_test: 0.6363636363636364\n",
      "                   precision_train: 0.8160919540229885, precision_test: 0.6511627906976745\n",
      "                   mcc_train: 0.3008639534301364, mcc_test: -0.04496937504132879\n",
      "                   roc_train : 0.6592653508771931,roc_test: 0.4772727272727273\n",
      "\n",
      "Average Score---------------------------------------\n",
      "     accuracy_train: 0.7250776194216885, accuracy_test: 0.5797527513945424\n",
      "                   f1_train: 0.8068844847379454, f1_test: 0.7035829559967491\n",
      "                   recall_train: 0.7405564744011991,recall_test: 0.6466450216450217\n",
      "                   precision_train: 0.888755234785708, precision_test: 0.7762508809020437\n",
      "                   mcc_train: 0.36730856265593365, mcc_test: -0.006709375494205178,\n",
      "                   roc_train: 0.7195472430485528, roc_test: 0.4975649350649351\n"
     ]
    }
   ],
   "source": [
    "scores = stratifiedEvaluation(classifier=clf,X=X,Y=Y,split=3)"
   ]
  },
  {
   "cell_type": "code",
   "execution_count": 250,
   "id": "8e6e2cad",
   "metadata": {},
   "outputs": [],
   "source": [
    "plot_input = MetricsPlotInput(**scores)"
   ]
  },
  {
   "cell_type": "code",
   "execution_count": 251,
   "id": "13552542",
   "metadata": {},
   "outputs": [
    {
     "data": {
      "text/plain": [
       "<Figure size 2000x3000 with 0 Axes>"
      ]
     },
     "metadata": {},
     "output_type": "display_data"
    },
    {
     "data": {
      "image/png": "[encoded data removed]",
      "text/plain": [
       "<Figure size 640x480 with 1 Axes>"
      ]
     },
     "metadata": {},
     "output_type": "display_data"
    }
   ],
   "source": [
    "plot(name=\"metrics_with_HeartMass(significant).png\",**plot_input)"
   ]
  },
  {
   "cell_type": "code",
   "execution_count": 254,
   "id": "d89b5abc",
   "metadata": {},
   "outputs": [],
   "source": [
    "significant_model_with_Heart_mass,x_test,y_test = modelForPlot(clf,X,Y)"
   ]
  },
  {
   "cell_type": "code",
   "execution_count": 255,
   "id": "72bd9a7a",
   "metadata": {},
   "outputs": [
    {
     "data": {
      "text/plain": [
       "'Decison tree plot\\\\significant_variable_with_Heart_mass.pdf'"
      ]
     },
     "execution_count": 255,
     "metadata": {},
     "output_type": "execute_result"
    }
   ],
   "source": [
    "### With Heart mass\n",
    "import graphviz\n",
    "dot_data = tree.export_graphviz(significant_model_with_Heart_mass,\n",
    "                        out_file=None,\n",
    "                        feature_names=list(X.columns),  \n",
    "                        class_names=[\"0\",\"1\"],  \n",
    "                        filled=True, rounded=True,  \n",
    "                        special_characters=True,\n",
    "                               ) \n",
    "graph = graphviz.Source(dot_data) \n",
    "graph.render(\"Decison tree plot\\significant_variable_with_Heart_mass\") "
   ]
  },
  {
   "cell_type": "code",
   "execution_count": 256,
   "id": "40f856bc",
   "metadata": {},
   "outputs": [
    {
     "name": "stderr",
     "output_type": "stream",
     "text": [
      "C:\\Users\\saurav\\AppData\\Local\\Temp\\ipykernel_9096\\911021398.py:4: DeprecationWarning: Importing display from IPython.core.display is deprecated since IPython 7.14, please import from IPython display\n",
      "C:\\Users\\saurav\\anaconda3\\envs\\EnvMod\\lib\\site-packages\\sklearn\\base.py:439: UserWarning: X does not have valid feature names, but DecisionTreeClassifier was fitted with feature names\n"
     ]
    }
   ],
   "source": [
    "### Plotting\n",
    "\n",
    "from dtreeviz.trees import *\n",
    "from IPython.core.display import display, HTML\n",
    "import matplotlib.pyplot as plt\n",
    "\n",
    "\n",
    "viz = dtreeviz.model(significant_model_with_Heart_mass, \n",
    "            X_train= X, \n",
    "            y_train= Y[\"SRD (LTOG)\"],\n",
    "            target_name= 'SRD (LTOG)',\n",
    "            feature_names= list(X.columns),\n",
    "            class_names= [0,1],)\n",
    "\n",
    "v = viz.view(x=x_test.iloc[0],\n",
    "        highlight_path=[0,1,2,3,],\n",
    "        title=\"Decision Tree - significant_variable_Heart_mass\",)\n",
    "\n",
    "v.save(\"Decison tree plot\\significant_variable_heart_mass.svg\")"
   ]
  },
  {
   "cell_type": "markdown",
   "id": "9f1bf414",
   "metadata": {},
   "source": [
    "### Automatic selection\n",
    "\n",
    "In feature selection method, there are three types of methods has been used\n",
    "1. Filter based (Pearson correlation,chi_square test)\n",
    "2. Wrapper based (Recurive feature elimation)\n",
    "3. Embedded (Lassos and RF)"
   ]
  },
  {
   "cell_type": "code",
   "execution_count": 257,
   "id": "518f7be3",
   "metadata": {},
   "outputs": [],
   "source": [
    "### Pearson correlation test\n",
    "\n",
    "def cor_selector(X, y,num_feats):\n",
    "    cor_list = []\n",
    "    feature_name = X.columns.tolist()\n",
    "    # calculate the correlation with y for each feature\n",
    "    for i in X.columns.tolist():\n",
    "        cor = np.corrcoef(X[i], y)[0, 1]\n",
    "        cor_list.append(cor)\n",
    "    # replace NaN with 0\n",
    "    cor_list = [0 if np.isnan(i) else i for i in cor_list]\n",
    "    # feature name\n",
    "    cor_feature = X.iloc[:,np.argsort(np.abs(cor_list))[-num_feats:]].columns.tolist()\n",
    "    # feature selection? 0 for not select, 1 for select\n",
    "    cor_support = [True if i in cor_feature else False for i in feature_name]\n",
    "\n",
    "    print(str(len(cor_feature)), 'selected features')\n",
    "    \n",
    "    return cor_support"
   ]
  },
  {
   "cell_type": "code",
   "execution_count": 258,
   "id": "5ed394af",
   "metadata": {},
   "outputs": [],
   "source": [
    "### Chi square test\n",
    "\n",
    "from sklearn.feature_selection import SelectKBest\n",
    "from sklearn.feature_selection import chi2\n",
    "from sklearn.preprocessing import MinMaxScaler\n",
    "\n",
    "def Chi(X,y,num_feats):\n",
    "    \n",
    "    X_norm = MinMaxScaler().fit_transform(X)\n",
    "    chi_selector = SelectKBest(chi2, k=num_feats)\n",
    "    chi_selector.fit(X_norm, y)\n",
    "    chi_support = chi_selector.get_support()\n",
    "    chi_feature = X.loc[:,chi_support].columns.tolist()\n",
    "    print(str(len(chi_feature)), 'selected features')\n",
    "    \n",
    "    return chi_support"
   ]
  },
  {
   "cell_type": "code",
   "execution_count": 259,
   "id": "0fedc324",
   "metadata": {},
   "outputs": [],
   "source": [
    "### Recurive feature elimination\n",
    "\n",
    "from sklearn.feature_selection import RFE\n",
    "from sklearn.linear_model import LogisticRegression\n",
    "\n",
    "def rfe(X,y,num_feats):\n",
    "    rfe_selector = RFE(estimator=LogisticRegression(),\n",
    "                       n_features_to_select=num_feats,\n",
    "                       step=10,\n",
    "                       verbose=5)\n",
    "    \n",
    "    X_norm = MinMaxScaler().fit_transform(X)\n",
    "    rfe_selector.fit(X_norm, y)\n",
    "    rfe_support = rfe_selector.get_support()\n",
    "    rfe_feature = X.loc[:,rfe_support].columns.tolist()\n",
    "    print(str(len(rfe_feature)), 'selected features')\n",
    "    \n",
    "    return rfe_support"
   ]
  },
  {
   "cell_type": "code",
   "execution_count": 260,
   "id": "e5a7c9a2",
   "metadata": {},
   "outputs": [],
   "source": [
    "## Embedded Method\n",
    "\n",
    "from sklearn.feature_selection import SelectFromModel\n",
    "from sklearn.linear_model import LogisticRegression\n",
    "\n",
    "def EmbeddedLasso(X,y,num_feats):\n",
    "    \n",
    "    embeded_lr_selector = SelectFromModel(LogisticRegression(penalty=\"l2\"),\n",
    "                                          max_features=num_feats)\n",
    "    \n",
    "    X_norm = MinMaxScaler().fit_transform(X)\n",
    "    embeded_lr_selector.fit(X_norm, y)\n",
    "\n",
    "    embeded_lr_support = embeded_lr_selector.get_support()\n",
    "    \n",
    "    embeded_lr_feature = X.loc[:,embeded_lr_support].columns.tolist()\n",
    "    \n",
    "    print(str(len(embeded_lr_feature)), 'selected features')\n",
    "    \n",
    "    return embeded_lr_support"
   ]
  },
  {
   "cell_type": "code",
   "execution_count": 261,
   "id": "fe4e87fd",
   "metadata": {},
   "outputs": [],
   "source": [
    "from sklearn.feature_selection import SelectFromModel\n",
    "from sklearn.ensemble import RandomForestClassifier\n",
    "\n",
    "def EmbeddedRF(X,y,num_feats):\n",
    "    embeded_rf_selector = SelectFromModel(RandomForestClassifier(n_estimators=100),\n",
    "                                          max_features=num_feats)\n",
    "    embeded_rf_selector.fit(X, y)\n",
    "\n",
    "    embeded_rf_support = embeded_rf_selector.get_support()\n",
    "    embeded_rf_feature = X.loc[:,embeded_rf_support].columns.tolist()\n",
    "\n",
    "    print(str(len(embeded_rf_feature)), 'selected features')\n",
    "    \n",
    "    return embeded_rf_support"
   ]
  },
  {
   "cell_type": "code",
   "execution_count": 262,
   "id": "6114019e",
   "metadata": {},
   "outputs": [],
   "source": [
    "# put all selection together\n",
    "\n",
    "def featureSelectionFrame(X,y,num_feats):\n",
    "    \n",
    "    feature_name = list(X.columns)\n",
    "    \n",
    "    cor_support = cor_selector(X,y,num_feats)\n",
    "    chi_support = Chi(X,y,num_feats)\n",
    "    rfe_support  = rfe(X,y,num_feats)\n",
    "    embeded_lr_support = EmbeddedLasso(X,y,num_feats)\n",
    "    embeded_rf_support  = EmbeddedRF(X,y,num_feats)\n",
    "    \n",
    "    \n",
    "    assert len(cor_support) == len(chi_support) == len(rfe_support) == len(embeded_lr_support) == len(embeded_rf_support)\n",
    "    \n",
    "    feature_selection_df = pd.DataFrame({'Feature':feature_name, \n",
    "                                         'Pearson':cor_support, \n",
    "                                         'Chi-2':chi_support, \n",
    "                                         'RFE':rfe_support, \n",
    "                                         'Logistics':embeded_lr_support,\n",
    "                                         'Random Forest':embeded_rf_support,})\n",
    "\n",
    "    # count the selected times for each feature\n",
    "    feature_selection_df['Total'] = np.sum(feature_selection_df, axis=1)\n",
    "    # display the top 100\n",
    "    feature_selection_df = feature_selection_df.sort_values(['Total','Feature'] , ascending=False)\n",
    "    feature_selection_df.index = range(1, len(feature_selection_df)+1)\n",
    "    feature_selection_df.head(num_feats)\n",
    "    \n",
    "    return feature_selection_df\n",
    "    \n",
    "    "
   ]
  },
  {
   "cell_type": "code",
   "execution_count": 263,
   "id": "ec1431b9",
   "metadata": {},
   "outputs": [],
   "source": [
    "data = pd.read_excel(\"Decision Tree data.xlsx\")"
   ]
  },
  {
   "cell_type": "code",
   "execution_count": 264,
   "id": "abf3c7bf",
   "metadata": {},
   "outputs": [],
   "source": [
    "### Fill the NA value\n",
    "data[\"BMI\"].fillna(data[\"BMI\"].mean(),inplace=True)\n",
    "data[\"Abdominal perimeter\"].fillna(data[\"Abdominal perimeter\"].mean(),inplace=True)\n",
    "data[\"Thorax perimeter\"].fillna(data[\"Thorax perimeter\"].mean(),inplace=True)\n",
    "data[\"Heart Mass\"].fillna(data[\"Heart Mass\"].mean(),inplace=True)"
   ]
  },
  {
   "cell_type": "code",
   "execution_count": 265,
   "id": "40a5b5f6",
   "metadata": {},
   "outputs": [],
   "source": [
    "data.drop(\"Caso\",axis=1,inplace=True)"
   ]
  },
  {
   "cell_type": "code",
   "execution_count": 266,
   "id": "1886b389",
   "metadata": {},
   "outputs": [],
   "source": [
    "X = data.drop(\"SRD (LTOG)\",axis=1)\n",
    "Y = data[\"SRD (LTOG)\"]"
   ]
  },
  {
   "cell_type": "code",
   "execution_count": 267,
   "id": "389fd88b",
   "metadata": {},
   "outputs": [
    {
     "name": "stdout",
     "output_type": "stream",
     "text": [
      "5 selected features\n",
      "5 selected features\n",
      "Fitting estimator with 9 features.\n",
      "5 selected features\n",
      "4 selected features\n",
      "5 selected features\n"
     ]
    },
    {
     "name": "stderr",
     "output_type": "stream",
     "text": [
      "C:\\Users\\saurav\\anaconda3\\envs\\EnvMod\\lib\\site-packages\\numpy\\core\\fromnumeric.py:84: FutureWarning: Dropping of nuisance columns in DataFrame reductions (with 'numeric_only=None') is deprecated; in a future version this will raise TypeError.  Select only valid columns before calling the reduction.\n"
     ]
    }
   ],
   "source": [
    "frame  = featureSelectionFrame(X=X,y=Y,num_feats=5)"
   ]
  },
  {
   "cell_type": "code",
   "execution_count": 268,
   "id": "a1c7a1aa",
   "metadata": {},
   "outputs": [
    {
     "data": {
      "text/html": [
       "<div>\n",
       "<style scoped>\n",
       "    .dataframe tbody tr th:only-of-type {\n",
       "        vertical-align: middle;\n",
       "    }\n",
       "\n",
       "    .dataframe tbody tr th {\n",
       "        vertical-align: top;\n",
       "    }\n",
       "\n",
       "    .dataframe thead th {\n",
       "        text-align: right;\n",
       "    }\n",
       "</style>\n",
       "<table border=\"1\" class=\"dataframe\">\n",
       "  <thead>\n",
       "    <tr style=\"text-align: right;\">\n",
       "      <th></th>\n",
       "      <th>Feature</th>\n",
       "      <th>Pearson</th>\n",
       "      <th>Chi-2</th>\n",
       "      <th>RFE</th>\n",
       "      <th>Logistics</th>\n",
       "      <th>Random Forest</th>\n",
       "      <th>Total</th>\n",
       "    </tr>\n",
       "  </thead>\n",
       "  <tbody>\n",
       "    <tr>\n",
       "      <th>1</th>\n",
       "      <td>Age</td>\n",
       "      <td>True</td>\n",
       "      <td>True</td>\n",
       "      <td>True</td>\n",
       "      <td>True</td>\n",
       "      <td>True</td>\n",
       "      <td>5</td>\n",
       "    </tr>\n",
       "    <tr>\n",
       "      <th>2</th>\n",
       "      <td>Abdominal perimeter</td>\n",
       "      <td>True</td>\n",
       "      <td>True</td>\n",
       "      <td>True</td>\n",
       "      <td>True</td>\n",
       "      <td>True</td>\n",
       "      <td>5</td>\n",
       "    </tr>\n",
       "    <tr>\n",
       "      <th>3</th>\n",
       "      <td>Mechanical compressions</td>\n",
       "      <td>True</td>\n",
       "      <td>True</td>\n",
       "      <td>True</td>\n",
       "      <td>True</td>\n",
       "      <td>False</td>\n",
       "      <td>4</td>\n",
       "    </tr>\n",
       "    <tr>\n",
       "      <th>4</th>\n",
       "      <td>Total CPR duration</td>\n",
       "      <td>True</td>\n",
       "      <td>True</td>\n",
       "      <td>True</td>\n",
       "      <td>False</td>\n",
       "      <td>False</td>\n",
       "      <td>3</td>\n",
       "    </tr>\n",
       "    <tr>\n",
       "      <th>5</th>\n",
       "      <td>Heart Mass</td>\n",
       "      <td>True</td>\n",
       "      <td>True</td>\n",
       "      <td>False</td>\n",
       "      <td>False</td>\n",
       "      <td>True</td>\n",
       "      <td>3</td>\n",
       "    </tr>\n",
       "    <tr>\n",
       "      <th>6</th>\n",
       "      <td>BMI</td>\n",
       "      <td>False</td>\n",
       "      <td>False</td>\n",
       "      <td>True</td>\n",
       "      <td>True</td>\n",
       "      <td>True</td>\n",
       "      <td>3</td>\n",
       "    </tr>\n",
       "    <tr>\n",
       "      <th>7</th>\n",
       "      <td>CMR</td>\n",
       "      <td>False</td>\n",
       "      <td>False</td>\n",
       "      <td>False</td>\n",
       "      <td>False</td>\n",
       "      <td>True</td>\n",
       "      <td>1</td>\n",
       "    </tr>\n",
       "    <tr>\n",
       "      <th>8</th>\n",
       "      <td>Thorax perimeter</td>\n",
       "      <td>False</td>\n",
       "      <td>False</td>\n",
       "      <td>False</td>\n",
       "      <td>False</td>\n",
       "      <td>False</td>\n",
       "      <td>0</td>\n",
       "    </tr>\n",
       "    <tr>\n",
       "      <th>9</th>\n",
       "      <td>Female</td>\n",
       "      <td>False</td>\n",
       "      <td>False</td>\n",
       "      <td>False</td>\n",
       "      <td>False</td>\n",
       "      <td>False</td>\n",
       "      <td>0</td>\n",
       "    </tr>\n",
       "  </tbody>\n",
       "</table>\n",
       "</div>"
      ],
      "text/plain": [
       "                   Feature  Pearson  Chi-2    RFE  Logistics  Random Forest  \\\n",
       "1                      Age     True   True   True       True           True   \n",
       "2      Abdominal perimeter     True   True   True       True           True   \n",
       "3  Mechanical compressions     True   True   True       True          False   \n",
       "4       Total CPR duration     True   True   True      False          False   \n",
       "5               Heart Mass     True   True  False      False           True   \n",
       "6                      BMI    False  False   True       True           True   \n",
       "7                      CMR    False  False  False      False           True   \n",
       "8         Thorax perimeter    False  False  False      False          False   \n",
       "9                   Female    False  False  False      False          False   \n",
       "\n",
       "   Total  \n",
       "1      5  \n",
       "2      5  \n",
       "3      4  \n",
       "4      3  \n",
       "5      3  \n",
       "6      3  \n",
       "7      1  \n",
       "8      0  \n",
       "9      0  "
      ]
     },
     "execution_count": 268,
     "metadata": {},
     "output_type": "execute_result"
    }
   ],
   "source": [
    "frame"
   ]
  },
  {
   "cell_type": "markdown",
   "id": "35a858bb",
   "metadata": {},
   "source": [
    "### Decision tree trained on automated selection feature"
   ]
  },
  {
   "cell_type": "code",
   "execution_count": 269,
   "id": "1b1f3c64",
   "metadata": {},
   "outputs": [],
   "source": [
    "data = pd.read_excel(\"Decision Tree data.xlsx\")"
   ]
  },
  {
   "cell_type": "code",
   "execution_count": 270,
   "id": "95dba8c3",
   "metadata": {},
   "outputs": [],
   "source": [
    "### Fill the NA value\n",
    "data[\"BMI\"].fillna(data[\"BMI\"].mean(),inplace=True)\n",
    "data[\"Abdominal perimeter\"].fillna(data[\"Abdominal perimeter\"].mean(),inplace=True)\n",
    "data[\"Thorax perimeter\"].fillna(data[\"Thorax perimeter\"].mean(),inplace=True)\n",
    "data[\"Heart Mass\"].fillna(data[\"Heart Mass\"].mean(),inplace=True)"
   ]
  },
  {
   "cell_type": "code",
   "execution_count": 271,
   "id": "d3c831be",
   "metadata": {},
   "outputs": [],
   "source": [
    "data.drop(\"Caso\",axis=1,inplace=True)"
   ]
  },
  {
   "cell_type": "code",
   "execution_count": 272,
   "id": "f4955976",
   "metadata": {},
   "outputs": [],
   "source": [
    "X = data[[\"Age\",\n",
    "          \"Total CPR duration\",\n",
    "          \"Mechanical compressions\",\n",
    "          \"Abdominal perimeter\",\n",
    "          \"Heart Mass\",\n",
    "          \"BMI\"]]\n",
    "\n",
    "Y = data[\"SRD (LTOG)\"]"
   ]
  },
  {
   "cell_type": "code",
   "execution_count": 273,
   "id": "f4cc955b",
   "metadata": {},
   "outputs": [],
   "source": [
    "## Building classifier with Heart mass\n",
    "clf = tree.DecisionTreeClassifier(max_depth=4,\n",
    "                                  criterion=\"gini\",\n",
    "                                  min_samples_split=30,\n",
    "                                  min_samples_leaf=4,\n",
    "                                  random_state=55)"
   ]
  },
  {
   "cell_type": "code",
   "execution_count": 274,
   "id": "d46eb8da",
   "metadata": {},
   "outputs": [
    {
     "name": "stdout",
     "output_type": "stream",
     "text": [
      "\n",
      " accuracy_train: 0.7443609022556391, accuracy_test: 0.5522388059701493\n",
      "                   f1_train: 0.8172043010752689, f1_test: 0.693877551020408\n",
      "                   recall_train: 0.7676767676767676,recall_test: 0.6181818181818182\n",
      "                   precision_train: 0.8735632183908046, precision_test: 0.7906976744186046\n",
      "                   mcc_train: 0.4073292473101778, mcc_test: -0.10541621925104283\n",
      "                   roc_train : 0.722073677956031,roc_test: 0.4340909090909091\n",
      "\n",
      "\n",
      " accuracy_train: 0.7368421052631579, accuracy_test: 0.40298507462686567\n",
      "                   f1_train: 0.7682119205298013, f1_test: 0.47368421052631576\n",
      "                   recall_train: 0.8923076923076924,recall_test: 0.5625\n",
      "                   precision_train: 0.6744186046511628, precision_test: 0.4090909090909091\n",
      "                   mcc_train: 0.5025105952704727, mcc_test: -0.18973703160739244\n",
      "                   roc_train : 0.7402714932126697,roc_test: 0.40982142857142856\n",
      "\n",
      "\n",
      " accuracy_train: 0.6940298507462687, accuracy_test: 0.5303030303030303\n",
      "                   f1_train: 0.7759562841530055, f1_test: 0.6436781609195402\n",
      "                   recall_train: 0.7395833333333334,recall_test: 0.6363636363636364\n",
      "                   precision_train: 0.8160919540229885, precision_test: 0.6511627906976745\n",
      "                   mcc_train: 0.3008639534301364, mcc_test: -0.04496937504132879\n",
      "                   roc_train : 0.6592653508771931,roc_test: 0.4772727272727273\n",
      "\n",
      "Average Score---------------------------------------\n",
      "     accuracy_train: 0.7250776194216885, accuracy_test: 0.49517563696668176\n",
      "                   f1_train: 0.7871241685860252, f1_test: 0.603746640822088\n",
      "                   recall_train: 0.7998559311059311,recall_test: 0.6056818181818181\n",
      "                   precision_train: 0.7880245923549852, precision_test: 0.616983791402396\n",
      "                   mcc_train: 0.4035679320035956, mcc_test: -0.11337420863325469,\n",
      "                   roc_train: 0.7072035073486312, roc_test: 0.44039502164502164\n"
     ]
    }
   ],
   "source": [
    "scores = stratifiedEvaluation(classifier=clf,X=X,Y=Y,split=3)"
   ]
  },
  {
   "cell_type": "code",
   "execution_count": 275,
   "id": "d5c9ab50",
   "metadata": {},
   "outputs": [],
   "source": [
    "plot_input = MetricsPlotInput(**scores)"
   ]
  },
  {
   "cell_type": "code",
   "execution_count": 276,
   "id": "a49e72a6",
   "metadata": {},
   "outputs": [
    {
     "data": {
      "text/plain": [
       "<Figure size 2000x3000 with 0 Axes>"
      ]
     },
     "metadata": {},
     "output_type": "display_data"
    },
    {
     "data": {
      "image/png": "[encoded data removed]",
      "text/plain": [
       "<Figure size 640x480 with 1 Axes>"
      ]
     },
     "metadata": {},
     "output_type": "display_data"
    }
   ],
   "source": [
    "plot(name=\"Automated_features.png\",**plot_input)"
   ]
  },
  {
   "cell_type": "code",
   "execution_count": 278,
   "id": "62d95e0b",
   "metadata": {},
   "outputs": [],
   "source": [
    "## Automated model\n",
    "automated_selected_model,x_test,y_test= modelForPlot(clf,X,Y)"
   ]
  },
  {
   "cell_type": "code",
   "execution_count": 279,
   "id": "b7e2eeaa",
   "metadata": {},
   "outputs": [
    {
     "data": {
      "text/plain": [
       "'Decison tree plot\\\\automated_selected_varibale.pdf'"
      ]
     },
     "execution_count": 279,
     "metadata": {},
     "output_type": "execute_result"
    }
   ],
   "source": [
    "### With Automated model\n",
    "import graphviz\n",
    "dot_data = tree.export_graphviz(automated_selected_model,\n",
    "                        out_file=None,\n",
    "                        feature_names=list(X.columns),  \n",
    "                        class_names=[\"0\",\"1\"],  \n",
    "                        filled=True,\n",
    "                        rounded=True,  \n",
    "                        special_characters=True,\n",
    "                               ) \n",
    "graph = graphviz.Source(dot_data) \n",
    "graph.render(r\"Decison tree plot\\automated_selected_varibale\") "
   ]
  },
  {
   "cell_type": "code",
   "execution_count": 281,
   "id": "8f78906a",
   "metadata": {},
   "outputs": [
    {
     "name": "stderr",
     "output_type": "stream",
     "text": [
      "C:\\Users\\saurav\\AppData\\Local\\Temp\\ipykernel_9096\\4289290643.py:4: DeprecationWarning: Importing display from IPython.core.display is deprecated since IPython 7.14, please import from IPython display\n",
      "C:\\Users\\saurav\\anaconda3\\envs\\EnvMod\\lib\\site-packages\\sklearn\\base.py:439: UserWarning: X does not have valid feature names, but DecisionTreeClassifier was fitted with feature names\n"
     ]
    }
   ],
   "source": [
    "### Plotting\n",
    "\n",
    "from dtreeviz.trees import *\n",
    "from IPython.core.display import display, HTML\n",
    "import matplotlib.pyplot as plt\n",
    "\n",
    "\n",
    "viz = dtreeviz.model(automated_selected_model, \n",
    "            X_train= X, \n",
    "            y_train= Y,\n",
    "            target_name= 'SRD (LTOG)',\n",
    "            feature_names= list(X.columns),\n",
    "            class_names= [0,1],)\n",
    "\n",
    "v = viz.view(x=x_test.iloc[0],\n",
    "        highlight_path=[0,1,2,3,],\n",
    "        title=\"Decision Tree - automated_selected_model\",)\n",
    "\n",
    "v.save(r\"Decison tree plot\\automated_selected_varibale.svg\")"
   ]
  },
  {
   "cell_type": "code",
   "execution_count": 283,
   "id": "117ff101",
   "metadata": {},
   "outputs": [
    {
     "data": {
      "text/plain": [
       "1"
      ]
     },
     "execution_count": 283,
     "metadata": {},
     "output_type": "execute_result"
    }
   ],
   "source": [
    "y_test.iloc[0]"
   ]
  }
 ],
 "metadata": {
  "kernelspec": {
   "display_name": "Python 3 (ipykernel)",
   "language": "python",
   "name": "python3"
  },
  "language_info": {
   "codemirror_mode": {
    "name": "ipython",
    "version": 3
   },
   "file_extension": ".py",
   "mimetype": "text/x-python",
   "name": "python",
   "nbconvert_exporter": "python",
   "pygments_lexer": "ipython3",
   "version": "3.10.9"
  }
 },
 "nbformat": 4,
 "nbformat_minor": 5
}
