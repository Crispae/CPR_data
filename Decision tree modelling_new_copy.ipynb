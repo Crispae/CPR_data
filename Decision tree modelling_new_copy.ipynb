{
 "cells": [
  {
   "cell_type": "code",
   "execution_count": 133,
   "id": "cf3203a8",
   "metadata": {},
   "outputs": [],
   "source": [
    "import pandas as pd"
   ]
  },
  {
   "cell_type": "code",
   "execution_count": 134,
   "id": "80c5a79b",
   "metadata": {},
   "outputs": [],
   "source": [
    "data = pd.read_excel(\"cpr_updated_data.xlsx\")"
   ]
  },
  {
   "cell_type": "code",
   "execution_count": 135,
   "id": "5ed0266e",
   "metadata": {},
   "outputs": [
    {
     "data": {
      "text/html": [
       "<div>\n",
       "<style scoped>\n",
       "    .dataframe tbody tr th:only-of-type {\n",
       "        vertical-align: middle;\n",
       "    }\n",
       "\n",
       "    .dataframe tbody tr th {\n",
       "        vertical-align: top;\n",
       "    }\n",
       "\n",
       "    .dataframe thead th {\n",
       "        text-align: right;\n",
       "    }\n",
       "</style>\n",
       "<table border=\"1\" class=\"dataframe\">\n",
       "  <thead>\n",
       "    <tr style=\"text-align: right;\">\n",
       "      <th></th>\n",
       "      <th>Female</th>\n",
       "      <th>Age</th>\n",
       "      <th>Total CPR duration</th>\n",
       "      <th>Mechanical compressions</th>\n",
       "      <th>BMI</th>\n",
       "      <th>Abdominal perimeter</th>\n",
       "      <th>Thorax perimeter</th>\n",
       "      <th>Heart Mass</th>\n",
       "      <th>CMR</th>\n",
       "      <th>SRD</th>\n",
       "    </tr>\n",
       "  </thead>\n",
       "  <tbody>\n",
       "    <tr>\n",
       "      <th>0</th>\n",
       "      <td>0</td>\n",
       "      <td>69</td>\n",
       "      <td>41</td>\n",
       "      <td>0</td>\n",
       "      <td>31.64</td>\n",
       "      <td>98.0</td>\n",
       "      <td>100.0</td>\n",
       "      <td>538.0</td>\n",
       "      <td>1.464942</td>\n",
       "      <td>0</td>\n",
       "    </tr>\n",
       "    <tr>\n",
       "      <th>1</th>\n",
       "      <td>0</td>\n",
       "      <td>63</td>\n",
       "      <td>40</td>\n",
       "      <td>0</td>\n",
       "      <td>28.69</td>\n",
       "      <td>105.0</td>\n",
       "      <td>109.0</td>\n",
       "      <td>504.0</td>\n",
       "      <td>1.372362</td>\n",
       "      <td>1</td>\n",
       "    </tr>\n",
       "    <tr>\n",
       "      <th>2</th>\n",
       "      <td>1</td>\n",
       "      <td>63</td>\n",
       "      <td>35</td>\n",
       "      <td>0</td>\n",
       "      <td>31.25</td>\n",
       "      <td>104.0</td>\n",
       "      <td>116.0</td>\n",
       "      <td>450.0</td>\n",
       "      <td>1.382913</td>\n",
       "      <td>1</td>\n",
       "    </tr>\n",
       "    <tr>\n",
       "      <th>3</th>\n",
       "      <td>0</td>\n",
       "      <td>67</td>\n",
       "      <td>26</td>\n",
       "      <td>0</td>\n",
       "      <td>28.41</td>\n",
       "      <td>96.0</td>\n",
       "      <td>100.0</td>\n",
       "      <td>640.0</td>\n",
       "      <td>1.630989</td>\n",
       "      <td>0</td>\n",
       "    </tr>\n",
       "    <tr>\n",
       "      <th>4</th>\n",
       "      <td>0</td>\n",
       "      <td>52</td>\n",
       "      <td>33</td>\n",
       "      <td>0</td>\n",
       "      <td>41.97</td>\n",
       "      <td>134.0</td>\n",
       "      <td>126.5</td>\n",
       "      <td>NaN</td>\n",
       "      <td>1.260000</td>\n",
       "      <td>1</td>\n",
       "    </tr>\n",
       "  </tbody>\n",
       "</table>\n",
       "</div>"
      ],
      "text/plain": [
       "   Female  Age  Total CPR duration  Mechanical compressions    BMI  \\\n",
       "0       0   69                  41                        0  31.64   \n",
       "1       0   63                  40                        0  28.69   \n",
       "2       1   63                  35                        0  31.25   \n",
       "3       0   67                  26                        0  28.41   \n",
       "4       0   52                  33                        0  41.97   \n",
       "\n",
       "   Abdominal perimeter  Thorax perimeter  Heart Mass       CMR  SRD  \n",
       "0                 98.0             100.0       538.0  1.464942    0  \n",
       "1                105.0             109.0       504.0  1.372362    1  \n",
       "2                104.0             116.0       450.0  1.382913    1  \n",
       "3                 96.0             100.0       640.0  1.630989    0  \n",
       "4                134.0             126.5         NaN  1.260000    1  "
      ]
     },
     "execution_count": 135,
     "metadata": {},
     "output_type": "execute_result"
    }
   ],
   "source": [
    "data.head()"
   ]
  },
  {
   "cell_type": "code",
   "execution_count": 136,
   "id": "3f8531b0",
   "metadata": {},
   "outputs": [
    {
     "data": {
      "text/plain": [
       "Female                     0\n",
       "Age                        0\n",
       "Total CPR duration         0\n",
       "Mechanical compressions    0\n",
       "BMI                        2\n",
       "Abdominal perimeter        2\n",
       "Thorax perimeter           2\n",
       "Heart Mass                 1\n",
       "CMR                        0\n",
       "SRD                        0\n",
       "dtype: int64"
      ]
     },
     "execution_count": 136,
     "metadata": {},
     "output_type": "execute_result"
    }
   ],
   "source": [
    "data.isna().sum()"
   ]
  },
  {
   "cell_type": "markdown",
   "id": "f498f57c",
   "metadata": {},
   "source": [
    "### VIF analysis\n",
    "\n",
    "To measure the multicollinearity among the variables"
   ]
  },
  {
   "cell_type": "code",
   "execution_count": 137,
   "id": "c9c23184",
   "metadata": {},
   "outputs": [],
   "source": [
    "from statsmodels.stats.outliers_influence import variance_inflation_factor\n",
    "import numpy as np"
   ]
  },
  {
   "cell_type": "code",
   "execution_count": 138,
   "id": "d62ea9ad",
   "metadata": {},
   "outputs": [
    {
     "name": "stderr",
     "output_type": "stream",
     "text": [
      "C:\\Users\\saurav\\AppData\\Local\\Temp\\ipykernel_20036\\255674936.py:2: FutureWarning: In a future version of pandas all arguments of DataFrame.any and Series.any will be keyword-only.\n"
     ]
    }
   ],
   "source": [
    "## dropping Na value\n",
    "data_vif = data[~data.isin([np.nan,np.inf,-np.inf]).any(1)]"
   ]
  },
  {
   "cell_type": "code",
   "execution_count": 139,
   "id": "ca7a5831",
   "metadata": {},
   "outputs": [
    {
     "name": "stderr",
     "output_type": "stream",
     "text": [
      "C:\\Users\\saurav\\AppData\\Local\\Temp\\ipykernel_20036\\2232446931.py:1: SettingWithCopyWarning: \n",
      "A value is trying to be set on a copy of a slice from a DataFrame\n",
      "\n",
      "See the caveats in the documentation: https://pandas.pydata.org/pandas-docs/stable/user_guide/indexing.html#returning-a-view-versus-a-copy\n"
     ]
    }
   ],
   "source": [
    "data_vif.drop([\"SRD\"],axis=1,inplace=True)"
   ]
  },
  {
   "cell_type": "code",
   "execution_count": 140,
   "id": "7c01a918",
   "metadata": {},
   "outputs": [],
   "source": [
    "vif_data = pd.DataFrame()\n",
    "vif_data[\"feature\"] = data_vif.columns\n",
    "vif_data[\"VIF\"] = [variance_inflation_factor(data_vif.values, i) for i in range(len(data_vif.columns))]"
   ]
  },
  {
   "cell_type": "code",
   "execution_count": 141,
   "id": "3400cd27",
   "metadata": {},
   "outputs": [
    {
     "data": {
      "text/html": [
       "<div>\n",
       "<style scoped>\n",
       "    .dataframe tbody tr th:only-of-type {\n",
       "        vertical-align: middle;\n",
       "    }\n",
       "\n",
       "    .dataframe tbody tr th {\n",
       "        vertical-align: top;\n",
       "    }\n",
       "\n",
       "    .dataframe thead th {\n",
       "        text-align: right;\n",
       "    }\n",
       "</style>\n",
       "<table border=\"1\" class=\"dataframe\">\n",
       "  <thead>\n",
       "    <tr style=\"text-align: right;\">\n",
       "      <th></th>\n",
       "      <th>Female</th>\n",
       "      <th>Age</th>\n",
       "      <th>Total CPR duration</th>\n",
       "      <th>Mechanical compressions</th>\n",
       "      <th>BMI</th>\n",
       "      <th>Abdominal perimeter</th>\n",
       "      <th>Thorax perimeter</th>\n",
       "      <th>Heart Mass</th>\n",
       "      <th>CMR</th>\n",
       "    </tr>\n",
       "  </thead>\n",
       "  <tbody>\n",
       "    <tr>\n",
       "      <th>0</th>\n",
       "      <td>0</td>\n",
       "      <td>69</td>\n",
       "      <td>41</td>\n",
       "      <td>0</td>\n",
       "      <td>31.64</td>\n",
       "      <td>98.0</td>\n",
       "      <td>100.0</td>\n",
       "      <td>538.0</td>\n",
       "      <td>1.464942</td>\n",
       "    </tr>\n",
       "    <tr>\n",
       "      <th>1</th>\n",
       "      <td>0</td>\n",
       "      <td>63</td>\n",
       "      <td>40</td>\n",
       "      <td>0</td>\n",
       "      <td>28.69</td>\n",
       "      <td>105.0</td>\n",
       "      <td>109.0</td>\n",
       "      <td>504.0</td>\n",
       "      <td>1.372362</td>\n",
       "    </tr>\n",
       "    <tr>\n",
       "      <th>2</th>\n",
       "      <td>1</td>\n",
       "      <td>63</td>\n",
       "      <td>35</td>\n",
       "      <td>0</td>\n",
       "      <td>31.25</td>\n",
       "      <td>104.0</td>\n",
       "      <td>116.0</td>\n",
       "      <td>450.0</td>\n",
       "      <td>1.382913</td>\n",
       "    </tr>\n",
       "    <tr>\n",
       "      <th>3</th>\n",
       "      <td>0</td>\n",
       "      <td>67</td>\n",
       "      <td>26</td>\n",
       "      <td>0</td>\n",
       "      <td>28.41</td>\n",
       "      <td>96.0</td>\n",
       "      <td>100.0</td>\n",
       "      <td>640.0</td>\n",
       "      <td>1.630989</td>\n",
       "    </tr>\n",
       "    <tr>\n",
       "      <th>5</th>\n",
       "      <td>0</td>\n",
       "      <td>39</td>\n",
       "      <td>28</td>\n",
       "      <td>0</td>\n",
       "      <td>28.40</td>\n",
       "      <td>95.0</td>\n",
       "      <td>99.1</td>\n",
       "      <td>461.0</td>\n",
       "      <td>1.213717</td>\n",
       "    </tr>\n",
       "    <tr>\n",
       "      <th>...</th>\n",
       "      <td>...</td>\n",
       "      <td>...</td>\n",
       "      <td>...</td>\n",
       "      <td>...</td>\n",
       "      <td>...</td>\n",
       "      <td>...</td>\n",
       "      <td>...</td>\n",
       "      <td>...</td>\n",
       "      <td>...</td>\n",
       "    </tr>\n",
       "    <tr>\n",
       "      <th>195</th>\n",
       "      <td>0</td>\n",
       "      <td>57</td>\n",
       "      <td>40</td>\n",
       "      <td>0</td>\n",
       "      <td>26.27</td>\n",
       "      <td>77.0</td>\n",
       "      <td>60.0</td>\n",
       "      <td>305.0</td>\n",
       "      <td>0.993841</td>\n",
       "    </tr>\n",
       "    <tr>\n",
       "      <th>196</th>\n",
       "      <td>0</td>\n",
       "      <td>60</td>\n",
       "      <td>44</td>\n",
       "      <td>0</td>\n",
       "      <td>32.91</td>\n",
       "      <td>111.0</td>\n",
       "      <td>112.0</td>\n",
       "      <td>547.0</td>\n",
       "      <td>1.359141</td>\n",
       "    </tr>\n",
       "    <tr>\n",
       "      <th>197</th>\n",
       "      <td>0</td>\n",
       "      <td>45</td>\n",
       "      <td>55</td>\n",
       "      <td>0</td>\n",
       "      <td>24.11</td>\n",
       "      <td>80.0</td>\n",
       "      <td>101.0</td>\n",
       "      <td>431.0</td>\n",
       "      <td>1.250671</td>\n",
       "    </tr>\n",
       "    <tr>\n",
       "      <th>198</th>\n",
       "      <td>0</td>\n",
       "      <td>71</td>\n",
       "      <td>26</td>\n",
       "      <td>1</td>\n",
       "      <td>27.82</td>\n",
       "      <td>102.0</td>\n",
       "      <td>106.0</td>\n",
       "      <td>574.0</td>\n",
       "      <td>1.641665</td>\n",
       "    </tr>\n",
       "    <tr>\n",
       "      <th>199</th>\n",
       "      <td>0</td>\n",
       "      <td>70</td>\n",
       "      <td>47</td>\n",
       "      <td>1</td>\n",
       "      <td>30.81</td>\n",
       "      <td>99.0</td>\n",
       "      <td>87.0</td>\n",
       "      <td>562.0</td>\n",
       "      <td>1.450809</td>\n",
       "    </tr>\n",
       "  </tbody>\n",
       "</table>\n",
       "<p>197 rows × 9 columns</p>\n",
       "</div>"
      ],
      "text/plain": [
       "     Female  Age  Total CPR duration  Mechanical compressions    BMI  \\\n",
       "0         0   69                  41                        0  31.64   \n",
       "1         0   63                  40                        0  28.69   \n",
       "2         1   63                  35                        0  31.25   \n",
       "3         0   67                  26                        0  28.41   \n",
       "5         0   39                  28                        0  28.40   \n",
       "..      ...  ...                 ...                      ...    ...   \n",
       "195       0   57                  40                        0  26.27   \n",
       "196       0   60                  44                        0  32.91   \n",
       "197       0   45                  55                        0  24.11   \n",
       "198       0   71                  26                        1  27.82   \n",
       "199       0   70                  47                        1  30.81   \n",
       "\n",
       "     Abdominal perimeter  Thorax perimeter  Heart Mass       CMR  \n",
       "0                   98.0             100.0       538.0  1.464942  \n",
       "1                  105.0             109.0       504.0  1.372362  \n",
       "2                  104.0             116.0       450.0  1.382913  \n",
       "3                   96.0             100.0       640.0  1.630989  \n",
       "5                   95.0              99.1       461.0  1.213717  \n",
       "..                   ...               ...         ...       ...  \n",
       "195                 77.0              60.0       305.0  0.993841  \n",
       "196                111.0             112.0       547.0  1.359141  \n",
       "197                 80.0             101.0       431.0  1.250671  \n",
       "198                102.0             106.0       574.0  1.641665  \n",
       "199                 99.0              87.0       562.0  1.450809  \n",
       "\n",
       "[197 rows x 9 columns]"
      ]
     },
     "execution_count": 141,
     "metadata": {},
     "output_type": "execute_result"
    }
   ],
   "source": [
    "data_vif"
   ]
  },
  {
   "cell_type": "code",
   "execution_count": 142,
   "id": "a80d6a0b",
   "metadata": {},
   "outputs": [
    {
     "data": {
      "text/html": [
       "<div>\n",
       "<style scoped>\n",
       "    .dataframe tbody tr th:only-of-type {\n",
       "        vertical-align: middle;\n",
       "    }\n",
       "\n",
       "    .dataframe tbody tr th {\n",
       "        vertical-align: top;\n",
       "    }\n",
       "\n",
       "    .dataframe thead th {\n",
       "        text-align: right;\n",
       "    }\n",
       "</style>\n",
       "<table border=\"1\" class=\"dataframe\">\n",
       "  <thead>\n",
       "    <tr style=\"text-align: right;\">\n",
       "      <th></th>\n",
       "      <th>feature</th>\n",
       "      <th>VIF</th>\n",
       "    </tr>\n",
       "  </thead>\n",
       "  <tbody>\n",
       "    <tr>\n",
       "      <th>0</th>\n",
       "      <td>Female</td>\n",
       "      <td>3.081805</td>\n",
       "    </tr>\n",
       "    <tr>\n",
       "      <th>1</th>\n",
       "      <td>Age</td>\n",
       "      <td>24.211065</td>\n",
       "    </tr>\n",
       "    <tr>\n",
       "      <th>2</th>\n",
       "      <td>Total CPR duration</td>\n",
       "      <td>7.006496</td>\n",
       "    </tr>\n",
       "    <tr>\n",
       "      <th>3</th>\n",
       "      <td>Mechanical compressions</td>\n",
       "      <td>1.768569</td>\n",
       "    </tr>\n",
       "    <tr>\n",
       "      <th>4</th>\n",
       "      <td>BMI</td>\n",
       "      <td>117.515286</td>\n",
       "    </tr>\n",
       "    <tr>\n",
       "      <th>5</th>\n",
       "      <td>Abdominal perimeter</td>\n",
       "      <td>238.257221</td>\n",
       "    </tr>\n",
       "    <tr>\n",
       "      <th>6</th>\n",
       "      <td>Thorax perimeter</td>\n",
       "      <td>202.697808</td>\n",
       "    </tr>\n",
       "    <tr>\n",
       "      <th>7</th>\n",
       "      <td>Heart Mass</td>\n",
       "      <td>154.417374</td>\n",
       "    </tr>\n",
       "    <tr>\n",
       "      <th>8</th>\n",
       "      <td>CMR</td>\n",
       "      <td>154.352437</td>\n",
       "    </tr>\n",
       "  </tbody>\n",
       "</table>\n",
       "</div>"
      ],
      "text/plain": [
       "                   feature         VIF\n",
       "0                   Female    3.081805\n",
       "1                      Age   24.211065\n",
       "2       Total CPR duration    7.006496\n",
       "3  Mechanical compressions    1.768569\n",
       "4                      BMI  117.515286\n",
       "5      Abdominal perimeter  238.257221\n",
       "6         Thorax perimeter  202.697808\n",
       "7               Heart Mass  154.417374\n",
       "8                      CMR  154.352437"
      ]
     },
     "execution_count": 142,
     "metadata": {},
     "output_type": "execute_result"
    }
   ],
   "source": [
    "vif_data"
   ]
  },
  {
   "cell_type": "markdown",
   "id": "9e675b7a",
   "metadata": {},
   "source": [
    "#### vif analysis\n",
    "This shows that, most of the varibales are highly corellated, whereas in case of femalae and male\n",
    "compression, data is binary so doesn´t show that much of influence."
   ]
  },
  {
   "cell_type": "code",
   "execution_count": 143,
   "id": "fac4d1ca",
   "metadata": {},
   "outputs": [
    {
     "data": {
      "text/plain": [
       "<AxesSubplot:>"
      ]
     },
     "execution_count": 143,
     "metadata": {},
     "output_type": "execute_result"
    },
    {
     "data": {
      "image/png": "[encoded data removed]",
      "text/plain": [
       "<Figure size 640x480 with 2 Axes>"
      ]
     },
     "metadata": {},
     "output_type": "display_data"
    }
   ],
   "source": [
    "import seaborn as sns\n",
    "sns.heatmap(data_vif.corr())"
   ]
  },
  {
   "cell_type": "markdown",
   "id": "93f2b0fd",
   "metadata": {},
   "source": [
    "### Decison tree Modellling\n",
    "\n",
    "___\n"
   ]
  },
  {
   "cell_type": "markdown",
   "id": "556e9d06",
   "metadata": {},
   "source": [
    "#### Clinically relevant variables\n",
    "1. Age\n",
    "2. Sex\n",
    "3. Total CPR time\n",
    "4. mechanical compressions\n",
    "5. Abdominal perimeter\n",
    "6. Thorax perimeter\n",
    "7. Heart Mass/CMR\n",
    "\n",
    "**Decision tree parameter**\n",
    "1. Depth 4\n",
    "2. Node splitting 30\n",
    "3. leaf splitting 4\n",
    "4. Gini impurity"
   ]
  },
  {
   "cell_type": "code",
   "execution_count": 144,
   "id": "c098284e",
   "metadata": {},
   "outputs": [],
   "source": [
    "import matplotlib.pyplot as plt\n",
    "from collections import Counter\n",
    "import seaborn as sns\n",
    "import numpy as np"
   ]
  },
  {
   "cell_type": "code",
   "execution_count": 145,
   "id": "35640bf7",
   "metadata": {},
   "outputs": [],
   "source": [
    "from sklearn import tree\n",
    "from sklearn.tree import export_text"
   ]
  },
  {
   "cell_type": "code",
   "execution_count": 146,
   "id": "5556e515",
   "metadata": {},
   "outputs": [],
   "source": [
    "#data.drop(\"Caso\",axis=1,inplace=True)"
   ]
  },
  {
   "cell_type": "code",
   "execution_count": 147,
   "id": "d3ce86ed",
   "metadata": {},
   "outputs": [
    {
     "data": {
      "text/plain": [
       "Female                     0\n",
       "Age                        0\n",
       "Total CPR duration         0\n",
       "Mechanical compressions    0\n",
       "BMI                        2\n",
       "Abdominal perimeter        2\n",
       "Thorax perimeter           2\n",
       "Heart Mass                 1\n",
       "CMR                        0\n",
       "SRD                        0\n",
       "dtype: int64"
      ]
     },
     "execution_count": 147,
     "metadata": {},
     "output_type": "execute_result"
    }
   ],
   "source": [
    "data.isna().sum()"
   ]
  },
  {
   "cell_type": "markdown",
   "id": "52ce14eb",
   "metadata": {},
   "source": [
    "### Filling NA value\n",
    "\n",
    "1. Fill the NA value with mean of the distribution.\n"
   ]
  },
  {
   "cell_type": "code",
   "execution_count": 148,
   "id": "fa096e33",
   "metadata": {},
   "outputs": [],
   "source": [
    "### Fill the NA value\n",
    "data[\"BMI\"].fillna(data[\"BMI\"].mean(),inplace=True)\n",
    "data[\"Abdominal perimeter\"].fillna(data[\"Abdominal perimeter\"].mean(),inplace=True)\n",
    "data[\"Thorax perimeter\"].fillna(data[\"Thorax perimeter\"].mean(),inplace=True)\n",
    "data[\"Heart Mass\"].fillna(data[\"Heart Mass\"].mean(),inplace=True)"
   ]
  },
  {
   "cell_type": "code",
   "execution_count": 149,
   "id": "f09a216b",
   "metadata": {},
   "outputs": [
    {
     "data": {
      "text/plain": [
       "Female                     0\n",
       "Age                        0\n",
       "Total CPR duration         0\n",
       "Mechanical compressions    0\n",
       "BMI                        0\n",
       "Abdominal perimeter        0\n",
       "Thorax perimeter           0\n",
       "Heart Mass                 0\n",
       "CMR                        0\n",
       "SRD                        0\n",
       "dtype: int64"
      ]
     },
     "execution_count": 149,
     "metadata": {},
     "output_type": "execute_result"
    }
   ],
   "source": [
    "data.isna().sum()"
   ]
  },
  {
   "cell_type": "markdown",
   "id": "db00a80e",
   "metadata": {},
   "source": [
    "### Functions for model evaluation and plotting"
   ]
  },
  {
   "cell_type": "markdown",
   "id": "94d922c1",
   "metadata": {},
   "source": [
    "#### Single Evaluation of model"
   ]
  },
  {
   "cell_type": "code",
   "execution_count": 150,
   "id": "0470d5ae",
   "metadata": {},
   "outputs": [],
   "source": [
    "from sklearn.metrics import accuracy_score,f1_score,recall_score,precision_score,roc_auc_score,matthews_corrcoef\n",
    "\n",
    "def model_eval(model,x_train,x_test,y_train,y_test):\n",
    "    \n",
    "    \"\"\" \n",
    "    Model Eval take the model and data to return score on just one run\n",
    "    ,data can be reshulled befor input\n",
    "    \n",
    "    \"\"\"\n",
    "    \n",
    "    ## Accuracy\n",
    "    train_accuracy = accuracy_score(model.predict(X_train),y_train)\n",
    "    test_accuracy = accuracy_score(model.predict(X_test),y_test)\n",
    "\n",
    "    ## F1 score\n",
    "    train_f1 = f1_score(model.predict(X_train),y_train)\n",
    "    test_f1 = f1_score(model.predict(X_test),y_test)\n",
    "\n",
    "    ## Recall\n",
    "    train_recall = recall_score(model.predict(X_train),y_train)\n",
    "    test_recall = recall_score(model.predict(X_test),y_test)\n",
    "\n",
    "    ## Precision\n",
    "    train_precision = precision_score(model.predict(X_train),y_train)\n",
    "    test_precision = precision_score(model.predict(X_test),y_test)\n",
    "\n",
    "    ### ROC_AUC score\n",
    "    train_roc = roc_auc_score(model.predict(X_train),y_train)\n",
    "    test_roc = roc_auc_score(model.predict(X_test),y_test)\n",
    "\n",
    "    ### mcc Score \n",
    "    train_mcc = matthews_corrcoef(model.predict(X_train),y_train)\n",
    "    test_mcc = matthews_corrcoef(model.predict(X_test),y_test)\n",
    "\n",
    "\n",
    "    print(\"Accuracy: \",train_accuracy,\",\",test_accuracy)\n",
    "    print(\"F1: \",train_f1,\",\",test_f1)\n",
    "    print(\"Recall: \",train_recall,\",\",test_recall)\n",
    "    print(\"Precision: \",train_precision,\",\",test_precision)\n",
    "    print(\"ROC: \",train_roc,\",\",test_roc)\n",
    "    print(\"MCC: \",train_mcc,\",\",test_mcc)"
   ]
  },
  {
   "cell_type": "markdown",
   "id": "8ef9adfb",
   "metadata": {},
   "source": [
    "#### Evaluation of model on stratified loop"
   ]
  },
  {
   "cell_type": "code",
   "execution_count": 151,
   "id": "c0ca4beb",
   "metadata": {},
   "outputs": [],
   "source": [
    "### splitting the and training and evaluating at 5 fold\n",
    "from sklearn.model_selection import train_test_split, StratifiedKFold\n",
    "from sklearn.metrics import accuracy_score,f1_score,recall_score,precision_score,matthews_corrcoef,roc_auc_score\n",
    "\n",
    "\n",
    "def stratifiedEvaluation(classifier,X,Y,split):\n",
    "    \n",
    "    \"\"\" Split the data into multiple folds, train and test the model\n",
    "        on each folds, calculate the metrics as well.\n",
    "    \n",
    "    \"\"\"\n",
    "    X = np.array(X)\n",
    "    Y = np.array(Y)\n",
    "    \n",
    "    skf = StratifiedKFold(n_splits=split,shuffle=True,random_state=44444,)\n",
    "\n",
    "    ### Metrics container:\n",
    "\n",
    "    ## Accuracy\n",
    "    train_acc = []\n",
    "    test_acc =  []\n",
    "\n",
    "    ## F1 score\n",
    "    train_F1 = []\n",
    "    test_F1 =  []\n",
    "\n",
    "    ## Recall score\n",
    "    train_rec = []\n",
    "    test_rec =  []\n",
    "\n",
    "    ## Precision Score\n",
    "    train_prec = []\n",
    "    test_prec  = []\n",
    "\n",
    "    ## Matthe corre_coef\n",
    "    train_matt = []\n",
    "    test_matt =  []\n",
    "\n",
    "    ## roc_auc score\n",
    "    train_roc_ = []\n",
    "    test_roc_ = []\n",
    "\n",
    "\n",
    "    for train_index, test_index in skf.split(X, Y,):\n",
    "        X_train, X_test = X[train_index], X[test_index]\n",
    "        y_train, y_test = Y[train_index], Y[test_index]\n",
    "\n",
    "        ### Model Training\n",
    "        model = clf.fit(X_train,y_train)\n",
    "\n",
    "        ### Train and Test prediciton\n",
    "        train_pred = model.predict(X_train,)\n",
    "        test_pred  = model.predict(X_test,)\n",
    "\n",
    "\n",
    "        ### Metrics calculation\n",
    "\n",
    "        ### Accuracy\n",
    "        train_accuracy = accuracy_score(train_pred,y_train)\n",
    "        train_acc.append(train_accuracy)\n",
    "        test_accuracy = accuracy_score(test_pred,y_test)\n",
    "        test_acc.append(test_accuracy)\n",
    "\n",
    "        ### F1 score\n",
    "        train_f1 = f1_score(train_pred,y_train)\n",
    "        train_F1.append(train_f1)\n",
    "        test_f1 =  f1_score(test_pred,y_test)\n",
    "        test_F1.append(test_f1)\n",
    "\n",
    "        ### Recall_score\n",
    "        train_recall = recall_score(train_pred,y_train)\n",
    "        train_rec.append(train_recall)\n",
    "        test_recall = recall_score(test_pred,y_test)\n",
    "        test_rec.append(test_recall)\n",
    "\n",
    "        ### Precision score\n",
    "        train_precision = precision_score(train_pred,y_train)\n",
    "        train_prec.append(train_precision)\n",
    "        test_precision = precision_score(test_pred,y_test)\n",
    "        test_prec.append(test_precision)\n",
    "\n",
    "        ### Matthew corre_coef\n",
    "        train_mcc = matthews_corrcoef(train_pred,y_train)\n",
    "        train_matt.append(train_mcc)\n",
    "        test_mcc =  matthews_corrcoef(test_pred,y_test)\n",
    "        test_matt.append(test_mcc)\n",
    "\n",
    "        ### ROC_auc prediction\n",
    "        train_roc = roc_auc_score(train_pred,y_train)\n",
    "        train_roc_.append(train_roc)\n",
    "        test_roc =  roc_auc_score(test_pred,y_test)\n",
    "        test_roc_.append(test_roc)\n",
    "\n",
    "        print()\n",
    "\n",
    "        print(f\"\"\" accuracy_train: {train_accuracy}, accuracy_test: {test_accuracy}\n",
    "                   f1_train: {train_f1}, f1_test: {test_f1}\n",
    "                   recall_train: {train_recall},recall_test: {test_recall}\n",
    "                   precision_train: {train_precision}, precision_test: {test_precision}\n",
    "                   mcc_train: {train_mcc}, mcc_test: {test_mcc}\n",
    "                   roc_train : {train_roc},roc_test: {test_roc}\"\"\")\n",
    "        print()\n",
    "\n",
    "\n",
    "    print(\"Average Score---------------------------------------\")\n",
    "    print(f\"\"\"     accuracy_train: {np.mean(train_acc)}, accuracy_test: {np.mean(test_acc)}\n",
    "                   f1_train: {np.mean(train_F1)}, f1_test: {np.mean(test_F1)}\n",
    "                   recall_train: {np.mean(train_rec)},recall_test: {np.mean(test_rec)}\n",
    "                   precision_train: {np.mean(train_prec)}, precision_test: {np.mean(test_prec)}\n",
    "                   mcc_train: {np.mean(train_matt)}, mcc_test: {np.mean(test_matt)},\n",
    "                   roc_train: {np.mean(train_roc_)}, roc_test: {np.mean(test_roc_)}\"\"\")\n",
    "    \n",
    "    result_dict = {\"test_acc\":test_acc,\n",
    "                  \"test_F1\":test_F1,\n",
    "                  \"test_rec\":test_rec,\n",
    "                  \"test_prec\":test_prec,\n",
    "                  \"test_matt\":test_matt,\n",
    "                  \"test_roc\":test_roc_,}\n",
    "    \n",
    "    return result_dict"
   ]
  },
  {
   "cell_type": "code",
   "execution_count": 152,
   "id": "0973e4a1",
   "metadata": {},
   "outputs": [],
   "source": [
    "def MetricsPlotInput(test_acc,\n",
    "                test_F1,\n",
    "                test_rec,\n",
    "                test_prec,\n",
    "                test_matt,\n",
    "                test_roc):\n",
    "    \"\"\" \n",
    "    \n",
    "    calculate the mean and standard deviation of all metrics\n",
    "    \n",
    "    \"\"\"\n",
    "        \n",
    "    # Create lists for the plot\n",
    "    metrics= ['Accuracy',\n",
    "              'F1 score',\n",
    "              'Recall',\n",
    "              'Precision',\n",
    "              'MCC',\n",
    "              'ROC']\n",
    "\n",
    "    x_pos = np.arange(len(metrics))\n",
    "\n",
    "    CTEs = [np.mean(test_acc),\n",
    "            np.mean(test_F1),\n",
    "            np.mean(test_rec),\n",
    "            np.mean(test_prec),\n",
    "            np.mean(test_matt),\n",
    "            np.mean(test_roc)]\n",
    "\n",
    "    error = [np.std(test_acc),\n",
    "             np.std(test_F1),\n",
    "             np.std(test_rec),\n",
    "             np.std(test_prec),\n",
    "             np.std(test_matt),\n",
    "             np.std(test_roc)]\n",
    "    \n",
    "    return {\"metrics\":metrics,\n",
    "           \"x_pos\":x_pos,\n",
    "           \"CTEs\":CTEs,\n",
    "           \"error\":error}\n",
    "    \n",
    "    "
   ]
  },
  {
   "cell_type": "code",
   "execution_count": 153,
   "id": "3b915d94",
   "metadata": {},
   "outputs": [],
   "source": [
    "from matplotlib.pyplot import figure\n",
    "\n",
    "def plot(name,metrics,x_pos,CTEs,error):\n",
    "    figure(figsize=(20, 30), dpi=100)\n",
    "    sns.set_context(\"talk\")\n",
    "    fig, ax = plt.subplots()\n",
    "    ax.bar(x_pos, CTEs, yerr=error, align='center', alpha=0.5, ecolor='black', capsize=10)\n",
    "    \n",
    "    ax.set_ylabel('Metrics Score')\n",
    "    ax.set_xticks(x_pos)\n",
    "    plt.xticks(rotation = 45)\n",
    "    ax.set_xticklabels(metrics)\n",
    "    ax.set_title('Comparision of metrics with 95% CI')\n",
    "    ax.yaxis.grid(True)\n",
    "\n",
    "    # # Save the figure and show\n",
    "    plt.tight_layout()\n",
    "    plt.savefig(name)\n",
    "    plt.show()\n",
    "    "
   ]
  },
  {
   "cell_type": "code",
   "execution_count": 154,
   "id": "5f6f67e5",
   "metadata": {},
   "outputs": [],
   "source": [
    "## Plotting feature importance\n",
    "def plotFeatureImportance(model,columns,plot_name):\n",
    "    sns.set_context(\"poster\")\n",
    "    plt.figure(figsize=(35,30))\n",
    "    sns.barplot([x for x in X.columns], model2.feature_importances_,)\n",
    "    plt.xticks(rotation = 45) # Rotates X-Axis Ticks by 45-degrees\n",
    "    plt.title(\"Feature importance\")\n",
    "    plt.savefig(plot_name,dpi=100)\n",
    "    plt.show()"
   ]
  },
  {
   "cell_type": "code",
   "execution_count": 155,
   "id": "1b1da58d",
   "metadata": {},
   "outputs": [],
   "source": [
    "### OVERALL DATA"
   ]
  },
  {
   "cell_type": "code",
   "execution_count": 156,
   "id": "c08ee88a",
   "metadata": {},
   "outputs": [],
   "source": [
    "X = data.drop([\"SRD\"],axis=1) \n",
    "Y = pd.DataFrame(data[\"SRD\"])"
   ]
  },
  {
   "cell_type": "markdown",
   "id": "1fa886c2",
   "metadata": {},
   "source": [
    "#### With Heart mass"
   ]
  },
  {
   "cell_type": "code",
   "execution_count": 157,
   "id": "c17f113b",
   "metadata": {},
   "outputs": [
    {
     "data": {
      "text/plain": [
       "Index(['Female', 'Age', 'Total CPR duration', 'Mechanical compressions', 'BMI',\n",
       "       'Abdominal perimeter', 'Thorax perimeter', 'Heart Mass', 'CMR'],\n",
       "      dtype='object')"
      ]
     },
     "execution_count": 157,
     "metadata": {},
     "output_type": "execute_result"
    }
   ],
   "source": [
    "X.columns"
   ]
  },
  {
   "cell_type": "code",
   "execution_count": 158,
   "id": "3cda12b2",
   "metadata": {},
   "outputs": [],
   "source": [
    "### Dropping CMR\n",
    "X = X.drop([\"CMR\"],axis=1) "
   ]
  },
  {
   "cell_type": "code",
   "execution_count": 159,
   "id": "6671abf7",
   "metadata": {},
   "outputs": [],
   "source": [
    "## Building classifier with Heart mass\n",
    "clf = tree.DecisionTreeClassifier(max_depth=4,\n",
    "                                  criterion=\"gini\",\n",
    "                                  min_samples_split=30,\n",
    "                                  min_samples_leaf=4,\n",
    "                                  random_state=55)"
   ]
  },
  {
   "cell_type": "code",
   "execution_count": 160,
   "id": "ff242567",
   "metadata": {},
   "outputs": [
    {
     "name": "stdout",
     "output_type": "stream",
     "text": [
      "\n",
      " accuracy_train: 0.7293233082706767, accuracy_test: 0.5970149253731343\n",
      "                   f1_train: 0.8181818181818181, f1_test: 0.7157894736842104\n",
      "                   recall_train: 0.7297297297297297,recall_test: 0.6538461538461539\n",
      "                   precision_train: 0.9310344827586207, precision_test: 0.7906976744186046\n",
      "                   mcc_train: 0.35698734644371505, mcc_test: 0.04681253291507378\n",
      "                   roc_train : 0.7285012285012286,roc_test: 0.5269230769230769\n",
      "\n",
      "\n",
      " accuracy_train: 0.7368421052631579, accuracy_test: 0.417910447761194\n",
      "                   f1_train: 0.7682119205298013, f1_test: 0.49350649350649356\n",
      "                   recall_train: 0.8923076923076924,recall_test: 0.5757575757575758\n",
      "                   precision_train: 0.6744186046511628, precision_test: 0.4318181818181818\n",
      "                   mcc_train: 0.5025105952704727, mcc_test: -0.16798339191334635\n",
      "                   roc_train : 0.7402714932126697,roc_test: 0.4202317290552584\n",
      "\n",
      "\n",
      " accuracy_train: 0.6940298507462687, accuracy_test: 0.5\n",
      "                   f1_train: 0.7759562841530055, f1_test: 0.6292134831460675\n",
      "                   recall_train: 0.7395833333333334,recall_test: 0.6086956521739131\n",
      "                   precision_train: 0.8160919540229885, precision_test: 0.6511627906976745\n",
      "                   mcc_train: 0.3008639534301364, mcc_test: -0.1362860149612034\n",
      "                   roc_train : 0.6592653508771931,roc_test: 0.42934782608695654\n",
      "\n",
      "Average Score---------------------------------------\n",
      "     accuracy_train: 0.7200650880933677, accuracy_test: 0.5049751243781094\n",
      "                   f1_train: 0.7874500076215417, f1_test: 0.6128364834455905\n",
      "                   recall_train: 0.7872069184569185,recall_test: 0.6127664605925476\n",
      "                   precision_train: 0.8071816804775906, precision_test: 0.6245595489781536\n",
      "                   mcc_train: 0.3867872983814413, mcc_test: -0.08581895798649199,\n",
      "                   roc_train: 0.7093460241970305, roc_test: 0.45883421068843067\n"
     ]
    }
   ],
   "source": [
    "scores = stratifiedEvaluation(classifier=clf,X=X,Y=Y,split=3)"
   ]
  },
  {
   "cell_type": "code",
   "execution_count": 161,
   "id": "16a95e0a",
   "metadata": {},
   "outputs": [],
   "source": [
    "plot_input = MetricsPlotInput(**scores)"
   ]
  },
  {
   "cell_type": "code",
   "execution_count": 162,
   "id": "1e99e3a5",
   "metadata": {},
   "outputs": [
    {
     "data": {
      "text/plain": [
       "<Figure size 2000x3000 with 0 Axes>"
      ]
     },
     "metadata": {},
     "output_type": "display_data"
    },
    {
     "data": {
      "image/png": "[encoded data removed]",
      "text/plain": [
       "<Figure size 640x480 with 1 Axes>"
      ]
     },
     "metadata": {},
     "output_type": "display_data"
    }
   ],
   "source": [
    "plot(name=\"clinical_relevant_with_heart_mass.png\",**plot_input)"
   ]
  },
  {
   "cell_type": "code",
   "execution_count": 163,
   "id": "ea5bfcf3",
   "metadata": {},
   "outputs": [],
   "source": [
    "### First need to train the model on training data \n",
    "from sklearn.model_selection import train_test_split\n",
    "\n",
    "def modelForPlot(clf,X,Y):    \n",
    "    \n",
    "    ### Fitting the data in model\n",
    "    model = clf.fit(X,Y)\n",
    "    \n",
    "    return model\n"
   ]
  },
  {
   "cell_type": "code",
   "execution_count": 164,
   "id": "c3b52815",
   "metadata": {},
   "outputs": [],
   "source": [
    "### Decision tree model with clincally relevant varibale\n",
    "clinical_relevant_model = modelForPlot(clf,X,Y)"
   ]
  },
  {
   "cell_type": "code",
   "execution_count": 165,
   "id": "143a931d",
   "metadata": {},
   "outputs": [],
   "source": [
    "from sklearn import tree\n",
    "from sklearn.tree import export_text"
   ]
  },
  {
   "cell_type": "code",
   "execution_count": 166,
   "id": "2fe582c2",
   "metadata": {},
   "outputs": [
    {
     "data": {
      "text/plain": [
       "'Decison tree plot\\\\clinical_relevant_with_heart_mass.pdf'"
      ]
     },
     "execution_count": 166,
     "metadata": {},
     "output_type": "execute_result"
    }
   ],
   "source": [
    "import graphviz\n",
    "dot_data = tree.export_graphviz(clinical_relevant_model, out_file=None,\n",
    "                     \n",
    "                      feature_names=list(X.columns),  \n",
    "                      class_names=[\"0\",\"1\"],  \n",
    "                      filled=True, rounded=True,  \n",
    "                      special_characters=True,\n",
    "                               ) \n",
    "graph = graphviz.Source(dot_data) \n",
    "graph.render(\"Decison tree plot\\clinical_relevant_with_heart_mass\") "
   ]
  },
  {
   "cell_type": "code",
   "execution_count": 167,
   "id": "216bcd11",
   "metadata": {},
   "outputs": [],
   "source": [
    "#### visulaizing using dtreeviz"
   ]
  },
  {
   "cell_type": "code",
   "execution_count": 168,
   "id": "bcda7862",
   "metadata": {},
   "outputs": [],
   "source": [
    "import dtreeviz"
   ]
  },
  {
   "cell_type": "code",
   "execution_count": 169,
   "id": "9ca9acba",
   "metadata": {},
   "outputs": [
    {
     "name": "stderr",
     "output_type": "stream",
     "text": [
      "C:\\Users\\saurav\\AppData\\Local\\Temp\\ipykernel_20036\\1190034068.py:2: DeprecationWarning: Importing display from IPython.core.display is deprecated since IPython 7.14, please import from IPython display\n"
     ]
    }
   ],
   "source": [
    "from dtreeviz.trees import *\n",
    "from IPython.core.display import display, HTML\n",
    "\n",
    "viz = dtreeviz.model(clinical_relevant_model, \n",
    "            X_train= X, \n",
    "            y_train= Y[\"SRD\"],\n",
    "            target_name= 'SRD',\n",
    "            feature_names= list(X.columns),\n",
    "            class_names= [0,1],)"
   ]
  },
  {
   "cell_type": "code",
   "execution_count": 170,
   "id": "951dbb36",
   "metadata": {},
   "outputs": [
    {
     "name": "stderr",
     "output_type": "stream",
     "text": [
      "C:\\Users\\saurav\\anaconda3\\envs\\EnvMod\\lib\\site-packages\\sklearn\\base.py:439: UserWarning: X does not have valid feature names, but DecisionTreeClassifier was fitted with feature names\n"
     ]
    }
   ],
   "source": [
    "import matplotlib.pyplot as plt\n",
    "v = viz.view(x=X.iloc[0],\n",
    "         highlight_path=[0,1,2,3,],\n",
    "        title=\"Decision Tree - clinical_relevant_heart_mass\",)\n"
   ]
  },
  {
   "cell_type": "code",
   "execution_count": 171,
   "id": "9667b3fc",
   "metadata": {},
   "outputs": [],
   "source": [
    "v.save(\"Decison tree plot\\clinical_relevant_heart_mass.svg\")"
   ]
  },
  {
   "cell_type": "markdown",
   "id": "96b81871",
   "metadata": {},
   "source": [
    "### WITH CMR"
   ]
  },
  {
   "cell_type": "code",
   "execution_count": 172,
   "id": "99bf3138",
   "metadata": {},
   "outputs": [],
   "source": [
    "X = data.drop([\"SRD\"],axis=1) \n",
    "Y = pd.DataFrame(data[\"SRD\"])"
   ]
  },
  {
   "cell_type": "code",
   "execution_count": 173,
   "id": "747bbfca",
   "metadata": {},
   "outputs": [],
   "source": [
    "X.drop(\"Heart Mass\",inplace=True,axis=1)"
   ]
  },
  {
   "cell_type": "code",
   "execution_count": 174,
   "id": "291eefae",
   "metadata": {},
   "outputs": [],
   "source": [
    "## Building classifier with Heart mass\n",
    "clf = tree.DecisionTreeClassifier(max_depth=4,\n",
    "                                  criterion=\"gini\",\n",
    "                                  min_samples_split=30,\n",
    "                                  min_samples_leaf=4,\n",
    "                                  random_state=55)"
   ]
  },
  {
   "cell_type": "code",
   "execution_count": 175,
   "id": "aa380040",
   "metadata": {},
   "outputs": [
    {
     "name": "stdout",
     "output_type": "stream",
     "text": [
      "\n",
      " accuracy_train: 0.7293233082706767, accuracy_test: 0.5970149253731343\n",
      "                   f1_train: 0.8181818181818181, f1_test: 0.7157894736842104\n",
      "                   recall_train: 0.7297297297297297,recall_test: 0.6538461538461539\n",
      "                   precision_train: 0.9310344827586207, precision_test: 0.7906976744186046\n",
      "                   mcc_train: 0.35698734644371505, mcc_test: 0.04681253291507378\n",
      "                   roc_train : 0.7285012285012286,roc_test: 0.5269230769230769\n",
      "\n",
      "\n",
      " accuracy_train: 0.7142857142857143, accuracy_test: 0.43283582089552236\n",
      "                   f1_train: 0.7682926829268293, f1_test: 0.5476190476190476\n",
      "                   recall_train: 0.8076923076923077,recall_test: 0.575\n",
      "                   precision_train: 0.7325581395348837, precision_test: 0.5227272727272727\n",
      "                   mcc_train: 0.40128197214765887, mcc_test: -0.209479718124847\n",
      "                   roc_train : 0.6947552447552447,roc_test: 0.3986111111111111\n",
      "\n",
      "\n",
      " accuracy_train: 0.7238805970149254, accuracy_test: 0.5909090909090909\n",
      "                   f1_train: 0.778443113772455, f1_test: 0.7032967032967034\n",
      "                   recall_train: 0.8125,recall_test: 0.6666666666666666\n",
      "                   precision_train: 0.7471264367816092, precision_test: 0.7441860465116279\n",
      "                   mcc_train: 0.41637785158911667, mcc_test: 0.05192616157080083\n",
      "                   roc_train : 0.7025462962962963,roc_test: 0.5277777777777777\n",
      "\n",
      "Average Score---------------------------------------\n",
      "     accuracy_train: 0.7224965398571054, accuracy_test: 0.5402532790592492\n",
      "                   f1_train: 0.7883058716270342, f1_test: 0.6555684081999872\n",
      "                   recall_train: 0.7833073458073457,recall_test: 0.6318376068376068\n",
      "                   precision_train: 0.8035730196917045, precision_test: 0.6858703312191684\n",
      "                   mcc_train: 0.3915490567268302, mcc_test: -0.03691367454632413,\n",
      "                   roc_train: 0.7086009231842566, roc_test: 0.4844373219373219\n"
     ]
    }
   ],
   "source": [
    "scores = stratifiedEvaluation(classifier=clf,X=X,Y=Y,split=3)"
   ]
  },
  {
   "cell_type": "code",
   "execution_count": 176,
   "id": "b02ebd5b",
   "metadata": {},
   "outputs": [],
   "source": [
    "plot_input = MetricsPlotInput(**scores)"
   ]
  },
  {
   "cell_type": "code",
   "execution_count": 177,
   "id": "1afbe7a9",
   "metadata": {},
   "outputs": [
    {
     "data": {
      "text/plain": [
       "<Figure size 2000x3000 with 0 Axes>"
      ]
     },
     "metadata": {},
     "output_type": "display_data"
    },
    {
     "data": {
      "image/png": "[encoded data removed]",
      "text/plain": [
       "<Figure size 640x480 with 1 Axes>"
      ]
     },
     "metadata": {},
     "output_type": "display_data"
    }
   ],
   "source": [
    "plot(name=\"clinical_relevent_metrics_with_CMR.png\",**plot_input)"
   ]
  },
  {
   "cell_type": "code",
   "execution_count": 178,
   "id": "7fce68fe",
   "metadata": {},
   "outputs": [],
   "source": [
    "### Model on complete data\n",
    "clinical_relevant_model_with_CMR = modelForPlot(clf,X,Y)"
   ]
  },
  {
   "cell_type": "code",
   "execution_count": 179,
   "id": "6c90000d",
   "metadata": {},
   "outputs": [
    {
     "data": {
      "text/plain": [
       "'Decison tree plot\\\\clinical_relevant_with_CMR.pdf'"
      ]
     },
     "execution_count": 179,
     "metadata": {},
     "output_type": "execute_result"
    }
   ],
   "source": [
    "import graphviz\n",
    "dot_data = tree.export_graphviz(clinical_relevant_model_with_CMR, out_file=None,\n",
    "                      feature_names=list(X.columns),  \n",
    "                      class_names=[\"0\",\"1\"],  \n",
    "                      filled=True, rounded=True,  \n",
    "                      special_characters=True,\n",
    "                               ) \n",
    "graph = graphviz.Source(dot_data) \n",
    "graph.render(\"Decison tree plot\\clinical_relevant_with_CMR\") "
   ]
  },
  {
   "cell_type": "code",
   "execution_count": 180,
   "id": "b4e418f2",
   "metadata": {},
   "outputs": [
    {
     "name": "stderr",
     "output_type": "stream",
     "text": [
      "C:\\Users\\saurav\\AppData\\Local\\Temp\\ipykernel_20036\\2520616233.py:2: DeprecationWarning: Importing display from IPython.core.display is deprecated since IPython 7.14, please import from IPython display\n"
     ]
    }
   ],
   "source": [
    "from dtreeviz.trees import *\n",
    "from IPython.core.display import display, HTML\n",
    "\n",
    "viz = dtreeviz.model(clinical_relevant_model_with_CMR, \n",
    "            X_train= X, \n",
    "            y_train= Y[\"SRD\"],\n",
    "            target_name= 'SRD',\n",
    "            feature_names= list(X.columns),\n",
    "            class_names= [0,1],)"
   ]
  },
  {
   "cell_type": "code",
   "execution_count": 181,
   "id": "de02d551",
   "metadata": {},
   "outputs": [
    {
     "name": "stderr",
     "output_type": "stream",
     "text": [
      "C:\\Users\\saurav\\anaconda3\\envs\\EnvMod\\lib\\site-packages\\sklearn\\base.py:439: UserWarning: X does not have valid feature names, but DecisionTreeClassifier was fitted with feature names\n"
     ]
    }
   ],
   "source": [
    "import matplotlib.pyplot as plt\n",
    "v = viz.view(x=X.iloc[0],\n",
    "         highlight_path=[0,1,2,3,],\n",
    "        title=\"Decision Tree - clinical_relevant_with_CMR\",)"
   ]
  },
  {
   "cell_type": "code",
   "execution_count": 182,
   "id": "bff4f934",
   "metadata": {},
   "outputs": [],
   "source": [
    "v.save(\"Decison tree plot\\clinical_relevant_with_CMR.svg\")"
   ]
  },
  {
   "cell_type": "markdown",
   "id": "333f9bf7",
   "metadata": {},
   "source": [
    "### WIth signifcant variable (Updated) : 3 tree\n",
    "\n",
    "1. Age\n",
    "2. Total CPR time\n",
    "3. Mechanical compression\n",
    "4. Thorax perimeter\n",
    "5. sex\n",
    "6. SRD"
   ]
  },
  {
   "cell_type": "code",
   "execution_count": 183,
   "id": "6516801f",
   "metadata": {},
   "outputs": [],
   "source": [
    "X = data.drop([\"SRD\"],axis=1) \n",
    "Y = pd.DataFrame(data[\"SRD\"])"
   ]
  },
  {
   "cell_type": "code",
   "execution_count": 184,
   "id": "4e1fe215",
   "metadata": {},
   "outputs": [
    {
     "data": {
      "text/plain": [
       "Index(['Female', 'Age', 'Total CPR duration', 'Mechanical compressions', 'BMI',\n",
       "       'Abdominal perimeter', 'Thorax perimeter', 'Heart Mass', 'CMR'],\n",
       "      dtype='object')"
      ]
     },
     "execution_count": 184,
     "metadata": {},
     "output_type": "execute_result"
    }
   ],
   "source": [
    "X.columns"
   ]
  },
  {
   "cell_type": "code",
   "execution_count": 185,
   "id": "43ed9445",
   "metadata": {},
   "outputs": [],
   "source": [
    "X.drop([\"BMI\",\"Abdominal perimeter\",\"Heart Mass\",\"CMR\"],inplace=True,axis=1)"
   ]
  },
  {
   "cell_type": "code",
   "execution_count": 186,
   "id": "b4a70e55",
   "metadata": {},
   "outputs": [
    {
     "data": {
      "text/plain": [
       "Index(['Female', 'Age', 'Total CPR duration', 'Mechanical compressions',\n",
       "       'Thorax perimeter'],\n",
       "      dtype='object')"
      ]
     },
     "execution_count": 186,
     "metadata": {},
     "output_type": "execute_result"
    }
   ],
   "source": [
    "X.columns"
   ]
  },
  {
   "cell_type": "code",
   "execution_count": 187,
   "id": "30ceb6fe",
   "metadata": {},
   "outputs": [],
   "source": [
    "## Building classifier with Heart mass\n",
    "clf = tree.DecisionTreeClassifier(max_depth=4,\n",
    "                                  criterion=\"gini\",\n",
    "                                  min_samples_split=30,\n",
    "                                  min_samples_leaf=4,\n",
    "                                  random_state=55)"
   ]
  },
  {
   "cell_type": "code",
   "execution_count": 188,
   "id": "d8cd1a7a",
   "metadata": {},
   "outputs": [
    {
     "name": "stdout",
     "output_type": "stream",
     "text": [
      "\n",
      " accuracy_train: 0.7218045112781954, accuracy_test: 0.5970149253731343\n",
      "                   f1_train: 0.8159203980099502, f1_test: 0.7378640776699028\n",
      "                   recall_train: 0.7192982456140351,recall_test: 0.6333333333333333\n",
      "                   precision_train: 0.9425287356321839, precision_test: 0.8837209302325582\n",
      "                   mcc_train: 0.3355746734870254, mcc_test: -0.05164335200750132\n",
      "                   roc_train : 0.7280701754385965,roc_test: 0.4595238095238095\n",
      "\n",
      "\n",
      " accuracy_train: 0.7293233082706767, accuracy_test: 0.4626865671641791\n",
      "                   f1_train: 0.8043478260869564, f1_test: 0.5813953488372093\n",
      "                   recall_train: 0.7551020408163265,recall_test: 0.5952380952380952\n",
      "                   precision_train: 0.8604651162790697, precision_test: 0.5681818181818182\n",
      "                   mcc_train: 0.37975560701254696, mcc_test: -0.16782675498131644\n",
      "                   roc_train : 0.7061224489795919,roc_test: 0.41761904761904767\n",
      "\n",
      "\n",
      " accuracy_train: 0.7611940298507462, accuracy_test: 0.5454545454545454\n",
      "                   f1_train: 0.8260869565217391, f1_test: 0.6341463414634145\n",
      "                   recall_train: 0.7835051546391752,recall_test: 0.6666666666666666\n",
      "                   precision_train: 0.8735632183908046, precision_test: 0.6046511627906976\n",
      "                   mcc_train: 0.45551234019168524, mcc_test: 0.03821662014163464\n",
      "                   roc_train : 0.7431039286709389,roc_test: 0.5185185185185185\n",
      "\n",
      "Average Score---------------------------------------\n",
      "     accuracy_train: 0.7374406164665395, accuracy_test: 0.535052012663953\n",
      "                   f1_train: 0.8154517268728819, f1_test: 0.6511352559901755\n",
      "                   recall_train: 0.752635147023179,recall_test: 0.6317460317460317\n",
      "                   precision_train: 0.892185690100686, precision_test: 0.6855179704016914\n",
      "                   mcc_train: 0.3902808735637526, mcc_test: -0.06041782894906104,\n",
      "                   roc_train: 0.7257655176963759, roc_test: 0.46522045855379196\n"
     ]
    }
   ],
   "source": [
    "scores = stratifiedEvaluation(classifier=clf,X=X,Y=Y,split=3)"
   ]
  },
  {
   "cell_type": "code",
   "execution_count": 189,
   "id": "787a9875",
   "metadata": {},
   "outputs": [],
   "source": [
    "plot_input = MetricsPlotInput(**scores)"
   ]
  },
  {
   "cell_type": "code",
   "execution_count": 190,
   "id": "7dfec575",
   "metadata": {},
   "outputs": [
    {
     "data": {
      "text/plain": [
       "<Figure size 2000x3000 with 0 Axes>"
      ]
     },
     "metadata": {},
     "output_type": "display_data"
    },
    {
     "data": {
      "image/png": "[encoded data removed]",
      "text/plain": [
       "<Figure size 640x480 with 1 Axes>"
      ]
     },
     "metadata": {},
     "output_type": "display_data"
    }
   ],
   "source": [
    "plot(name=\"metrics_3rd_tree.png\",**plot_input)"
   ]
  },
  {
   "cell_type": "code",
   "execution_count": 191,
   "id": "485dc6b1",
   "metadata": {},
   "outputs": [],
   "source": [
    "### Model on complete data\n",
    "clinical_relevant_model_3rd_tree = modelForPlot(clf,X,Y)"
   ]
  },
  {
   "cell_type": "code",
   "execution_count": 192,
   "id": "f5d569ce",
   "metadata": {},
   "outputs": [
    {
     "data": {
      "text/plain": [
       "'Decison tree plot\\\\clinical_relevant_3rd_tree.pdf'"
      ]
     },
     "execution_count": 192,
     "metadata": {},
     "output_type": "execute_result"
    }
   ],
   "source": [
    "import graphviz\n",
    "dot_data = tree.export_graphviz(clinical_relevant_model_3rd_tree, out_file=None,\n",
    "                      feature_names=list(X.columns),  \n",
    "                      class_names=[\"0\",\"1\"],  \n",
    "                      filled=True, rounded=True,  \n",
    "                      special_characters=True,\n",
    "                               ) \n",
    "graph = graphviz.Source(dot_data) \n",
    "graph.render(\"Decison tree plot\\clinical_relevant_3rd_tree\") "
   ]
  },
  {
   "cell_type": "code",
   "execution_count": 193,
   "id": "0553e2f0",
   "metadata": {},
   "outputs": [
    {
     "name": "stderr",
     "output_type": "stream",
     "text": [
      "C:\\Users\\saurav\\AppData\\Local\\Temp\\ipykernel_20036\\2554770802.py:2: DeprecationWarning: Importing display from IPython.core.display is deprecated since IPython 7.14, please import from IPython display\n"
     ]
    }
   ],
   "source": [
    "from dtreeviz.trees import *\n",
    "from IPython.core.display import display, HTML\n",
    "\n",
    "viz = dtreeviz.model(clinical_relevant_model_3rd_tree, \n",
    "            X_train= X, \n",
    "            y_train= Y[\"SRD\"],\n",
    "            target_name= 'SRD',\n",
    "            feature_names= list(X.columns),\n",
    "            class_names= [0,1],)"
   ]
  },
  {
   "cell_type": "code",
   "execution_count": 194,
   "id": "afb848ba",
   "metadata": {},
   "outputs": [
    {
     "name": "stderr",
     "output_type": "stream",
     "text": [
      "C:\\Users\\saurav\\anaconda3\\envs\\EnvMod\\lib\\site-packages\\sklearn\\base.py:439: UserWarning: X does not have valid feature names, but DecisionTreeClassifier was fitted with feature names\n"
     ]
    }
   ],
   "source": [
    "import matplotlib.pyplot as plt\n",
    "v = viz.view(x=X.iloc[0],\n",
    "         highlight_path=[0,1,2,3,],\n",
    "        title=\"Decision Tree - clinical_relevant_3rd_tree\",)"
   ]
  },
  {
   "cell_type": "code",
   "execution_count": 195,
   "id": "e060dd87",
   "metadata": {},
   "outputs": [],
   "source": [
    "v.save(\"Decison tree plot\\clinical_relevant_3rd_tree.svg\")"
   ]
  },
  {
   "cell_type": "markdown",
   "id": "6630e015",
   "metadata": {},
   "source": [
    "### 4th tree\n",
    "1. Age\n",
    "2. Total CPR Time\n",
    "3. Mechanical compression\n",
    "4. Sex\n",
    "5. Heart mass\n",
    "\n"
   ]
  },
  {
   "cell_type": "code",
   "execution_count": 196,
   "id": "7172a6e2",
   "metadata": {},
   "outputs": [],
   "source": [
    "X = data.drop([\"SRD\"],axis=1) \n",
    "Y = pd.DataFrame(data[\"SRD\"])"
   ]
  },
  {
   "cell_type": "code",
   "execution_count": 197,
   "id": "03548db5",
   "metadata": {},
   "outputs": [
    {
     "data": {
      "text/plain": [
       "Index(['Female', 'Age', 'Total CPR duration', 'Mechanical compressions', 'BMI',\n",
       "       'Abdominal perimeter', 'Thorax perimeter', 'Heart Mass', 'CMR'],\n",
       "      dtype='object')"
      ]
     },
     "execution_count": 197,
     "metadata": {},
     "output_type": "execute_result"
    }
   ],
   "source": [
    "X.columns"
   ]
  },
  {
   "cell_type": "code",
   "execution_count": 198,
   "id": "7168e4e7",
   "metadata": {},
   "outputs": [],
   "source": [
    "X.drop([\"BMI\",\"Abdominal perimeter\",\"CMR\",\"Thorax perimeter\"],inplace=True,axis=1)"
   ]
  },
  {
   "cell_type": "code",
   "execution_count": 199,
   "id": "9482555a",
   "metadata": {},
   "outputs": [
    {
     "data": {
      "text/plain": [
       "Index(['Female', 'Age', 'Total CPR duration', 'Mechanical compressions',\n",
       "       'Heart Mass'],\n",
       "      dtype='object')"
      ]
     },
     "execution_count": 199,
     "metadata": {},
     "output_type": "execute_result"
    }
   ],
   "source": [
    "X.columns"
   ]
  },
  {
   "cell_type": "code",
   "execution_count": 200,
   "id": "b2838c80",
   "metadata": {},
   "outputs": [],
   "source": [
    "## Building classifier with Heart mass\n",
    "clf = tree.DecisionTreeClassifier(max_depth=4,\n",
    "                                  criterion=\"gini\",\n",
    "                                  min_samples_split=30,\n",
    "                                  min_samples_leaf=4,\n",
    "                                  random_state=55)"
   ]
  },
  {
   "cell_type": "code",
   "execution_count": 201,
   "id": "6351ea4d",
   "metadata": {},
   "outputs": [
    {
     "name": "stdout",
     "output_type": "stream",
     "text": [
      "\n",
      " accuracy_train: 0.7293233082706767, accuracy_test: 0.6119402985074627\n",
      "                   f1_train: 0.8217821782178218, f1_test: 0.7450980392156863\n",
      "                   recall_train: 0.7217391304347827,recall_test: 0.6440677966101694\n",
      "                   precision_train: 0.9540229885057471, precision_test: 0.8837209302325582\n",
      "                   mcc_train: 0.3592500389390487, mcc_test: 0.012895306274993886\n",
      "                   roc_train : 0.7497584541062802,roc_test: 0.5095338983050848\n",
      "\n",
      "\n",
      " accuracy_train: 0.7518796992481203, accuracy_test: 0.6417910447761194\n",
      "                   f1_train: 0.8341708542713568, f1_test: 0.76\n",
      "                   recall_train: 0.7345132743362832,recall_test: 0.6785714285714286\n",
      "                   precision_train: 0.9651162790697675, precision_test: 0.8636363636363636\n",
      "                   mcc_train: 0.43706944188622343, mcc_test: 0.1038563941617703\n",
      "                   roc_train : 0.7922566371681415,roc_test: 0.5665584415584416\n",
      "\n",
      "\n",
      " accuracy_train: 0.7014925373134329, accuracy_test: 0.5151515151515151\n",
      "                   f1_train: 0.7647058823529411, f1_test: 0.5897435897435898\n",
      "                   recall_train: 0.7831325301204819,recall_test: 0.6571428571428571\n",
      "                   precision_train: 0.7471264367816092, precision_test: 0.5348837209302325\n",
      "                   mcc_train: 0.357900255344341, mcc_test: 0.01254961311540738\n",
      "                   roc_train : 0.675879990550437,roc_test: 0.5059907834101383\n",
      "\n",
      "Average Score---------------------------------------\n",
      "     accuracy_train: 0.7275651816107432, accuracy_test: 0.5896276194783657\n",
      "                   f1_train: 0.8068863049473732, f1_test: 0.6982805429864253\n",
      "                   recall_train: 0.7464616449638491,recall_test: 0.6599273607748183\n",
      "                   precision_train: 0.888755234785708, precision_test: 0.7607470049330515\n",
      "                   mcc_train: 0.38473991205653774, mcc_test: 0.04310043785072385,\n",
      "                   roc_train: 0.7392983606082862, roc_test: 0.5273610410912215\n"
     ]
    }
   ],
   "source": [
    "scores = stratifiedEvaluation(classifier=clf,X=X,Y=Y,split=3)"
   ]
  },
  {
   "cell_type": "code",
   "execution_count": 202,
   "id": "3ad2bbcf",
   "metadata": {},
   "outputs": [],
   "source": [
    "plot_input = MetricsPlotInput(**scores)"
   ]
  },
  {
   "cell_type": "code",
   "execution_count": 203,
   "id": "4e4fa363",
   "metadata": {},
   "outputs": [
    {
     "data": {
      "text/plain": [
       "<Figure size 2000x3000 with 0 Axes>"
      ]
     },
     "metadata": {},
     "output_type": "display_data"
    },
    {
     "data": {
      "image/png": "[encoded data removed]",
      "text/plain": [
       "<Figure size 640x480 with 1 Axes>"
      ]
     },
     "metadata": {},
     "output_type": "display_data"
    }
   ],
   "source": [
    "plot(name=\"metrics_4th_tree.png\",**plot_input)"
   ]
  },
  {
   "cell_type": "code",
   "execution_count": 204,
   "id": "04dfb054",
   "metadata": {},
   "outputs": [],
   "source": [
    "### Model on complete data\n",
    "clinical_relevant_model_4th_tree = modelForPlot(clf,X,Y)"
   ]
  },
  {
   "cell_type": "code",
   "execution_count": 205,
   "id": "0fb01563",
   "metadata": {},
   "outputs": [
    {
     "data": {
      "text/plain": [
       "'Decison tree plot\\\\clinical_relevant_model_4th_tree.pdf'"
      ]
     },
     "execution_count": 205,
     "metadata": {},
     "output_type": "execute_result"
    }
   ],
   "source": [
    "import graphviz\n",
    "dot_data = tree.export_graphviz(clinical_relevant_model_4th_tree, out_file=None,\n",
    "                      feature_names=list(X.columns),  \n",
    "                      class_names=[\"0\",\"1\"],  \n",
    "                      filled=True, rounded=True,  \n",
    "                      special_characters=True,\n",
    "                               ) \n",
    "graph = graphviz.Source(dot_data) \n",
    "graph.render(\"Decison tree plot\\clinical_relevant_model_4th_tree\") "
   ]
  },
  {
   "cell_type": "code",
   "execution_count": 206,
   "id": "ae916336",
   "metadata": {},
   "outputs": [
    {
     "name": "stderr",
     "output_type": "stream",
     "text": [
      "C:\\Users\\saurav\\AppData\\Local\\Temp\\ipykernel_20036\\2488158328.py:2: DeprecationWarning: Importing display from IPython.core.display is deprecated since IPython 7.14, please import from IPython display\n"
     ]
    }
   ],
   "source": [
    "from dtreeviz.trees import *\n",
    "from IPython.core.display import display, HTML\n",
    "\n",
    "viz = dtreeviz.model(clinical_relevant_model_4th_tree, \n",
    "            X_train= X, \n",
    "            y_train= Y[\"SRD\"],\n",
    "            target_name= 'SRD',\n",
    "            feature_names= list(X.columns),\n",
    "            class_names= [0,1],)"
   ]
  },
  {
   "cell_type": "code",
   "execution_count": 207,
   "id": "b03e93e9",
   "metadata": {},
   "outputs": [
    {
     "name": "stderr",
     "output_type": "stream",
     "text": [
      "C:\\Users\\saurav\\anaconda3\\envs\\EnvMod\\lib\\site-packages\\sklearn\\base.py:439: UserWarning: X does not have valid feature names, but DecisionTreeClassifier was fitted with feature names\n"
     ]
    }
   ],
   "source": [
    "import matplotlib.pyplot as plt\n",
    "v = viz.view(x=X.iloc[0],\n",
    "         highlight_path=[0,1,2,3,],\n",
    "        title=\"Decision Tree - clinical_relevant_4th_tree\",)"
   ]
  },
  {
   "cell_type": "code",
   "execution_count": 208,
   "id": "a01c53b4",
   "metadata": {},
   "outputs": [],
   "source": [
    "v.save(\"Decison tree plot\\clinical_relevant_4th_tree.svg\")"
   ]
  },
  {
   "cell_type": "code",
   "execution_count": null,
   "id": "56ce203a",
   "metadata": {},
   "outputs": [],
   "source": []
  },
  {
   "cell_type": "markdown",
   "id": "9f186b74",
   "metadata": {},
   "source": [
    "### 5th tree\n",
    "1. Age\n",
    "2. Total CPR Time\n",
    "3. Mechanical compression\n",
    "4. Sex\n",
    "5. CMR"
   ]
  },
  {
   "cell_type": "code",
   "execution_count": 209,
   "id": "7e85acc2",
   "metadata": {},
   "outputs": [],
   "source": [
    "X = data.drop([\"SRD\"],axis=1) \n",
    "Y = pd.DataFrame(data[\"SRD\"])"
   ]
  },
  {
   "cell_type": "code",
   "execution_count": 210,
   "id": "d92ca5ec",
   "metadata": {},
   "outputs": [
    {
     "data": {
      "text/plain": [
       "Index(['Female', 'Age', 'Total CPR duration', 'Mechanical compressions', 'BMI',\n",
       "       'Abdominal perimeter', 'Thorax perimeter', 'Heart Mass', 'CMR'],\n",
       "      dtype='object')"
      ]
     },
     "execution_count": 210,
     "metadata": {},
     "output_type": "execute_result"
    }
   ],
   "source": [
    "X.columns"
   ]
  },
  {
   "cell_type": "code",
   "execution_count": 211,
   "id": "d90617ab",
   "metadata": {},
   "outputs": [],
   "source": [
    "X.drop([\"BMI\",\"Abdominal perimeter\",\"Heart Mass\",\"Thorax perimeter\"],inplace=True,axis=1)"
   ]
  },
  {
   "cell_type": "code",
   "execution_count": 212,
   "id": "76fe8f1c",
   "metadata": {},
   "outputs": [
    {
     "data": {
      "text/plain": [
       "Index(['Female', 'Age', 'Total CPR duration', 'Mechanical compressions',\n",
       "       'CMR'],\n",
       "      dtype='object')"
      ]
     },
     "execution_count": 212,
     "metadata": {},
     "output_type": "execute_result"
    }
   ],
   "source": [
    "X.columns"
   ]
  },
  {
   "cell_type": "code",
   "execution_count": 213,
   "id": "1e7027a9",
   "metadata": {},
   "outputs": [],
   "source": [
    "## Building classifier with Heart mass\n",
    "clf = tree.DecisionTreeClassifier(max_depth=4,\n",
    "                                  criterion=\"gini\",\n",
    "                                  min_samples_split=30,\n",
    "                                  min_samples_leaf=4,\n",
    "                                  random_state=55)"
   ]
  },
  {
   "cell_type": "code",
   "execution_count": 214,
   "id": "12482db4",
   "metadata": {},
   "outputs": [
    {
     "name": "stdout",
     "output_type": "stream",
     "text": [
      "\n",
      " accuracy_train: 0.7293233082706767, accuracy_test: 0.5522388059701493\n",
      "                   f1_train: 0.8105263157894737, f1_test: 0.6739130434782609\n",
      "                   recall_train: 0.7475728155339806,recall_test: 0.6326530612244898\n",
      "                   precision_train: 0.8850574712643678, precision_test: 0.7209302325581395\n",
      "                   mcc_train: 0.363992292651441, mcc_test: -0.03144467522591513\n",
      "                   roc_train : 0.7071197411003237,roc_test: 0.4829931972789116\n",
      "\n",
      "\n",
      " accuracy_train: 0.7142857142857143, accuracy_test: 0.6417910447761194\n",
      "                   f1_train: 0.8155339805825242, f1_test: 0.7735849056603773\n",
      "                   recall_train: 0.7,recall_test: 0.6612903225806451\n",
      "                   precision_train: 0.9767441860465116, precision_test: 0.9318181818181818\n",
      "                   mcc_train: 0.33929631349760064, mcc_test: 0.033922081855093364\n",
      "                   roc_train : 0.7730769230769231,roc_test: 0.5306451612903226\n",
      "\n",
      "\n",
      " accuracy_train: 0.6865671641791045, accuracy_test: 0.5151515151515151\n",
      "                   f1_train: 0.755813953488372, f1_test: 0.6190476190476191\n",
      "                   recall_train: 0.7647058823529411,recall_test: 0.6341463414634146\n",
      "                   precision_train: 0.7471264367816092, precision_test: 0.6046511627906976\n",
      "                   mcc_train: 0.31864689775051747, mcc_test: -0.0466807450969929\n",
      "                   roc_train : 0.6578631452581032,roc_test: 0.4770731707317073\n",
      "\n",
      "Average Score---------------------------------------\n",
      "     accuracy_train: 0.7100587289118317, accuracy_test: 0.5697271219659279\n",
      "                   f1_train: 0.79395808328679, f1_test: 0.6888485227287524\n",
      "                   recall_train: 0.7374262326289739,recall_test: 0.6426965750895165\n",
      "                   precision_train: 0.8696426980308295, precision_test: 0.7524665257223395\n",
      "                   mcc_train: 0.34064516796651967, mcc_test: -0.014734446155938224,\n",
      "                   roc_train: 0.7126866031451167, roc_test: 0.4969038431003138\n"
     ]
    }
   ],
   "source": [
    "scores = stratifiedEvaluation(classifier=clf,X=X,Y=Y,split=3)"
   ]
  },
  {
   "cell_type": "code",
   "execution_count": 215,
   "id": "95005c31",
   "metadata": {},
   "outputs": [],
   "source": [
    "plot_input = MetricsPlotInput(**scores)"
   ]
  },
  {
   "cell_type": "code",
   "execution_count": 216,
   "id": "08afc7bb",
   "metadata": {},
   "outputs": [
    {
     "data": {
      "text/plain": [
       "<Figure size 2000x3000 with 0 Axes>"
      ]
     },
     "metadata": {},
     "output_type": "display_data"
    },
    {
     "data": {
      "image/png": "[encoded data removed]",
      "text/plain": [
       "<Figure size 640x480 with 1 Axes>"
      ]
     },
     "metadata": {},
     "output_type": "display_data"
    }
   ],
   "source": [
    "plot(name=\"metrics_5th_tree.png\",**plot_input)"
   ]
  },
  {
   "cell_type": "code",
   "execution_count": 217,
   "id": "99932865",
   "metadata": {},
   "outputs": [],
   "source": [
    "### Model on complete data\n",
    "clinical_relevant_model_5th_tree = modelForPlot(clf,X,Y)"
   ]
  },
  {
   "cell_type": "code",
   "execution_count": 218,
   "id": "3459d899",
   "metadata": {},
   "outputs": [
    {
     "data": {
      "text/plain": [
       "'Decison tree plot\\\\clinical_relevant_model_5th_tree.pdf'"
      ]
     },
     "execution_count": 218,
     "metadata": {},
     "output_type": "execute_result"
    }
   ],
   "source": [
    "import graphviz\n",
    "dot_data = tree.export_graphviz(clinical_relevant_model_5th_tree, out_file=None,\n",
    "                      feature_names=list(X.columns),  \n",
    "                      class_names=[\"0\",\"1\"],  \n",
    "                      filled=True, rounded=True,  \n",
    "                      special_characters=True,\n",
    "                               ) \n",
    "graph = graphviz.Source(dot_data) \n",
    "graph.render(\"Decison tree plot\\clinical_relevant_model_5th_tree\") "
   ]
  },
  {
   "cell_type": "code",
   "execution_count": 219,
   "id": "fabcafd9",
   "metadata": {},
   "outputs": [
    {
     "name": "stderr",
     "output_type": "stream",
     "text": [
      "C:\\Users\\saurav\\AppData\\Local\\Temp\\ipykernel_20036\\717101983.py:2: DeprecationWarning: Importing display from IPython.core.display is deprecated since IPython 7.14, please import from IPython display\n"
     ]
    }
   ],
   "source": [
    "from dtreeviz.trees import *\n",
    "from IPython.core.display import display, HTML\n",
    "\n",
    "viz = dtreeviz.model(clinical_relevant_model_5th_tree, \n",
    "            X_train= X, \n",
    "            y_train= Y[\"SRD\"],\n",
    "            target_name= 'SRD',\n",
    "            feature_names= list(X.columns),\n",
    "            class_names= [0,1],)"
   ]
  },
  {
   "cell_type": "code",
   "execution_count": 220,
   "id": "35fc3fa5",
   "metadata": {},
   "outputs": [
    {
     "name": "stderr",
     "output_type": "stream",
     "text": [
      "C:\\Users\\saurav\\anaconda3\\envs\\EnvMod\\lib\\site-packages\\sklearn\\base.py:439: UserWarning: X does not have valid feature names, but DecisionTreeClassifier was fitted with feature names\n"
     ]
    }
   ],
   "source": [
    "import matplotlib.pyplot as plt\n",
    "v = viz.view(x=X.iloc[0],\n",
    "         highlight_path=[0,1,2,3,],\n",
    "        title=\"Decision Tree - clinical_relevant_5th_tree\",)"
   ]
  },
  {
   "cell_type": "code",
   "execution_count": 221,
   "id": "57177dba",
   "metadata": {},
   "outputs": [],
   "source": [
    "v.save(\"Decison tree plot\\clinical_relevant_5th_tree.svg\")"
   ]
  },
  {
   "cell_type": "code",
   "execution_count": null,
   "id": "32eed508",
   "metadata": {},
   "outputs": [],
   "source": []
  },
  {
   "cell_type": "markdown",
   "id": "9f1bf414",
   "metadata": {},
   "source": [
    "### Automatic selection\n",
    "\n",
    "In feature selection method, there are three types of methods has been used\n",
    "1. Filter based (Pearson correlation,chi_square test)\n",
    "2. Wrapper based (Recurive feature elimation)\n",
    "3. Embedded (Lassos and RF)"
   ]
  },
  {
   "cell_type": "code",
   "execution_count": 222,
   "id": "518f7be3",
   "metadata": {},
   "outputs": [],
   "source": [
    "### Pearson correlation test\n",
    "\n",
    "def cor_selector(X, y,num_feats):\n",
    "    cor_list = []\n",
    "    feature_name = X.columns.tolist()\n",
    "    # calculate the correlation with y for each feature\n",
    "    for i in X.columns.tolist():\n",
    "        cor = np.corrcoef(X[i], y)[0, 1]\n",
    "        cor_list.append(cor)\n",
    "    # replace NaN with 0\n",
    "    cor_list = [0 if np.isnan(i) else i for i in cor_list]\n",
    "    # feature name\n",
    "    cor_feature = X.iloc[:,np.argsort(np.abs(cor_list))[-num_feats:]].columns.tolist()\n",
    "    # feature selection? 0 for not select, 1 for select\n",
    "    cor_support = [True if i in cor_feature else False for i in feature_name]\n",
    "\n",
    "    print(str(len(cor_feature)), 'selected features')\n",
    "    \n",
    "    return cor_support"
   ]
  },
  {
   "cell_type": "code",
   "execution_count": 223,
   "id": "5ed394af",
   "metadata": {},
   "outputs": [],
   "source": [
    "### Chi square test\n",
    "\n",
    "from sklearn.feature_selection import SelectKBest\n",
    "from sklearn.feature_selection import chi2\n",
    "from sklearn.preprocessing import MinMaxScaler\n",
    "\n",
    "def Chi(X,y,num_feats):\n",
    "    \n",
    "    X_norm = MinMaxScaler().fit_transform(X)\n",
    "    chi_selector = SelectKBest(chi2, k=num_feats)\n",
    "    chi_selector.fit(X_norm, y)\n",
    "    chi_support = chi_selector.get_support()\n",
    "    chi_feature = X.loc[:,chi_support].columns.tolist()\n",
    "    print(str(len(chi_feature)), 'selected features')\n",
    "    \n",
    "    return chi_support"
   ]
  },
  {
   "cell_type": "code",
   "execution_count": 224,
   "id": "0fedc324",
   "metadata": {},
   "outputs": [],
   "source": [
    "### Recurive feature elimination\n",
    "\n",
    "from sklearn.feature_selection import RFE\n",
    "from sklearn.linear_model import LogisticRegression\n",
    "\n",
    "def rfe(X,y,num_feats):\n",
    "    rfe_selector = RFE(estimator=LogisticRegression(),\n",
    "                       n_features_to_select=num_feats,\n",
    "                       step=10,\n",
    "                       verbose=5)\n",
    "    \n",
    "    X_norm = MinMaxScaler().fit_transform(X)\n",
    "    rfe_selector.fit(X_norm, y)\n",
    "    rfe_support = rfe_selector.get_support()\n",
    "    rfe_feature = X.loc[:,rfe_support].columns.tolist()\n",
    "    print(str(len(rfe_feature)), 'selected features')\n",
    "    \n",
    "    return rfe_support"
   ]
  },
  {
   "cell_type": "code",
   "execution_count": 225,
   "id": "e5a7c9a2",
   "metadata": {},
   "outputs": [],
   "source": [
    "## Embedded Method\n",
    "\n",
    "from sklearn.feature_selection import SelectFromModel\n",
    "from sklearn.linear_model import LogisticRegression\n",
    "\n",
    "def EmbeddedLasso(X,y,num_feats):\n",
    "    \n",
    "    embeded_lr_selector = SelectFromModel(LogisticRegression(penalty=\"l2\"),\n",
    "                                          max_features=num_feats)\n",
    "    \n",
    "    X_norm = MinMaxScaler().fit_transform(X)\n",
    "    embeded_lr_selector.fit(X_norm, y)\n",
    "\n",
    "    embeded_lr_support = embeded_lr_selector.get_support()\n",
    "    \n",
    "    embeded_lr_feature = X.loc[:,embeded_lr_support].columns.tolist()\n",
    "    \n",
    "    print(str(len(embeded_lr_feature)), 'selected features')\n",
    "    \n",
    "    return embeded_lr_support"
   ]
  },
  {
   "cell_type": "code",
   "execution_count": 226,
   "id": "fe4e87fd",
   "metadata": {},
   "outputs": [],
   "source": [
    "from sklearn.feature_selection import SelectFromModel\n",
    "from sklearn.ensemble import RandomForestClassifier\n",
    "\n",
    "def EmbeddedRF(X,y,num_feats):\n",
    "    embeded_rf_selector = SelectFromModel(RandomForestClassifier(n_estimators=100),\n",
    "                                          max_features=num_feats)\n",
    "    embeded_rf_selector.fit(X, y)\n",
    "\n",
    "    embeded_rf_support = embeded_rf_selector.get_support()\n",
    "    embeded_rf_feature = X.loc[:,embeded_rf_support].columns.tolist()\n",
    "\n",
    "    print(str(len(embeded_rf_feature)), 'selected features')\n",
    "    \n",
    "    return embeded_rf_support"
   ]
  },
  {
   "cell_type": "code",
   "execution_count": 227,
   "id": "6114019e",
   "metadata": {},
   "outputs": [],
   "source": [
    "# put all selection together\n",
    "\n",
    "def featureSelectionFrame(X,y,num_feats):\n",
    "    \n",
    "    feature_name = list(X.columns)\n",
    "    \n",
    "    cor_support = cor_selector(X,y,num_feats)\n",
    "    chi_support = Chi(X,y,num_feats)\n",
    "    rfe_support  = rfe(X,y,num_feats)\n",
    "    embeded_lr_support = EmbeddedLasso(X,y,num_feats)\n",
    "    embeded_rf_support  = EmbeddedRF(X,y,num_feats)\n",
    "    \n",
    "    \n",
    "    assert len(cor_support) == len(chi_support) == len(rfe_support) == len(embeded_lr_support) == len(embeded_rf_support)\n",
    "    \n",
    "    feature_selection_df = pd.DataFrame({'Feature':feature_name, \n",
    "                                         'Pearson':cor_support, \n",
    "                                         'Chi-2':chi_support, \n",
    "                                         'RFE':rfe_support, \n",
    "                                         'Logistics':embeded_lr_support,\n",
    "                                         'Random Forest':embeded_rf_support,})\n",
    "\n",
    "    # count the selected times for each feature\n",
    "    feature_selection_df['Total'] = np.sum(feature_selection_df, axis=1)\n",
    "    # display the top 100\n",
    "    feature_selection_df = feature_selection_df.sort_values(['Total','Feature'] , ascending=False)\n",
    "    feature_selection_df.index = range(1, len(feature_selection_df)+1)\n",
    "    feature_selection_df.head(num_feats)\n",
    "    \n",
    "    return feature_selection_df\n",
    "    \n",
    "    "
   ]
  },
  {
   "cell_type": "code",
   "execution_count": 228,
   "id": "916d1203",
   "metadata": {},
   "outputs": [],
   "source": [
    "### Updated"
   ]
  },
  {
   "cell_type": "code",
   "execution_count": 229,
   "id": "ec1431b9",
   "metadata": {},
   "outputs": [],
   "source": [
    "data = pd.read_excel(\"cpr_updated_data.xlsx\")"
   ]
  },
  {
   "cell_type": "code",
   "execution_count": 230,
   "id": "abf3c7bf",
   "metadata": {},
   "outputs": [],
   "source": [
    "### Fill the NA value\n",
    "data[\"BMI\"].fillna(data[\"BMI\"].mean(),inplace=True)\n",
    "data[\"Abdominal perimeter\"].fillna(data[\"Abdominal perimeter\"].mean(),inplace=True)\n",
    "data[\"Thorax perimeter\"].fillna(data[\"Thorax perimeter\"].mean(),inplace=True)\n",
    "data[\"Heart Mass\"].fillna(data[\"Heart Mass\"].mean(),inplace=True)"
   ]
  },
  {
   "cell_type": "code",
   "execution_count": 231,
   "id": "1886b389",
   "metadata": {},
   "outputs": [],
   "source": [
    "X = data.drop(\"SRD\",axis=1)\n",
    "Y = data[\"SRD\"]"
   ]
  },
  {
   "cell_type": "code",
   "execution_count": 232,
   "id": "389fd88b",
   "metadata": {},
   "outputs": [
    {
     "name": "stdout",
     "output_type": "stream",
     "text": [
      "5 selected features\n",
      "5 selected features\n",
      "Fitting estimator with 9 features.\n",
      "5 selected features\n",
      "3 selected features\n",
      "5 selected features\n"
     ]
    },
    {
     "name": "stderr",
     "output_type": "stream",
     "text": [
      "C:\\Users\\saurav\\anaconda3\\envs\\EnvMod\\lib\\site-packages\\numpy\\core\\fromnumeric.py:84: FutureWarning: Dropping of nuisance columns in DataFrame reductions (with 'numeric_only=None') is deprecated; in a future version this will raise TypeError.  Select only valid columns before calling the reduction.\n"
     ]
    }
   ],
   "source": [
    "frame  = featureSelectionFrame(X=X,y=Y,num_feats=5)"
   ]
  },
  {
   "cell_type": "code",
   "execution_count": 233,
   "id": "a1c7a1aa",
   "metadata": {},
   "outputs": [
    {
     "data": {
      "text/html": [
       "<div>\n",
       "<style scoped>\n",
       "    .dataframe tbody tr th:only-of-type {\n",
       "        vertical-align: middle;\n",
       "    }\n",
       "\n",
       "    .dataframe tbody tr th {\n",
       "        vertical-align: top;\n",
       "    }\n",
       "\n",
       "    .dataframe thead th {\n",
       "        text-align: right;\n",
       "    }\n",
       "</style>\n",
       "<table border=\"1\" class=\"dataframe\">\n",
       "  <thead>\n",
       "    <tr style=\"text-align: right;\">\n",
       "      <th></th>\n",
       "      <th>Feature</th>\n",
       "      <th>Pearson</th>\n",
       "      <th>Chi-2</th>\n",
       "      <th>RFE</th>\n",
       "      <th>Logistics</th>\n",
       "      <th>Random Forest</th>\n",
       "      <th>Total</th>\n",
       "    </tr>\n",
       "  </thead>\n",
       "  <tbody>\n",
       "    <tr>\n",
       "      <th>1</th>\n",
       "      <td>Age</td>\n",
       "      <td>True</td>\n",
       "      <td>True</td>\n",
       "      <td>True</td>\n",
       "      <td>True</td>\n",
       "      <td>True</td>\n",
       "      <td>5</td>\n",
       "    </tr>\n",
       "    <tr>\n",
       "      <th>2</th>\n",
       "      <td>Abdominal perimeter</td>\n",
       "      <td>True</td>\n",
       "      <td>True</td>\n",
       "      <td>True</td>\n",
       "      <td>True</td>\n",
       "      <td>False</td>\n",
       "      <td>4</td>\n",
       "    </tr>\n",
       "    <tr>\n",
       "      <th>3</th>\n",
       "      <td>Thorax perimeter</td>\n",
       "      <td>True</td>\n",
       "      <td>False</td>\n",
       "      <td>True</td>\n",
       "      <td>False</td>\n",
       "      <td>True</td>\n",
       "      <td>3</td>\n",
       "    </tr>\n",
       "    <tr>\n",
       "      <th>4</th>\n",
       "      <td>Mechanical compressions</td>\n",
       "      <td>True</td>\n",
       "      <td>True</td>\n",
       "      <td>True</td>\n",
       "      <td>False</td>\n",
       "      <td>False</td>\n",
       "      <td>3</td>\n",
       "    </tr>\n",
       "    <tr>\n",
       "      <th>5</th>\n",
       "      <td>BMI</td>\n",
       "      <td>False</td>\n",
       "      <td>False</td>\n",
       "      <td>True</td>\n",
       "      <td>True</td>\n",
       "      <td>True</td>\n",
       "      <td>3</td>\n",
       "    </tr>\n",
       "    <tr>\n",
       "      <th>6</th>\n",
       "      <td>Total CPR duration</td>\n",
       "      <td>True</td>\n",
       "      <td>True</td>\n",
       "      <td>False</td>\n",
       "      <td>False</td>\n",
       "      <td>False</td>\n",
       "      <td>2</td>\n",
       "    </tr>\n",
       "    <tr>\n",
       "      <th>7</th>\n",
       "      <td>Heart Mass</td>\n",
       "      <td>False</td>\n",
       "      <td>True</td>\n",
       "      <td>False</td>\n",
       "      <td>False</td>\n",
       "      <td>True</td>\n",
       "      <td>2</td>\n",
       "    </tr>\n",
       "    <tr>\n",
       "      <th>8</th>\n",
       "      <td>CMR</td>\n",
       "      <td>False</td>\n",
       "      <td>False</td>\n",
       "      <td>False</td>\n",
       "      <td>False</td>\n",
       "      <td>True</td>\n",
       "      <td>1</td>\n",
       "    </tr>\n",
       "    <tr>\n",
       "      <th>9</th>\n",
       "      <td>Female</td>\n",
       "      <td>False</td>\n",
       "      <td>False</td>\n",
       "      <td>False</td>\n",
       "      <td>False</td>\n",
       "      <td>False</td>\n",
       "      <td>0</td>\n",
       "    </tr>\n",
       "  </tbody>\n",
       "</table>\n",
       "</div>"
      ],
      "text/plain": [
       "                   Feature  Pearson  Chi-2    RFE  Logistics  Random Forest  \\\n",
       "1                      Age     True   True   True       True           True   \n",
       "2      Abdominal perimeter     True   True   True       True          False   \n",
       "3         Thorax perimeter     True  False   True      False           True   \n",
       "4  Mechanical compressions     True   True   True      False          False   \n",
       "5                      BMI    False  False   True       True           True   \n",
       "6       Total CPR duration     True   True  False      False          False   \n",
       "7               Heart Mass    False   True  False      False           True   \n",
       "8                      CMR    False  False  False      False           True   \n",
       "9                   Female    False  False  False      False          False   \n",
       "\n",
       "   Total  \n",
       "1      5  \n",
       "2      4  \n",
       "3      3  \n",
       "4      3  \n",
       "5      3  \n",
       "6      2  \n",
       "7      2  \n",
       "8      1  \n",
       "9      0  "
      ]
     },
     "execution_count": 233,
     "metadata": {},
     "output_type": "execute_result"
    }
   ],
   "source": [
    "frame"
   ]
  },
  {
   "cell_type": "markdown",
   "id": "35a858bb",
   "metadata": {},
   "source": [
    "### Decision tree trained on automated selection feature"
   ]
  },
  {
   "cell_type": "code",
   "execution_count": 234,
   "id": "1b1f3c64",
   "metadata": {},
   "outputs": [],
   "source": [
    "data = pd.read_excel(\"cpr_updated_data.xlsx\")"
   ]
  },
  {
   "cell_type": "code",
   "execution_count": 235,
   "id": "95dba8c3",
   "metadata": {},
   "outputs": [],
   "source": [
    "### Fill the NA value\n",
    "data[\"BMI\"].fillna(data[\"BMI\"].mean(),inplace=True)\n",
    "data[\"Abdominal perimeter\"].fillna(data[\"Abdominal perimeter\"].mean(),inplace=True)\n",
    "data[\"Thorax perimeter\"].fillna(data[\"Thorax perimeter\"].mean(),inplace=True)\n",
    "data[\"Heart Mass\"].fillna(data[\"Heart Mass\"].mean(),inplace=True)"
   ]
  },
  {
   "cell_type": "code",
   "execution_count": 236,
   "id": "f4955976",
   "metadata": {},
   "outputs": [],
   "source": [
    "X = data[[\"Age\",\n",
    "          \"Total CPR duration\",\n",
    "          \"Mechanical compressions\",\n",
    "          \"Thorax perimeter\",\n",
    "          \"Abdominal perimeter\",\n",
    "          \"BMI\"]]\n",
    "\n",
    "Y = data[\"SRD\"]"
   ]
  },
  {
   "cell_type": "code",
   "execution_count": 237,
   "id": "f4cc955b",
   "metadata": {},
   "outputs": [],
   "source": [
    "## Building classifier with Heart mass\n",
    "clf = tree.DecisionTreeClassifier(max_depth=4,\n",
    "                                  criterion=\"gini\",\n",
    "                                  min_samples_split=30,\n",
    "                                  min_samples_leaf=4,\n",
    "                                  random_state=55)"
   ]
  },
  {
   "cell_type": "code",
   "execution_count": 238,
   "id": "d46eb8da",
   "metadata": {},
   "outputs": [
    {
     "name": "stdout",
     "output_type": "stream",
     "text": [
      "\n",
      " accuracy_train: 0.7293233082706767, accuracy_test: 0.5970149253731343\n",
      "                   f1_train: 0.8181818181818181, f1_test: 0.7157894736842104\n",
      "                   recall_train: 0.7297297297297297,recall_test: 0.6538461538461539\n",
      "                   precision_train: 0.9310344827586207, precision_test: 0.7906976744186046\n",
      "                   mcc_train: 0.35698734644371505, mcc_test: 0.04681253291507378\n",
      "                   roc_train : 0.7285012285012286,roc_test: 0.5269230769230769\n",
      "\n",
      "\n",
      " accuracy_train: 0.7142857142857143, accuracy_test: 0.43283582089552236\n",
      "                   f1_train: 0.7682926829268293, f1_test: 0.5476190476190476\n",
      "                   recall_train: 0.8076923076923077,recall_test: 0.575\n",
      "                   precision_train: 0.7325581395348837, precision_test: 0.5227272727272727\n",
      "                   mcc_train: 0.40128197214765887, mcc_test: -0.209479718124847\n",
      "                   roc_train : 0.6947552447552447,roc_test: 0.3986111111111111\n",
      "\n",
      "\n",
      " accuracy_train: 0.7089552238805971, accuracy_test: 0.6515151515151515\n",
      "                   f1_train: 0.8097560975609756, f1_test: 0.7766990291262136\n",
      "                   recall_train: 0.7033898305084746,recall_test: 0.6666666666666666\n",
      "                   precision_train: 0.9540229885057471, precision_test: 0.9302325581395349\n",
      "                   mcc_train: 0.3080805028122888, mcc_test: 0.10055457949809359\n",
      "                   roc_train : 0.7266949152542374,roc_test: 0.5833333333333333\n",
      "\n",
      "Average Score---------------------------------------\n",
      "     accuracy_train: 0.7175214154789961, accuracy_test: 0.5604552992612694\n",
      "                   f1_train: 0.7987435328898743, f1_test: 0.6800358501431573\n",
      "                   recall_train: 0.7469372893101706,recall_test: 0.6318376068376068\n",
      "                   precision_train: 0.8725385369330838, precision_test: 0.7478858350951373\n",
      "                   mcc_train: 0.3554499404678875, mcc_test: -0.020704201903893212,\n",
      "                   roc_train: 0.7166504628369036, roc_test: 0.5029558404558404\n"
     ]
    }
   ],
   "source": [
    "scores = stratifiedEvaluation(classifier=clf,X=X,Y=Y,split=3)"
   ]
  },
  {
   "cell_type": "code",
   "execution_count": 239,
   "id": "d5c9ab50",
   "metadata": {},
   "outputs": [],
   "source": [
    "plot_input = MetricsPlotInput(**scores)"
   ]
  },
  {
   "cell_type": "code",
   "execution_count": 240,
   "id": "a49e72a6",
   "metadata": {},
   "outputs": [
    {
     "data": {
      "text/plain": [
       "<Figure size 2000x3000 with 0 Axes>"
      ]
     },
     "metadata": {},
     "output_type": "display_data"
    },
    {
     "data": {
      "image/png": "[encoded data removed]",
      "text/plain": [
       "<Figure size 640x480 with 1 Axes>"
      ]
     },
     "metadata": {},
     "output_type": "display_data"
    }
   ],
   "source": [
    "plot(name=\"Automated_features.png\",**plot_input)"
   ]
  },
  {
   "cell_type": "code",
   "execution_count": 241,
   "id": "62d95e0b",
   "metadata": {},
   "outputs": [],
   "source": [
    "## Automated model\n",
    "automated_selected_model= modelForPlot(clf,X,Y)"
   ]
  },
  {
   "cell_type": "code",
   "execution_count": 242,
   "id": "b7e2eeaa",
   "metadata": {},
   "outputs": [
    {
     "data": {
      "text/plain": [
       "'Decison tree plot\\\\automated_selected_varibale.pdf'"
      ]
     },
     "execution_count": 242,
     "metadata": {},
     "output_type": "execute_result"
    }
   ],
   "source": [
    "### With Automated model\n",
    "import graphviz\n",
    "dot_data = tree.export_graphviz(automated_selected_model,\n",
    "                        out_file=None,\n",
    "                        feature_names=list(X.columns),  \n",
    "                        class_names=[\"0\",\"1\"],  \n",
    "                        filled=True,\n",
    "                        rounded=True,  \n",
    "                        special_characters=True,\n",
    "                               ) \n",
    "graph = graphviz.Source(dot_data) \n",
    "graph.render(r\"Decison tree plot\\automated_selected_varibale\") "
   ]
  },
  {
   "cell_type": "code",
   "execution_count": 243,
   "id": "8f78906a",
   "metadata": {},
   "outputs": [
    {
     "name": "stderr",
     "output_type": "stream",
     "text": [
      "C:\\Users\\saurav\\AppData\\Local\\Temp\\ipykernel_20036\\2844324822.py:4: DeprecationWarning: Importing display from IPython.core.display is deprecated since IPython 7.14, please import from IPython display\n",
      "C:\\Users\\saurav\\anaconda3\\envs\\EnvMod\\lib\\site-packages\\sklearn\\base.py:439: UserWarning: X does not have valid feature names, but DecisionTreeClassifier was fitted with feature names\n"
     ]
    }
   ],
   "source": [
    "### Plotting\n",
    "\n",
    "from dtreeviz.trees import *\n",
    "from IPython.core.display import display, HTML\n",
    "import matplotlib.pyplot as plt\n",
    "\n",
    "\n",
    "viz = dtreeviz.model(automated_selected_model, \n",
    "            X_train= X, \n",
    "            y_train= Y,\n",
    "            target_name= 'SRD',\n",
    "            feature_names= list(X.columns),\n",
    "            class_names= [0,1],)\n",
    "\n",
    "v = viz.view(x=X.iloc[0],\n",
    "        highlight_path=[0,1,2,3,],\n",
    "        title=\"Decision Tree - automated_selected_model\",)\n",
    "\n",
    "v.save(r\"Decison tree plot\\automated_selected_variable.svg\")"
   ]
  },
  {
   "cell_type": "code",
   "execution_count": null,
   "id": "c4180e1c",
   "metadata": {},
   "outputs": [],
   "source": []
  },
  {
   "cell_type": "code",
   "execution_count": null,
   "id": "527faa37",
   "metadata": {},
   "outputs": [],
   "source": []
  }
 ],
 "metadata": {
  "kernelspec": {
   "display_name": "Python 3 (ipykernel)",
   "language": "python",
   "name": "python3"
  },
  "language_info": {
   "codemirror_mode": {
    "name": "ipython",
    "version": 3
   },
   "file_extension": ".py",
   "mimetype": "text/x-python",
   "name": "python",
   "nbconvert_exporter": "python",
   "pygments_lexer": "ipython3",
   "version": "3.10.9"
  }
 },
 "nbformat": 4,
 "nbformat_minor": 5
}
