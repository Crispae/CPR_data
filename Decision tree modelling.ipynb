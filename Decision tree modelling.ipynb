{
 "cells": [
  {
   "cell_type": "code",
   "execution_count": 342,
   "id": "cf3203a8",
   "metadata": {},
   "outputs": [],
   "source": [
    "import pandas as pd"
   ]
  },
  {
   "cell_type": "code",
   "execution_count": 343,
   "id": "29a34112",
   "metadata": {},
   "outputs": [],
   "source": [
    "data = pd.read_excel(\"Decision Tree data.xlsx\")"
   ]
  },
  {
   "cell_type": "code",
   "execution_count": 485,
   "id": "ce6a8a4e",
   "metadata": {},
   "outputs": [
    {
     "data": {
      "text/html": [
       "<div>\n",
       "<style scoped>\n",
       "    .dataframe tbody tr th:only-of-type {\n",
       "        vertical-align: middle;\n",
       "    }\n",
       "\n",
       "    .dataframe tbody tr th {\n",
       "        vertical-align: top;\n",
       "    }\n",
       "\n",
       "    .dataframe thead th {\n",
       "        text-align: right;\n",
       "    }\n",
       "</style>\n",
       "<table border=\"1\" class=\"dataframe\">\n",
       "  <thead>\n",
       "    <tr style=\"text-align: right;\">\n",
       "      <th></th>\n",
       "      <th>Female</th>\n",
       "      <th>Age</th>\n",
       "      <th>Total CPR duration</th>\n",
       "      <th>Mechanical compressions</th>\n",
       "      <th>BMI</th>\n",
       "      <th>Abdominal perimeter</th>\n",
       "      <th>Thorax perimeter</th>\n",
       "      <th>Heart Mass</th>\n",
       "      <th>CMR</th>\n",
       "      <th>SRD</th>\n",
       "    </tr>\n",
       "  </thead>\n",
       "  <tbody>\n",
       "    <tr>\n",
       "      <th>0</th>\n",
       "      <td>0</td>\n",
       "      <td>69</td>\n",
       "      <td>41</td>\n",
       "      <td>0</td>\n",
       "      <td>31.64</td>\n",
       "      <td>98.0</td>\n",
       "      <td>100.000000</td>\n",
       "      <td>538.000000</td>\n",
       "      <td>1.464942</td>\n",
       "      <td>0</td>\n",
       "    </tr>\n",
       "    <tr>\n",
       "      <th>1</th>\n",
       "      <td>0</td>\n",
       "      <td>63</td>\n",
       "      <td>40</td>\n",
       "      <td>0</td>\n",
       "      <td>28.69</td>\n",
       "      <td>105.0</td>\n",
       "      <td>109.000000</td>\n",
       "      <td>504.000000</td>\n",
       "      <td>1.372362</td>\n",
       "      <td>1</td>\n",
       "    </tr>\n",
       "    <tr>\n",
       "      <th>2</th>\n",
       "      <td>1</td>\n",
       "      <td>63</td>\n",
       "      <td>35</td>\n",
       "      <td>0</td>\n",
       "      <td>31.25</td>\n",
       "      <td>104.0</td>\n",
       "      <td>116.000000</td>\n",
       "      <td>450.000000</td>\n",
       "      <td>1.382913</td>\n",
       "      <td>1</td>\n",
       "    </tr>\n",
       "    <tr>\n",
       "      <th>3</th>\n",
       "      <td>0</td>\n",
       "      <td>67</td>\n",
       "      <td>26</td>\n",
       "      <td>0</td>\n",
       "      <td>28.41</td>\n",
       "      <td>96.0</td>\n",
       "      <td>100.000000</td>\n",
       "      <td>640.000000</td>\n",
       "      <td>1.630989</td>\n",
       "      <td>0</td>\n",
       "    </tr>\n",
       "    <tr>\n",
       "      <th>4</th>\n",
       "      <td>0</td>\n",
       "      <td>52</td>\n",
       "      <td>33</td>\n",
       "      <td>0</td>\n",
       "      <td>41.97</td>\n",
       "      <td>134.0</td>\n",
       "      <td>102.689362</td>\n",
       "      <td>480.455779</td>\n",
       "      <td>1.260000</td>\n",
       "      <td>1</td>\n",
       "    </tr>\n",
       "  </tbody>\n",
       "</table>\n",
       "</div>"
      ],
      "text/plain": [
       "   Female  Age  Total CPR duration  Mechanical compressions    BMI  \\\n",
       "0       0   69                  41                        0  31.64   \n",
       "1       0   63                  40                        0  28.69   \n",
       "2       1   63                  35                        0  31.25   \n",
       "3       0   67                  26                        0  28.41   \n",
       "4       0   52                  33                        0  41.97   \n",
       "\n",
       "   Abdominal perimeter  Thorax perimeter  Heart Mass       CMR  SRD  \n",
       "0                 98.0        100.000000  538.000000  1.464942    0  \n",
       "1                105.0        109.000000  504.000000  1.372362    1  \n",
       "2                104.0        116.000000  450.000000  1.382913    1  \n",
       "3                 96.0        100.000000  640.000000  1.630989    0  \n",
       "4                134.0        102.689362  480.455779  1.260000    1  "
      ]
     },
     "execution_count": 485,
     "metadata": {},
     "output_type": "execute_result"
    }
   ],
   "source": [
    "data.head()"
   ]
  },
  {
   "cell_type": "code",
   "execution_count": 317,
   "id": "6a259812",
   "metadata": {},
   "outputs": [
    {
     "data": {
      "text/plain": [
       "Caso                        0\n",
       "Female                      0\n",
       "Age                         0\n",
       "Total CPR duration          0\n",
       "Mechanical compressions     0\n",
       "BMI                        66\n",
       "Abdominal perimeter         7\n",
       "Thorax perimeter           12\n",
       "Heart Mass                  1\n",
       "CMR                         0\n",
       "SRD                         0\n",
       "dtype: int64"
      ]
     },
     "execution_count": 317,
     "metadata": {},
     "output_type": "execute_result"
    }
   ],
   "source": [
    "## Data describ\n",
    "data.isna().sum()\n",
    "\n",
    "## There are 66 missing in BMI 7 in AP,12 TP, 1 in heart mass value"
   ]
  },
  {
   "cell_type": "markdown",
   "id": "f498f57c",
   "metadata": {},
   "source": [
    "### VIF analysis\n",
    "\n",
    "To measure the multicollinearity among the variables"
   ]
  },
  {
   "cell_type": "code",
   "execution_count": 318,
   "id": "c9c23184",
   "metadata": {},
   "outputs": [],
   "source": [
    "from statsmodels.stats.outliers_influence import variance_inflation_factor\n",
    "import numpy as np"
   ]
  },
  {
   "cell_type": "code",
   "execution_count": 319,
   "id": "d62ea9ad",
   "metadata": {},
   "outputs": [],
   "source": [
    "## dropping Na value\n",
    "data_vif = data[~data.isin([np.nan,np.inf,-np.inf]).any(1)]"
   ]
  },
  {
   "cell_type": "code",
   "execution_count": 320,
   "id": "ca7a5831",
   "metadata": {},
   "outputs": [
    {
     "name": "stderr",
     "output_type": "stream",
     "text": [
      "C:\\Users\\saurav\\AppData\\Local\\Temp\\ipykernel_20104\\2681920910.py:1: SettingWithCopyWarning: \n",
      "A value is trying to be set on a copy of a slice from a DataFrame\n",
      "\n",
      "See the caveats in the documentation: https://pandas.pydata.org/pandas-docs/stable/user_guide/indexing.html#returning-a-view-versus-a-copy\n",
      "  data_vif.drop([\"Caso\",\"SRD\"],axis=1,inplace=True)\n"
     ]
    }
   ],
   "source": [
    "data_vif.drop([\"Caso\",\"SRD\"],axis=1,inplace=True)"
   ]
  },
  {
   "cell_type": "code",
   "execution_count": 321,
   "id": "7c01a918",
   "metadata": {},
   "outputs": [],
   "source": [
    "vif_data = pd.DataFrame()\n",
    "vif_data[\"feature\"] = data_vif.columns\n",
    "vif_data[\"VIF\"] = [variance_inflation_factor(data_vif.values, i) for i in range(len(data_vif.columns))]"
   ]
  },
  {
   "cell_type": "code",
   "execution_count": 322,
   "id": "3400cd27",
   "metadata": {},
   "outputs": [
    {
     "data": {
      "text/html": [
       "<div>\n",
       "<style scoped>\n",
       "    .dataframe tbody tr th:only-of-type {\n",
       "        vertical-align: middle;\n",
       "    }\n",
       "\n",
       "    .dataframe tbody tr th {\n",
       "        vertical-align: top;\n",
       "    }\n",
       "\n",
       "    .dataframe thead th {\n",
       "        text-align: right;\n",
       "    }\n",
       "</style>\n",
       "<table border=\"1\" class=\"dataframe\">\n",
       "  <thead>\n",
       "    <tr style=\"text-align: right;\">\n",
       "      <th></th>\n",
       "      <th>Female</th>\n",
       "      <th>Age</th>\n",
       "      <th>Total CPR duration</th>\n",
       "      <th>Mechanical compressions</th>\n",
       "      <th>BMI</th>\n",
       "      <th>Abdominal perimeter</th>\n",
       "      <th>Thorax perimeter</th>\n",
       "      <th>Heart Mass</th>\n",
       "      <th>CMR</th>\n",
       "    </tr>\n",
       "  </thead>\n",
       "  <tbody>\n",
       "    <tr>\n",
       "      <th>0</th>\n",
       "      <td>0</td>\n",
       "      <td>69</td>\n",
       "      <td>41</td>\n",
       "      <td>0</td>\n",
       "      <td>31.64</td>\n",
       "      <td>98.0</td>\n",
       "      <td>100.0</td>\n",
       "      <td>538.0</td>\n",
       "      <td>1.464942</td>\n",
       "    </tr>\n",
       "    <tr>\n",
       "      <th>1</th>\n",
       "      <td>0</td>\n",
       "      <td>63</td>\n",
       "      <td>40</td>\n",
       "      <td>0</td>\n",
       "      <td>28.69</td>\n",
       "      <td>105.0</td>\n",
       "      <td>109.0</td>\n",
       "      <td>504.0</td>\n",
       "      <td>1.372362</td>\n",
       "    </tr>\n",
       "    <tr>\n",
       "      <th>2</th>\n",
       "      <td>1</td>\n",
       "      <td>63</td>\n",
       "      <td>35</td>\n",
       "      <td>0</td>\n",
       "      <td>31.25</td>\n",
       "      <td>104.0</td>\n",
       "      <td>116.0</td>\n",
       "      <td>450.0</td>\n",
       "      <td>1.382913</td>\n",
       "    </tr>\n",
       "    <tr>\n",
       "      <th>3</th>\n",
       "      <td>0</td>\n",
       "      <td>67</td>\n",
       "      <td>26</td>\n",
       "      <td>0</td>\n",
       "      <td>28.41</td>\n",
       "      <td>96.0</td>\n",
       "      <td>100.0</td>\n",
       "      <td>640.0</td>\n",
       "      <td>1.630989</td>\n",
       "    </tr>\n",
       "    <tr>\n",
       "      <th>6</th>\n",
       "      <td>0</td>\n",
       "      <td>42</td>\n",
       "      <td>24</td>\n",
       "      <td>0</td>\n",
       "      <td>22.31</td>\n",
       "      <td>75.0</td>\n",
       "      <td>81.0</td>\n",
       "      <td>320.0</td>\n",
       "      <td>1.009623</td>\n",
       "    </tr>\n",
       "    <tr>\n",
       "      <th>...</th>\n",
       "      <td>...</td>\n",
       "      <td>...</td>\n",
       "      <td>...</td>\n",
       "      <td>...</td>\n",
       "      <td>...</td>\n",
       "      <td>...</td>\n",
       "      <td>...</td>\n",
       "      <td>...</td>\n",
       "      <td>...</td>\n",
       "    </tr>\n",
       "    <tr>\n",
       "      <th>129</th>\n",
       "      <td>0</td>\n",
       "      <td>55</td>\n",
       "      <td>34</td>\n",
       "      <td>1</td>\n",
       "      <td>22.86</td>\n",
       "      <td>87.0</td>\n",
       "      <td>93.0</td>\n",
       "      <td>401.0</td>\n",
       "      <td>1.172172</td>\n",
       "    </tr>\n",
       "    <tr>\n",
       "      <th>130</th>\n",
       "      <td>0</td>\n",
       "      <td>39</td>\n",
       "      <td>43</td>\n",
       "      <td>1</td>\n",
       "      <td>37.29</td>\n",
       "      <td>116.0</td>\n",
       "      <td>122.0</td>\n",
       "      <td>489.0</td>\n",
       "      <td>1.143565</td>\n",
       "    </tr>\n",
       "    <tr>\n",
       "      <th>131</th>\n",
       "      <td>0</td>\n",
       "      <td>60</td>\n",
       "      <td>18</td>\n",
       "      <td>0</td>\n",
       "      <td>25.91</td>\n",
       "      <td>99.0</td>\n",
       "      <td>113.0</td>\n",
       "      <td>343.0</td>\n",
       "      <td>0.973989</td>\n",
       "    </tr>\n",
       "    <tr>\n",
       "      <th>132</th>\n",
       "      <td>1</td>\n",
       "      <td>78</td>\n",
       "      <td>14</td>\n",
       "      <td>0</td>\n",
       "      <td>33.98</td>\n",
       "      <td>112.0</td>\n",
       "      <td>107.0</td>\n",
       "      <td>486.0</td>\n",
       "      <td>1.416889</td>\n",
       "    </tr>\n",
       "    <tr>\n",
       "      <th>133</th>\n",
       "      <td>0</td>\n",
       "      <td>36</td>\n",
       "      <td>31</td>\n",
       "      <td>0</td>\n",
       "      <td>23.14</td>\n",
       "      <td>69.0</td>\n",
       "      <td>79.0</td>\n",
       "      <td>479.0</td>\n",
       "      <td>1.476140</td>\n",
       "    </tr>\n",
       "  </tbody>\n",
       "</table>\n",
       "<p>127 rows × 9 columns</p>\n",
       "</div>"
      ],
      "text/plain": [
       "     Female  Age  Total CPR duration  Mechanical compressions    BMI  \\\n",
       "0         0   69                  41                        0  31.64   \n",
       "1         0   63                  40                        0  28.69   \n",
       "2         1   63                  35                        0  31.25   \n",
       "3         0   67                  26                        0  28.41   \n",
       "6         0   42                  24                        0  22.31   \n",
       "..      ...  ...                 ...                      ...    ...   \n",
       "129       0   55                  34                        1  22.86   \n",
       "130       0   39                  43                        1  37.29   \n",
       "131       0   60                  18                        0  25.91   \n",
       "132       1   78                  14                        0  33.98   \n",
       "133       0   36                  31                        0  23.14   \n",
       "\n",
       "     Abdominal perimeter  Thorax perimeter  Heart Mass       CMR  \n",
       "0                   98.0             100.0       538.0  1.464942  \n",
       "1                  105.0             109.0       504.0  1.372362  \n",
       "2                  104.0             116.0       450.0  1.382913  \n",
       "3                   96.0             100.0       640.0  1.630989  \n",
       "6                   75.0              81.0       320.0  1.009623  \n",
       "..                   ...               ...         ...       ...  \n",
       "129                 87.0              93.0       401.0  1.172172  \n",
       "130                116.0             122.0       489.0  1.143565  \n",
       "131                 99.0             113.0       343.0  0.973989  \n",
       "132                112.0             107.0       486.0  1.416889  \n",
       "133                 69.0              79.0       479.0  1.476140  \n",
       "\n",
       "[127 rows x 9 columns]"
      ]
     },
     "execution_count": 322,
     "metadata": {},
     "output_type": "execute_result"
    }
   ],
   "source": [
    "data_vif"
   ]
  },
  {
   "cell_type": "code",
   "execution_count": 323,
   "id": "a80d6a0b",
   "metadata": {},
   "outputs": [
    {
     "data": {
      "text/html": [
       "<div>\n",
       "<style scoped>\n",
       "    .dataframe tbody tr th:only-of-type {\n",
       "        vertical-align: middle;\n",
       "    }\n",
       "\n",
       "    .dataframe tbody tr th {\n",
       "        vertical-align: top;\n",
       "    }\n",
       "\n",
       "    .dataframe thead th {\n",
       "        text-align: right;\n",
       "    }\n",
       "</style>\n",
       "<table border=\"1\" class=\"dataframe\">\n",
       "  <thead>\n",
       "    <tr style=\"text-align: right;\">\n",
       "      <th></th>\n",
       "      <th>feature</th>\n",
       "      <th>VIF</th>\n",
       "    </tr>\n",
       "  </thead>\n",
       "  <tbody>\n",
       "    <tr>\n",
       "      <th>0</th>\n",
       "      <td>Female</td>\n",
       "      <td>3.872054</td>\n",
       "    </tr>\n",
       "    <tr>\n",
       "      <th>1</th>\n",
       "      <td>Age</td>\n",
       "      <td>27.157489</td>\n",
       "    </tr>\n",
       "    <tr>\n",
       "      <th>2</th>\n",
       "      <td>Total CPR duration</td>\n",
       "      <td>7.168389</td>\n",
       "    </tr>\n",
       "    <tr>\n",
       "      <th>3</th>\n",
       "      <td>Mechanical compressions</td>\n",
       "      <td>1.458211</td>\n",
       "    </tr>\n",
       "    <tr>\n",
       "      <th>4</th>\n",
       "      <td>BMI</td>\n",
       "      <td>122.951383</td>\n",
       "    </tr>\n",
       "    <tr>\n",
       "      <th>5</th>\n",
       "      <td>Abdominal perimeter</td>\n",
       "      <td>259.557769</td>\n",
       "    </tr>\n",
       "    <tr>\n",
       "      <th>6</th>\n",
       "      <td>Thorax perimeter</td>\n",
       "      <td>200.010646</td>\n",
       "    </tr>\n",
       "    <tr>\n",
       "      <th>7</th>\n",
       "      <td>Heart Mass</td>\n",
       "      <td>150.389618</td>\n",
       "    </tr>\n",
       "    <tr>\n",
       "      <th>8</th>\n",
       "      <td>CMR</td>\n",
       "      <td>149.696100</td>\n",
       "    </tr>\n",
       "  </tbody>\n",
       "</table>\n",
       "</div>"
      ],
      "text/plain": [
       "                   feature         VIF\n",
       "0                   Female    3.872054\n",
       "1                      Age   27.157489\n",
       "2       Total CPR duration    7.168389\n",
       "3  Mechanical compressions    1.458211\n",
       "4                      BMI  122.951383\n",
       "5      Abdominal perimeter  259.557769\n",
       "6         Thorax perimeter  200.010646\n",
       "7               Heart Mass  150.389618\n",
       "8                      CMR  149.696100"
      ]
     },
     "execution_count": 323,
     "metadata": {},
     "output_type": "execute_result"
    }
   ],
   "source": [
    "vif_data"
   ]
  },
  {
   "cell_type": "markdown",
   "id": "9e675b7a",
   "metadata": {},
   "source": [
    "#### vif analysis\n",
    "This shows that, most of the varibales are highly corellated, whereas in case of femalae and male\n",
    "compression, data is binary so doesn´t show that much of influence."
   ]
  },
  {
   "cell_type": "code",
   "execution_count": 484,
   "id": "fac4d1ca",
   "metadata": {},
   "outputs": [
    {
     "data": {
      "text/plain": [
       "<AxesSubplot:>"
      ]
     },
     "execution_count": 484,
     "metadata": {},
     "output_type": "execute_result"
    },
    {
     "data": {
      "image/png": "[encoded data removed]",
      "text/plain": [
       "<Figure size 640x480 with 2 Axes>"
      ]
     },
     "metadata": {},
     "output_type": "display_data"
    }
   ],
   "source": [
    "sns.heatmap(data_vif.corr())"
   ]
  },
  {
   "cell_type": "markdown",
   "id": "93f2b0fd",
   "metadata": {},
   "source": [
    "### Decison tree Modellling\n",
    "\n",
    "___\n"
   ]
  },
  {
   "cell_type": "markdown",
   "id": "556e9d06",
   "metadata": {},
   "source": [
    "#### Clinically relevant variables\n",
    "1. Age\n",
    "2. Sex\n",
    "3. Total CPR time\n",
    "4. mechanical compressions\n",
    "5. Abdominal perimeter\n",
    "6. Thorax perimeter\n",
    "7. Heart Mass/CMR\n",
    "\n",
    "**Decision tree parameter**\n",
    "1. Depth 4\n",
    "2. Node splitting 30\n",
    "3. leaf splitting 4\n",
    "4. Gini impurity"
   ]
  },
  {
   "cell_type": "code",
   "execution_count": 324,
   "id": "c098284e",
   "metadata": {},
   "outputs": [],
   "source": [
    "import matplotlib.pyplot as plt\n",
    "import graphviz\n",
    "from collections import Counter\n",
    "import seaborn as sns\n",
    "import numpy as np"
   ]
  },
  {
   "cell_type": "code",
   "execution_count": 325,
   "id": "35640bf7",
   "metadata": {},
   "outputs": [],
   "source": [
    "from sklearn import tree\n",
    "from sklearn.tree import export_text"
   ]
  },
  {
   "cell_type": "code",
   "execution_count": 326,
   "id": "5556e515",
   "metadata": {},
   "outputs": [],
   "source": [
    "data.drop(\"Caso\",axis=1,inplace=True)"
   ]
  },
  {
   "cell_type": "code",
   "execution_count": 327,
   "id": "d3ce86ed",
   "metadata": {},
   "outputs": [
    {
     "data": {
      "text/plain": [
       "Female                      0\n",
       "Age                         0\n",
       "Total CPR duration          0\n",
       "Mechanical compressions     0\n",
       "BMI                        66\n",
       "Abdominal perimeter         7\n",
       "Thorax perimeter           12\n",
       "Heart Mass                  1\n",
       "CMR                         0\n",
       "SRD                         0\n",
       "dtype: int64"
      ]
     },
     "execution_count": 327,
     "metadata": {},
     "output_type": "execute_result"
    }
   ],
   "source": [
    "data.isna().sum()"
   ]
  },
  {
   "cell_type": "markdown",
   "id": "52ce14eb",
   "metadata": {},
   "source": [
    "### Filling NA value\n",
    "\n",
    "1. Fill the NA value with mean of the distribution.\n"
   ]
  },
  {
   "cell_type": "code",
   "execution_count": 331,
   "id": "fa096e33",
   "metadata": {},
   "outputs": [],
   "source": [
    "### Fill the NA value\n",
    "data[\"BMI\"].fillna(data[\"BMI\"].mean(),inplace=True)\n",
    "data[\"Abdominal perimeter\"].fillna(data[\"Abdominal perimeter\"].mean(),inplace=True)\n",
    "data[\"Thorax perimeter\"].fillna(data[\"Thorax perimeter\"].mean(),inplace=True)\n",
    "data[\"Heart Mass\"].fillna(data[\"Heart Mass\"].mean(),inplace=True)"
   ]
  },
  {
   "cell_type": "markdown",
   "id": "db00a80e",
   "metadata": {},
   "source": [
    "### Functions for model evaluation and plotting"
   ]
  },
  {
   "cell_type": "markdown",
   "id": "94d922c1",
   "metadata": {},
   "source": [
    "#### Single Evaluation of model"
   ]
  },
  {
   "cell_type": "code",
   "execution_count": 329,
   "id": "0470d5ae",
   "metadata": {},
   "outputs": [],
   "source": [
    "from sklearn.metrics import accuracy_score,f1_score,recall_score,precision_score,roc_auc_score,matthews_corrcoef\n",
    "\n",
    "def model_eval(model,x_train,x_test,y_train,y_test):\n",
    "    \n",
    "    \"\"\" \n",
    "    Model Eval take the model and data to return score on just one run\n",
    "    ,data can be reshulled befor input\n",
    "    \n",
    "    \"\"\"\n",
    "    \n",
    "    ## Accuracy\n",
    "    train_accuracy = accuracy_score(model.predict(X_train),y_train)\n",
    "    test_accuracy = accuracy_score(model.predict(X_test),y_test)\n",
    "\n",
    "    ## F1 score\n",
    "    train_f1 = f1_score(model.predict(X_train),y_train)\n",
    "    test_f1 = f1_score(model.predict(X_test),y_test)\n",
    "\n",
    "    ## Recall\n",
    "    train_recall = recall_score(model.predict(X_train),y_train)\n",
    "    test_recall = recall_score(model.predict(X_test),y_test)\n",
    "\n",
    "    ## Precision\n",
    "    train_precision = precision_score(model.predict(X_train),y_train)\n",
    "    test_precision = precision_score(model.predict(X_test),y_test)\n",
    "\n",
    "    ### ROC_AUC score\n",
    "    train_roc = roc_auc_score(model.predict(X_train),y_train)\n",
    "    test_roc = roc_auc_score(model.predict(X_test),y_test)\n",
    "\n",
    "    ### mcc Score \n",
    "    train_mcc = matthews_corrcoef(model.predict(X_train),y_train)\n",
    "    test_mcc = matthews_corrcoef(model.predict(X_test),y_test)\n",
    "\n",
    "\n",
    "    print(\"Accuracy: \",train_accuracy,\",\",test_accuracy)\n",
    "    print(\"F1: \",train_f1,\",\",test_f1)\n",
    "    print(\"Recall: \",train_recall,\",\",test_recall)\n",
    "    print(\"Precision: \",train_precision,\",\",test_precision)\n",
    "    print(\"ROC: \",train_roc,\",\",test_roc)\n",
    "    print(\"MCC: \",train_mcc,\",\",test_mcc)"
   ]
  },
  {
   "cell_type": "markdown",
   "id": "8ef9adfb",
   "metadata": {},
   "source": [
    "#### Evaluation of model on stratified loop"
   ]
  },
  {
   "cell_type": "code",
   "execution_count": 272,
   "id": "c0ca4beb",
   "metadata": {},
   "outputs": [],
   "source": [
    "### splitting the and training and evaluating at 5 fold\n",
    "from sklearn.model_selection import train_test_split, StratifiedKFold\n",
    "from sklearn.metrics import accuracy_score,f1_score,recall_score,precision_score,matthews_corrcoef,roc_auc_score\n",
    "\n",
    "\n",
    "def stratifiedEvaluation(classifier,X,Y,split):\n",
    "    \n",
    "    \"\"\" Split the data into multiple folds, train and test the model\n",
    "        on each folds, calculate the metrics as well.\n",
    "    \n",
    "    \"\"\"\n",
    "    X = np.array(X)\n",
    "    Y = np.array(Y)\n",
    "    \n",
    "    skf = StratifiedKFold(n_splits=split,shuffle=True,random_state=44444,)\n",
    "\n",
    "    ### Metrics container:\n",
    "\n",
    "    ## Accuracy\n",
    "    train_acc = []\n",
    "    test_acc =  []\n",
    "\n",
    "    ## F1 score\n",
    "    train_F1 = []\n",
    "    test_F1 =  []\n",
    "\n",
    "    ## Recall score\n",
    "    train_rec = []\n",
    "    test_rec =  []\n",
    "\n",
    "    ## Precision Score\n",
    "    train_prec = []\n",
    "    test_prec  = []\n",
    "\n",
    "    ## Matthe corre_coef\n",
    "    train_matt = []\n",
    "    test_matt =  []\n",
    "\n",
    "    ## roc_auc score\n",
    "    train_roc_ = []\n",
    "    test_roc_ = []\n",
    "\n",
    "\n",
    "    for train_index, test_index in skf.split(X, Y,):\n",
    "        X_train, X_test = X[train_index], X[test_index]\n",
    "        y_train, y_test = Y[train_index], Y[test_index]\n",
    "\n",
    "        ### Model Training\n",
    "        model = clf.fit(X_train,y_train)\n",
    "\n",
    "        ### Train and Test prediciton\n",
    "        train_pred = model.predict(X_train,)\n",
    "        test_pred  = model.predict(X_test,)\n",
    "\n",
    "\n",
    "        ### Metrics calculation\n",
    "\n",
    "        ### Accuracy\n",
    "        train_accuracy = accuracy_score(train_pred,y_train)\n",
    "        train_acc.append(train_accuracy)\n",
    "        test_accuracy = accuracy_score(test_pred,y_test)\n",
    "        test_acc.append(test_accuracy)\n",
    "\n",
    "        ### F1 score\n",
    "        train_f1 = f1_score(train_pred,y_train)\n",
    "        train_F1.append(train_f1)\n",
    "        test_f1 =  f1_score(test_pred,y_test)\n",
    "        test_F1.append(test_f1)\n",
    "\n",
    "        ### Recall_score\n",
    "        train_recall = recall_score(train_pred,y_train)\n",
    "        train_rec.append(train_recall)\n",
    "        test_recall = recall_score(test_pred,y_test)\n",
    "        test_rec.append(test_recall)\n",
    "\n",
    "        ### Precision score\n",
    "        train_precision = precision_score(train_pred,y_train)\n",
    "        train_prec.append(train_precision)\n",
    "        test_precision = precision_score(test_pred,y_test)\n",
    "        test_prec.append(test_precision)\n",
    "\n",
    "        ### Matthew corre_coef\n",
    "        train_mcc = matthews_corrcoef(train_pred,y_train)\n",
    "        train_matt.append(train_mcc)\n",
    "        test_mcc =  matthews_corrcoef(test_pred,y_test)\n",
    "        test_matt.append(test_mcc)\n",
    "\n",
    "        ### ROC_auc prediction\n",
    "        train_roc = roc_auc_score(train_pred,y_train)\n",
    "        train_roc_.append(train_roc)\n",
    "        test_roc =  roc_auc_score(test_pred,y_test)\n",
    "        test_roc_.append(test_roc)\n",
    "\n",
    "        print()\n",
    "\n",
    "        print(f\"\"\" accuracy_train: {train_accuracy}, accuracy_test: {test_accuracy}\n",
    "                   f1_train: {train_f1}, f1_test: {test_f1}\n",
    "                   recall_train: {train_recall},recall_test: {test_recall}\n",
    "                   precision_train: {train_precision}, precision_test: {test_precision}\n",
    "                   mcc_train: {train_mcc}, mcc_test: {test_mcc}\n",
    "                   roc_train : {train_roc},roc_test: {test_roc}\"\"\")\n",
    "        print()\n",
    "\n",
    "\n",
    "    print(\"Average Score---------------------------------------\")\n",
    "    print(f\"\"\"     accuracy_train: {np.mean(train_acc)}, accuracy_test: {np.mean(test_acc)}\n",
    "                   f1_train: {np.mean(train_F1)}, f1_test: {np.mean(test_F1)}\n",
    "                   recall_train: {np.mean(train_rec)},recall_test: {np.mean(test_rec)}\n",
    "                   precision_train: {np.mean(train_prec)}, precision_test: {np.mean(test_prec)}\n",
    "                   mcc_train: {np.mean(train_matt)}, mcc_test: {np.mean(test_matt)},\n",
    "                   roc_train: {np.mean(train_roc_)}, roc_test: {np.mean(test_roc_)}\"\"\")\n",
    "    \n",
    "    result_dict = {\"test_acc\":test_acc,\n",
    "                  \"test_F1\":test_F1,\n",
    "                  \"test_rec\":test_rec,\n",
    "                  \"test_prec\":test_prec,\n",
    "                  \"test_matt\":test_matt,\n",
    "                  \"test_roc\":test_roc_,}\n",
    "    \n",
    "    return result_dict"
   ]
  },
  {
   "cell_type": "code",
   "execution_count": 273,
   "id": "0973e4a1",
   "metadata": {},
   "outputs": [],
   "source": [
    "def MetricsPlotInput(test_acc,\n",
    "                test_F1,\n",
    "                test_rec,\n",
    "                test_prec,\n",
    "                test_matt,\n",
    "                test_roc):\n",
    "    \"\"\" \n",
    "    \n",
    "    calculate the mean and standard deviation of all metrics\n",
    "    \n",
    "    \"\"\"\n",
    "        \n",
    "    # Create lists for the plot\n",
    "    metrics= ['Accuracy',\n",
    "              'F1 score',\n",
    "              'Recall',\n",
    "              'Precision',\n",
    "              'MCC',\n",
    "              'ROC']\n",
    "\n",
    "    x_pos = np.arange(len(metrics))\n",
    "\n",
    "    CTEs = [np.mean(test_acc),\n",
    "            np.mean(test_F1),\n",
    "            np.mean(test_rec),\n",
    "            np.mean(test_prec),\n",
    "            np.mean(test_matt),\n",
    "            np.mean(test_roc)]\n",
    "\n",
    "    error = [np.std(test_acc),\n",
    "             np.std(test_F1),\n",
    "             np.std(test_rec),\n",
    "             np.std(test_prec),\n",
    "             np.std(test_matt),\n",
    "             np.std(test_roc)]\n",
    "    \n",
    "    return {\"metrics\":metrics,\n",
    "           \"x_pos\":x_pos,\n",
    "           \"CTEs\":CTEs,\n",
    "           \"error\":error}\n",
    "    \n",
    "    "
   ]
  },
  {
   "cell_type": "code",
   "execution_count": 274,
   "id": "3b915d94",
   "metadata": {},
   "outputs": [],
   "source": [
    "from matplotlib.pyplot import figure\n",
    "\n",
    "def plot(name,metrics,x_pos,CTEs,error):\n",
    "    figure(figsize=(20, 30), dpi=100)\n",
    "    sns.set_context(\"talk\")\n",
    "    fig, ax = plt.subplots()\n",
    "    ax.bar(x_pos, CTEs, yerr=error, align='center', alpha=0.5, ecolor='black', capsize=10)\n",
    "    \n",
    "    ax.set_ylabel('Metrics Score')\n",
    "    ax.set_xticks(x_pos)\n",
    "    plt.xticks(rotation = 45)\n",
    "    ax.set_xticklabels(metrics)\n",
    "    ax.set_title('Comparision of metrics with 95% CI')\n",
    "    ax.yaxis.grid(True)\n",
    "\n",
    "    # # Save the figure and show\n",
    "    plt.tight_layout()\n",
    "    plt.savefig(name)\n",
    "    plt.show()\n",
    "    "
   ]
  },
  {
   "cell_type": "code",
   "execution_count": 275,
   "id": "5f6f67e5",
   "metadata": {},
   "outputs": [],
   "source": [
    "## Plotting feature importance\n",
    "def plotFeatureImportance(model,columns,plot_name):\n",
    "    sns.set_context(\"poster\")\n",
    "    plt.figure(figsize=(35,30))\n",
    "    sns.barplot([x for x in X.columns], model2.feature_importances_,)\n",
    "    plt.xticks(rotation = 45) # Rotates X-Axis Ticks by 45-degrees\n",
    "    plt.title(\"Feature importance\")\n",
    "    plt.savefig(plot_name,dpi=100)\n",
    "    plt.show()"
   ]
  },
  {
   "cell_type": "code",
   "execution_count": 276,
   "id": "1b1da58d",
   "metadata": {},
   "outputs": [],
   "source": [
    "### OVERALL DATA"
   ]
  },
  {
   "cell_type": "code",
   "execution_count": 332,
   "id": "c08ee88a",
   "metadata": {},
   "outputs": [],
   "source": [
    "X = data.drop([\"SRD\"],axis=1) \n",
    "Y = pd.DataFrame(data[\"SRD\"])"
   ]
  },
  {
   "cell_type": "markdown",
   "id": "1fa886c2",
   "metadata": {},
   "source": [
    "#### With Heart mass"
   ]
  },
  {
   "cell_type": "code",
   "execution_count": 216,
   "id": "c17f113b",
   "metadata": {},
   "outputs": [
    {
     "data": {
      "text/plain": [
       "Index(['Female', 'Age', 'Total CPR duration', 'Mechanical compressions', 'BMI',\n",
       "       'Abdominal perimeter', 'Thorax perimeter', 'Heart Mass', 'CMR'],\n",
       "      dtype='object')"
      ]
     },
     "execution_count": 216,
     "metadata": {},
     "output_type": "execute_result"
    }
   ],
   "source": [
    "X.columns"
   ]
  },
  {
   "cell_type": "code",
   "execution_count": 217,
   "id": "3cda12b2",
   "metadata": {},
   "outputs": [],
   "source": [
    "### Dropping CMR\n",
    "X = X.drop([\"CMR\"],axis=1) "
   ]
  },
  {
   "cell_type": "code",
   "execution_count": 218,
   "id": "6671abf7",
   "metadata": {},
   "outputs": [],
   "source": [
    "## Building classifier with Heart mass\n",
    "clf = tree.DecisionTreeClassifier(max_depth=4,\n",
    "                                  criterion=\"gini\",\n",
    "                                  min_samples_split=30,\n",
    "                                  min_samples_leaf=4,\n",
    "                                  random_state=55)"
   ]
  },
  {
   "cell_type": "code",
   "execution_count": 219,
   "id": "ff242567",
   "metadata": {},
   "outputs": [
    {
     "name": "stdout",
     "output_type": "stream",
     "text": [
      "\n",
      " accuracy_train: 0.7293233082706767, accuracy_test: 0.5671641791044776\n",
      "                   f1_train: 0.8105263157894737, f1_test: 0.7070707070707071\n",
      "                   recall_train: 0.7475728155339806,recall_test: 0.625\n",
      "                   precision_train: 0.8850574712643678, precision_test: 0.813953488372093\n",
      "                   mcc_train: 0.363992292651441, mcc_test: -0.07901514560305704\n",
      "                   roc_train : 0.7071197411003237,roc_test: 0.44886363636363635\n",
      "\n",
      "\n",
      " accuracy_train: 0.7669172932330827, accuracy_test: 0.5074626865671642\n",
      "                   f1_train: 0.8248587570621468, f1_test: 0.5925925925925926\n",
      "                   recall_train: 0.8021978021978022,recall_test: 0.6486486486486487\n",
      "                   precision_train: 0.8488372093023255, precision_test: 0.5454545454545454\n",
      "                   mcc_train: 0.4790786577050403, mcc_test: -0.01887027590177345\n",
      "                   roc_train : 0.7463369963369964,roc_test: 0.490990990990991\n",
      "\n",
      "\n",
      " accuracy_train: 0.7014925373134329, accuracy_test: 0.5454545454545454\n",
      "                   f1_train: 0.7530864197530864, f1_test: 0.5945945945945946\n",
      "                   recall_train: 0.8133333333333334,recall_test: 0.7096774193548387\n",
      "                   precision_train: 0.7011494252873564, precision_test: 0.5116279069767442\n",
      "                   mcc_train: 0.3876639913059862, mcc_test: 0.11487722774872909\n",
      "                   roc_train : 0.6863276836158193,roc_test: 0.5548387096774194\n",
      "\n",
      "Average Score---------------------------------------\n",
      "     accuracy_train: 0.7325777129390642, accuracy_test: 0.5400271370420624\n",
      "                   f1_train: 0.7961571642015691, f1_test: 0.6314192980859649\n",
      "                   recall_train: 0.7877013170217054,recall_test: 0.6611086893344958\n",
      "                   precision_train: 0.8116813686180167, precision_test: 0.623678646934461\n",
      "                   mcc_train: 0.41024498055415587, mcc_test: 0.005663935414632865,\n",
      "                   roc_train: 0.7132614736843799, roc_test: 0.49823111234401557\n"
     ]
    }
   ],
   "source": [
    "scores = stratifiedEvaluation(classifier=clf,X=X,Y=Y,split=3)"
   ]
  },
  {
   "cell_type": "code",
   "execution_count": 220,
   "id": "16a95e0a",
   "metadata": {},
   "outputs": [],
   "source": [
    "plot_input = MetricsPlotInput(**scores)"
   ]
  },
  {
   "cell_type": "code",
   "execution_count": 222,
   "id": "1e99e3a5",
   "metadata": {},
   "outputs": [
    {
     "data": {
      "text/plain": [
       "<Figure size 2000x3000 with 0 Axes>"
      ]
     },
     "metadata": {},
     "output_type": "display_data"
    },
    {
     "data": {
      "image/png": "[encoded data removed]",
      "text/plain": [
       "<Figure size 640x480 with 1 Axes>"
      ]
     },
     "metadata": {},
     "output_type": "display_data"
    }
   ],
   "source": [
    "plot(name=\"test.png\",**plot_input)"
   ]
  },
  {
   "cell_type": "markdown",
   "id": "96b81871",
   "metadata": {},
   "source": [
    "### WITH CMR"
   ]
  },
  {
   "cell_type": "code",
   "execution_count": 246,
   "id": "99bf3138",
   "metadata": {},
   "outputs": [],
   "source": [
    "X = data.drop([\"SRD\"],axis=1) \n",
    "Y = pd.DataFrame(data[\"SRD\"])"
   ]
  },
  {
   "cell_type": "code",
   "execution_count": 247,
   "id": "1c20ca41",
   "metadata": {},
   "outputs": [
    {
     "data": {
      "text/plain": [
       "Index(['Female', 'Age', 'Total CPR duration', 'Mechanical compressions', 'BMI',\n",
       "       'Abdominal perimeter', 'Thorax perimeter', 'Heart Mass', 'CMR'],\n",
       "      dtype='object')"
      ]
     },
     "execution_count": 247,
     "metadata": {},
     "output_type": "execute_result"
    }
   ],
   "source": [
    "X.columns"
   ]
  },
  {
   "cell_type": "code",
   "execution_count": 249,
   "id": "747bbfca",
   "metadata": {},
   "outputs": [],
   "source": [
    "X.drop(\"Heart Mass\",inplace=True,axis=1)"
   ]
  },
  {
   "cell_type": "code",
   "execution_count": 252,
   "id": "291eefae",
   "metadata": {},
   "outputs": [],
   "source": [
    "## Building classifier with Heart mass\n",
    "clf = tree.DecisionTreeClassifier(max_depth=4,\n",
    "                                  criterion=\"gini\",\n",
    "                                  min_samples_split=30,\n",
    "                                  min_samples_leaf=4,\n",
    "                                  random_state=55)"
   ]
  },
  {
   "cell_type": "code",
   "execution_count": 253,
   "id": "aa380040",
   "metadata": {},
   "outputs": [
    {
     "name": "stdout",
     "output_type": "stream",
     "text": [
      "\n",
      " accuracy_train: 0.7293233082706767, accuracy_test: 0.5671641791044776\n",
      "                   f1_train: 0.8105263157894737, f1_test: 0.7070707070707071\n",
      "                   recall_train: 0.7475728155339806,recall_test: 0.625\n",
      "                   precision_train: 0.8850574712643678, precision_test: 0.813953488372093\n",
      "                   mcc_train: 0.363992292651441, mcc_test: -0.07901514560305704\n",
      "                   roc_train : 0.7071197411003237,roc_test: 0.44886363636363635\n",
      "\n",
      "\n",
      " accuracy_train: 0.7819548872180451, accuracy_test: 0.4626865671641791\n",
      "                   f1_train: 0.8415300546448087, f1_test: 0.5714285714285713\n",
      "                   recall_train: 0.7938144329896907,recall_test: 0.6\n",
      "                   precision_train: 0.8953488372093024, precision_test: 0.5454545454545454\n",
      "                   mcc_train: 0.5054633747543594, mcc_test: -0.1453923157761495\n",
      "                   roc_train : 0.7719072164948453,roc_test: 0.4296296296296297\n",
      "\n",
      "\n",
      " accuracy_train: 0.7313432835820896, accuracy_test: 0.6060606060606061\n",
      "                   f1_train: 0.7906976744186047, f1_test: 0.7045454545454545\n",
      "                   recall_train: 0.8,recall_test: 0.6888888888888889\n",
      "                   precision_train: 0.7816091954022989, precision_test: 0.7209302325581395\n",
      "                   mcc_train: 0.41605834481949694, mcc_test: 0.11481772268233142\n",
      "                   roc_train : 0.7061224489795919,roc_test: 0.5587301587301587\n",
      "\n",
      "Average Score---------------------------------------\n",
      "     accuracy_train: 0.7475404930236037, accuracy_test: 0.5453037841097542\n",
      "                   f1_train: 0.8142513482842957, f1_test: 0.6610149110149109\n",
      "                   recall_train: 0.780462416174557,recall_test: 0.637962962962963\n",
      "                   precision_train: 0.8540051679586563, precision_test: 0.693446088794926\n",
      "                   mcc_train: 0.42850467074176585, mcc_test: -0.03652991289895837,\n",
      "                   roc_train: 0.7283831355249203, roc_test: 0.47907447490780825\n"
     ]
    }
   ],
   "source": [
    "scores = stratifiedEvaluation(classifier=clf,X=X,Y=Y,split=3)"
   ]
  },
  {
   "cell_type": "code",
   "execution_count": 254,
   "id": "b02ebd5b",
   "metadata": {},
   "outputs": [],
   "source": [
    "plot_input = MetricsPlotInput(**scores)"
   ]
  },
  {
   "cell_type": "code",
   "execution_count": 255,
   "id": "1afbe7a9",
   "metadata": {},
   "outputs": [
    {
     "data": {
      "text/plain": [
       "<Figure size 2000x3000 with 0 Axes>"
      ]
     },
     "metadata": {},
     "output_type": "display_data"
    },
    {
     "data": {
      "image/png": "[encoded data removed]",
      "text/plain": [
       "<Figure size 640x480 with 1 Axes>"
      ]
     },
     "metadata": {},
     "output_type": "display_data"
    }
   ],
   "source": [
    "plot(name=\"metrics_with_CMR.png\",**plot_input)"
   ]
  },
  {
   "cell_type": "markdown",
   "id": "333f9bf7",
   "metadata": {},
   "source": [
    "### WIth signifcant variable\n",
    "\n",
    "1. Age\n",
    "2. Total CPR time\n",
    "3. Mechanical compression\n",
    "4. Abdominal perimeter\n",
    "5. Heart mass/CMR"
   ]
  },
  {
   "cell_type": "code",
   "execution_count": 304,
   "id": "24d59698",
   "metadata": {},
   "outputs": [
    {
     "data": {
      "text/plain": [
       "Index(['Female', 'Age', 'Total CPR duration', 'Mechanical compressions', 'BMI',\n",
       "       'Abdominal perimeter', 'Thorax perimeter', 'Heart Mass', 'CMR'],\n",
       "      dtype='object')"
      ]
     },
     "execution_count": 304,
     "metadata": {},
     "output_type": "execute_result"
    }
   ],
   "source": [
    "X.columns"
   ]
  },
  {
   "cell_type": "code",
   "execution_count": 306,
   "id": "cbd8d9ae",
   "metadata": {},
   "outputs": [],
   "source": [
    "X = data[[\"Age\",\"Total CPR duration\",\"Mechanical compressions\",\"Abdominal perimeter\",\"CMR\"]]\n",
    "Y = pd.DataFrame(data[\"SRD\"])"
   ]
  },
  {
   "cell_type": "markdown",
   "id": "bb96ca28",
   "metadata": {},
   "source": [
    "### With CMR"
   ]
  },
  {
   "cell_type": "code",
   "execution_count": 309,
   "id": "4ce365fd",
   "metadata": {},
   "outputs": [],
   "source": [
    "## Building classifier with Heart mass\n",
    "clf = tree.DecisionTreeClassifier(max_depth=4,\n",
    "                                  criterion=\"gini\",\n",
    "                                  min_samples_split=30,\n",
    "                                  min_samples_leaf=4,\n",
    "                                  random_state=55)"
   ]
  },
  {
   "cell_type": "code",
   "execution_count": 310,
   "id": "8ab63ed1",
   "metadata": {},
   "outputs": [
    {
     "name": "stdout",
     "output_type": "stream",
     "text": [
      "\n",
      " accuracy_train: 0.7293233082706767, accuracy_test: 0.5671641791044776\n",
      "                   f1_train: 0.8105263157894737, f1_test: 0.7070707070707071\n",
      "                   recall_train: 0.7475728155339806,recall_test: 0.625\n",
      "                   precision_train: 0.8850574712643678, precision_test: 0.813953488372093\n",
      "                   mcc_train: 0.363992292651441, mcc_test: -0.07901514560305704\n",
      "                   roc_train : 0.7071197411003237,roc_test: 0.44886363636363635\n",
      "\n",
      "\n",
      " accuracy_train: 0.7218045112781954, accuracy_test: 0.5373134328358209\n",
      "                   f1_train: 0.8042328042328043, f1_test: 0.6804123711340205\n",
      "                   recall_train: 0.7378640776699029,recall_test: 0.6226415094339622\n",
      "                   precision_train: 0.8837209302325582, precision_test: 0.75\n",
      "                   mcc_train: 0.35369801190718264, mcc_test: -0.13963463734532494\n",
      "                   roc_train : 0.7022653721682849,roc_test: 0.41846361185983827\n",
      "\n",
      "\n",
      " accuracy_train: 0.7313432835820896, accuracy_test: 0.5606060606060606\n",
      "                   f1_train: 0.7931034482758621, f1_test: 0.6741573033707865\n",
      "                   recall_train: 0.7931034482758621,recall_test: 0.6521739130434783\n",
      "                   precision_train: 0.7931034482758621, precision_test: 0.6976744186046512\n",
      "                   mcc_train: 0.4101247248716067, mcc_test: 0.0020967079224800526\n",
      "                   roc_train : 0.7050623624358034,roc_test: 0.5010869565217391\n",
      "\n",
      "Average Score---------------------------------------\n",
      "     accuracy_train: 0.7274903677103205, accuracy_test: 0.5550278908487863\n",
      "                   f1_train: 0.8026208560993799, f1_test: 0.6872134605251713\n",
      "                   recall_train: 0.7595134471599151,recall_test: 0.6332718074924802\n",
      "                   precision_train: 0.8539606165909294, precision_test: 0.7538759689922481\n",
      "                   mcc_train: 0.37593834314341007, mcc_test: -0.07218435834196732,\n",
      "                   roc_train: 0.704815825234804, roc_test: 0.4561380682484046\n"
     ]
    }
   ],
   "source": [
    "scores = stratifiedEvaluation(classifier=clf,X=X,Y=Y,split=3)"
   ]
  },
  {
   "cell_type": "code",
   "execution_count": 311,
   "id": "543569f1",
   "metadata": {},
   "outputs": [],
   "source": [
    "plot_input = MetricsPlotInput(**scores)"
   ]
  },
  {
   "cell_type": "code",
   "execution_count": 313,
   "id": "10e924b0",
   "metadata": {},
   "outputs": [
    {
     "data": {
      "text/plain": [
       "<Figure size 2000x3000 with 0 Axes>"
      ]
     },
     "metadata": {},
     "output_type": "display_data"
    },
    {
     "data": {
      "image/png": "[encoded data removed]",
      "text/plain": [
       "<Figure size 640x480 with 1 Axes>"
      ]
     },
     "metadata": {},
     "output_type": "display_data"
    }
   ],
   "source": [
    "plot(name=\"metrics_with_CMR(significant).png\",**plot_input)"
   ]
  },
  {
   "cell_type": "markdown",
   "id": "55ed9948",
   "metadata": {},
   "source": [
    "### With Heart Mass"
   ]
  },
  {
   "cell_type": "code",
   "execution_count": 333,
   "id": "cf5f84a9",
   "metadata": {},
   "outputs": [
    {
     "data": {
      "text/plain": [
       "Index(['Female', 'Age', 'Total CPR duration', 'Mechanical compressions', 'BMI',\n",
       "       'Abdominal perimeter', 'Thorax perimeter', 'Heart Mass', 'CMR'],\n",
       "      dtype='object')"
      ]
     },
     "execution_count": 333,
     "metadata": {},
     "output_type": "execute_result"
    }
   ],
   "source": [
    "X.columns"
   ]
  },
  {
   "cell_type": "code",
   "execution_count": 335,
   "id": "435f9172",
   "metadata": {},
   "outputs": [],
   "source": [
    "X = data[[\"Age\",\"Total CPR duration\",\"Mechanical compressions\",\"Abdominal perimeter\",\"Heart Mass\"]]\n",
    "Y = pd.DataFrame(data[\"SRD\"])"
   ]
  },
  {
   "cell_type": "code",
   "execution_count": 337,
   "id": "84000d05",
   "metadata": {},
   "outputs": [],
   "source": [
    "## Building classifier with Heart mass\n",
    "clf = tree.DecisionTreeClassifier(max_depth=4,\n",
    "                                  criterion=\"gini\",\n",
    "                                  min_samples_split=30,\n",
    "                                  min_samples_leaf=4,\n",
    "                                  random_state=55)"
   ]
  },
  {
   "cell_type": "code",
   "execution_count": 338,
   "id": "036f5e4f",
   "metadata": {},
   "outputs": [
    {
     "name": "stdout",
     "output_type": "stream",
     "text": [
      "\n",
      " accuracy_train: 0.7293233082706767, accuracy_test: 0.5671641791044776\n",
      "                   f1_train: 0.8105263157894737, f1_test: 0.7070707070707071\n",
      "                   recall_train: 0.7475728155339806,recall_test: 0.625\n",
      "                   precision_train: 0.8850574712643678, precision_test: 0.813953488372093\n",
      "                   mcc_train: 0.363992292651441, mcc_test: -0.07901514560305704\n",
      "                   roc_train : 0.7071197411003237,roc_test: 0.44886363636363635\n",
      "\n",
      "\n",
      " accuracy_train: 0.7518796992481203, accuracy_test: 0.6417910447761194\n",
      "                   f1_train: 0.8341708542713568, f1_test: 0.76\n",
      "                   recall_train: 0.7345132743362832,recall_test: 0.6785714285714286\n",
      "                   precision_train: 0.9651162790697675, precision_test: 0.8636363636363636\n",
      "                   mcc_train: 0.43706944188622343, mcc_test: 0.1038563941617703\n",
      "                   roc_train : 0.7922566371681415,roc_test: 0.5665584415584416\n",
      "\n",
      "\n",
      " accuracy_train: 0.6940298507462687, accuracy_test: 0.5303030303030303\n",
      "                   f1_train: 0.7759562841530055, f1_test: 0.6436781609195402\n",
      "                   recall_train: 0.7395833333333334,recall_test: 0.6363636363636364\n",
      "                   precision_train: 0.8160919540229885, precision_test: 0.6511627906976745\n",
      "                   mcc_train: 0.3008639534301364, mcc_test: -0.04496937504132879\n",
      "                   roc_train : 0.6592653508771931,roc_test: 0.4772727272727273\n",
      "\n",
      "Average Score---------------------------------------\n",
      "     accuracy_train: 0.7250776194216885, accuracy_test: 0.5797527513945424\n",
      "                   f1_train: 0.8068844847379454, f1_test: 0.7035829559967491\n",
      "                   recall_train: 0.7405564744011991,recall_test: 0.6466450216450217\n",
      "                   precision_train: 0.888755234785708, precision_test: 0.7762508809020437\n",
      "                   mcc_train: 0.36730856265593365, mcc_test: -0.006709375494205178,\n",
      "                   roc_train: 0.7195472430485528, roc_test: 0.4975649350649351\n"
     ]
    }
   ],
   "source": [
    "scores = stratifiedEvaluation(classifier=clf,X=X,Y=Y,split=3)"
   ]
  },
  {
   "cell_type": "code",
   "execution_count": 339,
   "id": "8e6e2cad",
   "metadata": {},
   "outputs": [],
   "source": [
    "plot_input = MetricsPlotInput(**scores)"
   ]
  },
  {
   "cell_type": "code",
   "execution_count": 340,
   "id": "13552542",
   "metadata": {},
   "outputs": [
    {
     "data": {
      "text/plain": [
       "<Figure size 2000x3000 with 0 Axes>"
      ]
     },
     "metadata": {},
     "output_type": "display_data"
    },
    {
     "data": {
      "image/png": "[encoded data removed]",
      "text/plain": [
       "<Figure size 640x480 with 1 Axes>"
      ]
     },
     "metadata": {},
     "output_type": "display_data"
    }
   ],
   "source": [
    "plot(name=\"metrics_with_HeartMass(significant).png\",**plot_input)"
   ]
  },
  {
   "cell_type": "markdown",
   "id": "9f1bf414",
   "metadata": {},
   "source": [
    "### Automatic selection\n",
    "\n",
    "In feature selection method, there are three types of methods has been used\n",
    "1. Filter based (Pearson correlation,chi_square test)\n",
    "2. Wrapper based (Recurive feature elimation)\n",
    "3. Embedded (Lassos and RF)"
   ]
  },
  {
   "cell_type": "code",
   "execution_count": 457,
   "id": "518f7be3",
   "metadata": {},
   "outputs": [],
   "source": [
    "### Pearson correlation test\n",
    "\n",
    "def cor_selector(X, y,num_feats):\n",
    "    cor_list = []\n",
    "    feature_name = X.columns.tolist()\n",
    "    # calculate the correlation with y for each feature\n",
    "    for i in X.columns.tolist():\n",
    "        cor = np.corrcoef(X[i], y)[0, 1]\n",
    "        cor_list.append(cor)\n",
    "    # replace NaN with 0\n",
    "    cor_list = [0 if np.isnan(i) else i for i in cor_list]\n",
    "    # feature name\n",
    "    cor_feature = X.iloc[:,np.argsort(np.abs(cor_list))[-num_feats:]].columns.tolist()\n",
    "    # feature selection? 0 for not select, 1 for select\n",
    "    cor_support = [True if i in cor_feature else False for i in feature_name]\n",
    "\n",
    "    print(str(len(cor_feature)), 'selected features')\n",
    "    \n",
    "    return cor_support"
   ]
  },
  {
   "cell_type": "code",
   "execution_count": 458,
   "id": "5ed394af",
   "metadata": {},
   "outputs": [],
   "source": [
    "### Chi square test\n",
    "\n",
    "from sklearn.feature_selection import SelectKBest\n",
    "from sklearn.feature_selection import chi2\n",
    "from sklearn.preprocessing import MinMaxScaler\n",
    "\n",
    "def Chi(X,y,num_feats):\n",
    "    \n",
    "    X_norm = MinMaxScaler().fit_transform(X)\n",
    "    chi_selector = SelectKBest(chi2, k=num_feats)\n",
    "    chi_selector.fit(X_norm, y)\n",
    "    chi_support = chi_selector.get_support()\n",
    "    chi_feature = X.loc[:,chi_support].columns.tolist()\n",
    "    print(str(len(chi_feature)), 'selected features')\n",
    "    \n",
    "    return chi_support"
   ]
  },
  {
   "cell_type": "code",
   "execution_count": 459,
   "id": "0fedc324",
   "metadata": {},
   "outputs": [],
   "source": [
    "### Recurive feature elimination\n",
    "\n",
    "from sklearn.feature_selection import RFE\n",
    "from sklearn.linear_model import LogisticRegression\n",
    "\n",
    "def rfe(X,y,num_feats):\n",
    "    rfe_selector = RFE(estimator=LogisticRegression(),\n",
    "                       n_features_to_select=num_feats,\n",
    "                       step=10,\n",
    "                       verbose=5)\n",
    "    \n",
    "    X_norm = MinMaxScaler().fit_transform(X)\n",
    "    rfe_selector.fit(X_norm, y)\n",
    "    rfe_support = rfe_selector.get_support()\n",
    "    rfe_feature = X.loc[:,rfe_support].columns.tolist()\n",
    "    print(str(len(rfe_feature)), 'selected features')\n",
    "    \n",
    "    return rfe_support"
   ]
  },
  {
   "cell_type": "code",
   "execution_count": 460,
   "id": "e5a7c9a2",
   "metadata": {},
   "outputs": [],
   "source": [
    "## Embedded Method\n",
    "\n",
    "from sklearn.feature_selection import SelectFromModel\n",
    "from sklearn.linear_model import LogisticRegression\n",
    "\n",
    "def EmbeddedLasso(X,y,num_feats):\n",
    "    \n",
    "    embeded_lr_selector = SelectFromModel(LogisticRegression(penalty=\"l2\"),\n",
    "                                          max_features=num_feats)\n",
    "    \n",
    "    X_norm = MinMaxScaler().fit_transform(X)\n",
    "    embeded_lr_selector.fit(X_norm, y)\n",
    "\n",
    "    embeded_lr_support = embeded_lr_selector.get_support()\n",
    "    \n",
    "    embeded_lr_feature = X.loc[:,embeded_lr_support].columns.tolist()\n",
    "    \n",
    "    print(str(len(embeded_lr_feature)), 'selected features')\n",
    "    \n",
    "    return embeded_lr_support"
   ]
  },
  {
   "cell_type": "code",
   "execution_count": 461,
   "id": "fe4e87fd",
   "metadata": {},
   "outputs": [],
   "source": [
    "from sklearn.feature_selection import SelectFromModel\n",
    "from sklearn.ensemble import RandomForestClassifier\n",
    "\n",
    "def EmbeddedRF(X,y,num_feats):\n",
    "    embeded_rf_selector = SelectFromModel(RandomForestClassifier(n_estimators=100),\n",
    "                                          max_features=num_feats)\n",
    "    embeded_rf_selector.fit(X, y)\n",
    "\n",
    "    embeded_rf_support = embeded_rf_selector.get_support()\n",
    "    embeded_rf_feature = X.loc[:,embeded_rf_support].columns.tolist()\n",
    "\n",
    "    print(str(len(embeded_rf_feature)), 'selected features')\n",
    "    \n",
    "    return embeded_rf_support"
   ]
  },
  {
   "cell_type": "code",
   "execution_count": 462,
   "id": "6114019e",
   "metadata": {},
   "outputs": [],
   "source": [
    "# put all selection together\n",
    "\n",
    "def featureSelectionFrame(X,y,num_feats):\n",
    "    \n",
    "    feature_name = list(X.columns)\n",
    "    \n",
    "    cor_support = cor_selector(X,y,num_feats)\n",
    "    chi_support = Chi(X,y,num_feats)\n",
    "    rfe_support  = rfe(X,y,num_feats)\n",
    "    embeded_lr_support = EmbeddedLasso(X,y,num_feats)\n",
    "    embeded_rf_support  = EmbeddedRF(X,y,num_feats)\n",
    "    \n",
    "    \n",
    "    assert len(cor_support) == len(chi_support) == len(rfe_support) == len(embeded_lr_support) == len(embeded_rf_support)\n",
    "    \n",
    "    feature_selection_df = pd.DataFrame({'Feature':feature_name, \n",
    "                                         'Pearson':cor_support, \n",
    "                                         'Chi-2':chi_support, \n",
    "                                         'RFE':rfe_support, \n",
    "                                         'Logistics':embeded_lr_support,\n",
    "                                         'Random Forest':embeded_rf_support,})\n",
    "\n",
    "    # count the selected times for each feature\n",
    "    feature_selection_df['Total'] = np.sum(feature_selection_df, axis=1)\n",
    "    # display the top 100\n",
    "    feature_selection_df = feature_selection_df.sort_values(['Total','Feature'] , ascending=False)\n",
    "    feature_selection_df.index = range(1, len(feature_selection_df)+1)\n",
    "    feature_selection_df.head(num_feats)\n",
    "    \n",
    "    return feature_selection_df\n",
    "    \n",
    "    "
   ]
  },
  {
   "cell_type": "code",
   "execution_count": 463,
   "id": "ec1431b9",
   "metadata": {},
   "outputs": [],
   "source": [
    "data = pd.read_excel(\"Decision Tree data.xlsx\")"
   ]
  },
  {
   "cell_type": "code",
   "execution_count": 464,
   "id": "abf3c7bf",
   "metadata": {},
   "outputs": [],
   "source": [
    "### Fill the NA value\n",
    "data[\"BMI\"].fillna(data[\"BMI\"].mean(),inplace=True)\n",
    "data[\"Abdominal perimeter\"].fillna(data[\"Abdominal perimeter\"].mean(),inplace=True)\n",
    "data[\"Thorax perimeter\"].fillna(data[\"Thorax perimeter\"].mean(),inplace=True)\n",
    "data[\"Heart Mass\"].fillna(data[\"Heart Mass\"].mean(),inplace=True)"
   ]
  },
  {
   "cell_type": "code",
   "execution_count": 465,
   "id": "40a5b5f6",
   "metadata": {},
   "outputs": [],
   "source": [
    "data.drop(\"Caso\",axis=1,inplace=True)"
   ]
  },
  {
   "cell_type": "code",
   "execution_count": 466,
   "id": "1886b389",
   "metadata": {},
   "outputs": [],
   "source": [
    "X = data.drop(\"SRD\",axis=1)\n",
    "Y = data[\"SRD\"]"
   ]
  },
  {
   "cell_type": "code",
   "execution_count": 471,
   "id": "389fd88b",
   "metadata": {},
   "outputs": [
    {
     "name": "stdout",
     "output_type": "stream",
     "text": [
      "5 selected features\n",
      "5 selected features\n",
      "Fitting estimator with 9 features.\n",
      "5 selected features\n",
      "4 selected features\n",
      "5 selected features\n",
      "9 9 9 9 9\n"
     ]
    },
    {
     "name": "stderr",
     "output_type": "stream",
     "text": [
      "C:\\Users\\saurav\\anaconda3\\lib\\site-packages\\numpy\\core\\fromnumeric.py:84: FutureWarning: Dropping of nuisance columns in DataFrame reductions (with 'numeric_only=None') is deprecated; in a future version this will raise TypeError.  Select only valid columns before calling the reduction.\n",
      "  return reduction(axis=axis, out=out, **passkwargs)\n"
     ]
    }
   ],
   "source": [
    "frame  = featureSelectionFrame(X=X,y=Y,num_feats=5)"
   ]
  },
  {
   "cell_type": "code",
   "execution_count": 472,
   "id": "a1c7a1aa",
   "metadata": {},
   "outputs": [
    {
     "data": {
      "text/html": [
       "<div>\n",
       "<style scoped>\n",
       "    .dataframe tbody tr th:only-of-type {\n",
       "        vertical-align: middle;\n",
       "    }\n",
       "\n",
       "    .dataframe tbody tr th {\n",
       "        vertical-align: top;\n",
       "    }\n",
       "\n",
       "    .dataframe thead th {\n",
       "        text-align: right;\n",
       "    }\n",
       "</style>\n",
       "<table border=\"1\" class=\"dataframe\">\n",
       "  <thead>\n",
       "    <tr style=\"text-align: right;\">\n",
       "      <th></th>\n",
       "      <th>Feature</th>\n",
       "      <th>Pearson</th>\n",
       "      <th>Chi-2</th>\n",
       "      <th>RFE</th>\n",
       "      <th>Logistics</th>\n",
       "      <th>Random Forest</th>\n",
       "      <th>Total</th>\n",
       "    </tr>\n",
       "  </thead>\n",
       "  <tbody>\n",
       "    <tr>\n",
       "      <th>1</th>\n",
       "      <td>Age</td>\n",
       "      <td>True</td>\n",
       "      <td>True</td>\n",
       "      <td>True</td>\n",
       "      <td>True</td>\n",
       "      <td>True</td>\n",
       "      <td>5</td>\n",
       "    </tr>\n",
       "    <tr>\n",
       "      <th>2</th>\n",
       "      <td>Abdominal perimeter</td>\n",
       "      <td>True</td>\n",
       "      <td>True</td>\n",
       "      <td>True</td>\n",
       "      <td>True</td>\n",
       "      <td>True</td>\n",
       "      <td>5</td>\n",
       "    </tr>\n",
       "    <tr>\n",
       "      <th>3</th>\n",
       "      <td>Mechanical compressions</td>\n",
       "      <td>True</td>\n",
       "      <td>True</td>\n",
       "      <td>True</td>\n",
       "      <td>True</td>\n",
       "      <td>False</td>\n",
       "      <td>4</td>\n",
       "    </tr>\n",
       "    <tr>\n",
       "      <th>4</th>\n",
       "      <td>Total CPR duration</td>\n",
       "      <td>True</td>\n",
       "      <td>True</td>\n",
       "      <td>True</td>\n",
       "      <td>False</td>\n",
       "      <td>False</td>\n",
       "      <td>3</td>\n",
       "    </tr>\n",
       "    <tr>\n",
       "      <th>5</th>\n",
       "      <td>Heart Mass</td>\n",
       "      <td>True</td>\n",
       "      <td>True</td>\n",
       "      <td>False</td>\n",
       "      <td>False</td>\n",
       "      <td>True</td>\n",
       "      <td>3</td>\n",
       "    </tr>\n",
       "    <tr>\n",
       "      <th>6</th>\n",
       "      <td>BMI</td>\n",
       "      <td>False</td>\n",
       "      <td>False</td>\n",
       "      <td>True</td>\n",
       "      <td>True</td>\n",
       "      <td>False</td>\n",
       "      <td>2</td>\n",
       "    </tr>\n",
       "    <tr>\n",
       "      <th>7</th>\n",
       "      <td>Thorax perimeter</td>\n",
       "      <td>False</td>\n",
       "      <td>False</td>\n",
       "      <td>False</td>\n",
       "      <td>False</td>\n",
       "      <td>True</td>\n",
       "      <td>1</td>\n",
       "    </tr>\n",
       "    <tr>\n",
       "      <th>8</th>\n",
       "      <td>CMR</td>\n",
       "      <td>False</td>\n",
       "      <td>False</td>\n",
       "      <td>False</td>\n",
       "      <td>False</td>\n",
       "      <td>True</td>\n",
       "      <td>1</td>\n",
       "    </tr>\n",
       "    <tr>\n",
       "      <th>9</th>\n",
       "      <td>Female</td>\n",
       "      <td>False</td>\n",
       "      <td>False</td>\n",
       "      <td>False</td>\n",
       "      <td>False</td>\n",
       "      <td>False</td>\n",
       "      <td>0</td>\n",
       "    </tr>\n",
       "  </tbody>\n",
       "</table>\n",
       "</div>"
      ],
      "text/plain": [
       "                   Feature  Pearson  Chi-2    RFE  Logistics  Random Forest  \\\n",
       "1                      Age     True   True   True       True           True   \n",
       "2      Abdominal perimeter     True   True   True       True           True   \n",
       "3  Mechanical compressions     True   True   True       True          False   \n",
       "4       Total CPR duration     True   True   True      False          False   \n",
       "5               Heart Mass     True   True  False      False           True   \n",
       "6                      BMI    False  False   True       True          False   \n",
       "7         Thorax perimeter    False  False  False      False           True   \n",
       "8                      CMR    False  False  False      False           True   \n",
       "9                   Female    False  False  False      False          False   \n",
       "\n",
       "   Total  \n",
       "1      5  \n",
       "2      5  \n",
       "3      4  \n",
       "4      3  \n",
       "5      3  \n",
       "6      2  \n",
       "7      1  \n",
       "8      1  \n",
       "9      0  "
      ]
     },
     "execution_count": 472,
     "metadata": {},
     "output_type": "execute_result"
    }
   ],
   "source": [
    "frame"
   ]
  },
  {
   "cell_type": "markdown",
   "id": "35a858bb",
   "metadata": {},
   "source": [
    "### Decision tree trained on automated selection feature"
   ]
  },
  {
   "cell_type": "code",
   "execution_count": 473,
   "id": "1b1f3c64",
   "metadata": {},
   "outputs": [],
   "source": [
    "data = pd.read_excel(\"Decision Tree data.xlsx\")"
   ]
  },
  {
   "cell_type": "code",
   "execution_count": 474,
   "id": "95dba8c3",
   "metadata": {},
   "outputs": [],
   "source": [
    "### Fill the NA value\n",
    "data[\"BMI\"].fillna(data[\"BMI\"].mean(),inplace=True)\n",
    "data[\"Abdominal perimeter\"].fillna(data[\"Abdominal perimeter\"].mean(),inplace=True)\n",
    "data[\"Thorax perimeter\"].fillna(data[\"Thorax perimeter\"].mean(),inplace=True)\n",
    "data[\"Heart Mass\"].fillna(data[\"Heart Mass\"].mean(),inplace=True)"
   ]
  },
  {
   "cell_type": "code",
   "execution_count": 475,
   "id": "d3c831be",
   "metadata": {},
   "outputs": [],
   "source": [
    "data.drop(\"Caso\",axis=1,inplace=True)"
   ]
  },
  {
   "cell_type": "code",
   "execution_count": 477,
   "id": "f4955976",
   "metadata": {},
   "outputs": [],
   "source": [
    "X = data[[\"Age\",\"Total CPR duration\",\"Mechanical compressions\",\"Abdominal perimeter\",\"Heart Mass\",\"BMI\"]]\n",
    "Y = data[\"SRD\"]"
   ]
  },
  {
   "cell_type": "code",
   "execution_count": 478,
   "id": "f4cc955b",
   "metadata": {},
   "outputs": [],
   "source": [
    "## Building classifier with Heart mass\n",
    "clf = tree.DecisionTreeClassifier(max_depth=4,\n",
    "                                  criterion=\"gini\",\n",
    "                                  min_samples_split=30,\n",
    "                                  min_samples_leaf=4,\n",
    "                                  random_state=55)"
   ]
  },
  {
   "cell_type": "code",
   "execution_count": 479,
   "id": "d46eb8da",
   "metadata": {},
   "outputs": [
    {
     "name": "stdout",
     "output_type": "stream",
     "text": [
      "\n",
      " accuracy_train: 0.7293233082706767, accuracy_test: 0.5671641791044776\n",
      "                   f1_train: 0.8105263157894737, f1_test: 0.7070707070707071\n",
      "                   recall_train: 0.7475728155339806,recall_test: 0.625\n",
      "                   precision_train: 0.8850574712643678, precision_test: 0.813953488372093\n",
      "                   mcc_train: 0.363992292651441, mcc_test: -0.07901514560305704\n",
      "                   roc_train : 0.7071197411003237,roc_test: 0.44886363636363635\n",
      "\n",
      "\n",
      " accuracy_train: 0.7593984962406015, accuracy_test: 0.5522388059701493\n",
      "                   f1_train: 0.8315789473684211, f1_test: 0.6808510638297872\n",
      "                   recall_train: 0.7596153846153846,recall_test: 0.64\n",
      "                   precision_train: 0.9186046511627907, precision_test: 0.7272727272727273\n",
      "                   mcc_train: 0.4476567679720179, mcc_test: -0.06037933254944513\n",
      "                   roc_train : 0.7591180371352785,roc_test: 0.46705882352941175\n",
      "\n",
      "\n",
      " accuracy_train: 0.7014925373134329, accuracy_test: 0.5454545454545454\n",
      "                   f1_train: 0.7530864197530864, f1_test: 0.5945945945945946\n",
      "                   recall_train: 0.8133333333333334,recall_test: 0.7096774193548387\n",
      "                   precision_train: 0.7011494252873564, precision_test: 0.5116279069767442\n",
      "                   mcc_train: 0.3876639913059862, mcc_test: 0.11487722774872909\n",
      "                   roc_train : 0.6863276836158193,roc_test: 0.5548387096774194\n",
      "\n",
      "Average Score---------------------------------------\n",
      "     accuracy_train: 0.7300714472749036, accuracy_test: 0.5549525101763907\n",
      "                   f1_train: 0.7983972276369937, f1_test: 0.660838788498363\n",
      "                   recall_train: 0.7735071778275663,recall_test: 0.658225806451613\n",
      "                   precision_train: 0.834937182571505, precision_test: 0.6842847075405215\n",
      "                   mcc_train: 0.39977101730981507, mcc_test: -0.008172416801257692,\n",
      "                   roc_train: 0.7175218206171405, roc_test: 0.4902537231901558\n"
     ]
    }
   ],
   "source": [
    "scores = stratifiedEvaluation(classifier=clf,X=X,Y=Y,split=3)"
   ]
  },
  {
   "cell_type": "code",
   "execution_count": 480,
   "id": "d5c9ab50",
   "metadata": {},
   "outputs": [],
   "source": [
    "plot_input = MetricsPlotInput(**scores)"
   ]
  },
  {
   "cell_type": "code",
   "execution_count": 481,
   "id": "a49e72a6",
   "metadata": {},
   "outputs": [
    {
     "data": {
      "text/plain": [
       "<Figure size 2000x3000 with 0 Axes>"
      ]
     },
     "metadata": {},
     "output_type": "display_data"
    },
    {
     "data": {
      "image/png": "[encoded data removed]",
      "text/plain": [
       "<Figure size 640x480 with 1 Axes>"
      ]
     },
     "metadata": {},
     "output_type": "display_data"
    }
   ],
   "source": [
    "plot(name=\"Automated_features.png\",**plot_input)"
   ]
  },
  {
   "cell_type": "code",
   "execution_count": null,
   "id": "c69da102",
   "metadata": {},
   "outputs": [],
   "source": []
  }
 ],
 "metadata": {
  "kernelspec": {
   "display_name": "Python 3 (ipykernel)",
   "language": "python",
   "name": "python3"
  },
  "language_info": {
   "codemirror_mode": {
    "name": "ipython",
    "version": 3
   },
   "file_extension": ".py",
   "mimetype": "text/x-python",
   "name": "python",
   "nbconvert_exporter": "python",
   "pygments_lexer": "ipython3",
   "version": "3.9.13"
  }
 },
 "nbformat": 4,
 "nbformat_minor": 5
}
